{
 "cells": [
  {
   "cell_type": "markdown",
   "id": "e6405671",
   "metadata": {
    "id": "e6405671"
   },
   "source": [
    "# Genetic Algorithm and ML Classification"
   ]
  },
  {
   "cell_type": "code",
   "execution_count": 1,
   "id": "6ca220f6",
   "metadata": {
    "id": "6ca220f6"
   },
   "outputs": [],
   "source": [
    "### Importing relevant libraries ###\n",
    "\n",
    "import random\n",
    "import operator\n",
    "import pandas as pd\n",
    "import numpy as np\n",
    "import matplotlib.pyplot as plt\n",
    "\n",
    "from sklearn.preprocessing import MinMaxScaler\n",
    "from sklearn.model_selection import KFold, StratifiedKFold, cross_val_score, train_test_split, GridSearchCV\n",
    "from sklearn.pipeline import Pipeline\n",
    "from sklearn.svm import SVC\n",
    "from sklearn.linear_model import LogisticRegression\n",
    "from sklearn.ensemble import AdaBoostClassifier, GradientBoostingClassifier, RandomForestClassifier\n",
    "from sklearn.tree import DecisionTreeClassifier\n",
    "from sklearn.neighbors import KNeighborsClassifier\n",
    "from sklearn import metrics\n",
    "from sklearn.metrics import accuracy_score, precision_score, recall_score, f1_score, confusion_matrix"
   ]
  },
  {
   "cell_type": "code",
   "execution_count": 2,
   "id": "e7c53643",
   "metadata": {
    "colab": {
     "base_uri": "https://localhost:8080/",
     "height": 226
    },
    "id": "e7c53643",
    "outputId": "093c883f-8342-4912-c5d9-8c260a0e8917",
    "scrolled": true
   },
   "outputs": [
    {
     "data": {
      "text/html": [
       "<div>\n",
       "<style scoped>\n",
       "    .dataframe tbody tr th:only-of-type {\n",
       "        vertical-align: middle;\n",
       "    }\n",
       "\n",
       "    .dataframe tbody tr th {\n",
       "        vertical-align: top;\n",
       "    }\n",
       "\n",
       "    .dataframe thead th {\n",
       "        text-align: right;\n",
       "    }\n",
       "</style>\n",
       "<table border=\"1\" class=\"dataframe\">\n",
       "  <thead>\n",
       "    <tr style=\"text-align: right;\">\n",
       "      <th></th>\n",
       "      <th>age</th>\n",
       "      <th>sex</th>\n",
       "      <th>chest_pain_type</th>\n",
       "      <th>resting_bp</th>\n",
       "      <th>cholesterol</th>\n",
       "      <th>fasting_blood_sugar</th>\n",
       "      <th>restecg</th>\n",
       "      <th>max_heart_rate</th>\n",
       "      <th>ex_induced_angina</th>\n",
       "      <th>st_depression</th>\n",
       "      <th>slope</th>\n",
       "      <th>thalassemia</th>\n",
       "      <th>goal</th>\n",
       "    </tr>\n",
       "  </thead>\n",
       "  <tbody>\n",
       "    <tr>\n",
       "      <th>0</th>\n",
       "      <td>63</td>\n",
       "      <td>1</td>\n",
       "      <td>1</td>\n",
       "      <td>145.0</td>\n",
       "      <td>233.0</td>\n",
       "      <td>1.0</td>\n",
       "      <td>2.0</td>\n",
       "      <td>150.0</td>\n",
       "      <td>0.0</td>\n",
       "      <td>2.3</td>\n",
       "      <td>3.0</td>\n",
       "      <td>2.0</td>\n",
       "      <td>0</td>\n",
       "    </tr>\n",
       "    <tr>\n",
       "      <th>1</th>\n",
       "      <td>67</td>\n",
       "      <td>1</td>\n",
       "      <td>4</td>\n",
       "      <td>160.0</td>\n",
       "      <td>286.0</td>\n",
       "      <td>0.0</td>\n",
       "      <td>2.0</td>\n",
       "      <td>108.0</td>\n",
       "      <td>1.0</td>\n",
       "      <td>1.5</td>\n",
       "      <td>2.0</td>\n",
       "      <td>1.0</td>\n",
       "      <td>1</td>\n",
       "    </tr>\n",
       "    <tr>\n",
       "      <th>2</th>\n",
       "      <td>67</td>\n",
       "      <td>1</td>\n",
       "      <td>4</td>\n",
       "      <td>120.0</td>\n",
       "      <td>229.0</td>\n",
       "      <td>0.0</td>\n",
       "      <td>2.0</td>\n",
       "      <td>129.0</td>\n",
       "      <td>1.0</td>\n",
       "      <td>2.6</td>\n",
       "      <td>2.0</td>\n",
       "      <td>3.0</td>\n",
       "      <td>1</td>\n",
       "    </tr>\n",
       "    <tr>\n",
       "      <th>3</th>\n",
       "      <td>37</td>\n",
       "      <td>1</td>\n",
       "      <td>3</td>\n",
       "      <td>130.0</td>\n",
       "      <td>250.0</td>\n",
       "      <td>0.0</td>\n",
       "      <td>0.0</td>\n",
       "      <td>187.0</td>\n",
       "      <td>0.0</td>\n",
       "      <td>3.5</td>\n",
       "      <td>3.0</td>\n",
       "      <td>1.0</td>\n",
       "      <td>0</td>\n",
       "    </tr>\n",
       "    <tr>\n",
       "      <th>4</th>\n",
       "      <td>41</td>\n",
       "      <td>0</td>\n",
       "      <td>2</td>\n",
       "      <td>130.0</td>\n",
       "      <td>204.0</td>\n",
       "      <td>0.0</td>\n",
       "      <td>2.0</td>\n",
       "      <td>172.0</td>\n",
       "      <td>0.0</td>\n",
       "      <td>1.4</td>\n",
       "      <td>1.0</td>\n",
       "      <td>1.0</td>\n",
       "      <td>0</td>\n",
       "    </tr>\n",
       "  </tbody>\n",
       "</table>\n",
       "</div>"
      ],
      "text/plain": [
       "   age  sex  chest_pain_type  resting_bp  cholesterol  fasting_blood_sugar  \\\n",
       "0   63    1                1       145.0        233.0                  1.0   \n",
       "1   67    1                4       160.0        286.0                  0.0   \n",
       "2   67    1                4       120.0        229.0                  0.0   \n",
       "3   37    1                3       130.0        250.0                  0.0   \n",
       "4   41    0                2       130.0        204.0                  0.0   \n",
       "\n",
       "   restecg  max_heart_rate  ex_induced_angina  st_depression  slope  \\\n",
       "0      2.0           150.0                0.0            2.3    3.0   \n",
       "1      2.0           108.0                1.0            1.5    2.0   \n",
       "2      2.0           129.0                1.0            2.6    2.0   \n",
       "3      0.0           187.0                0.0            3.5    3.0   \n",
       "4      2.0           172.0                0.0            1.4    1.0   \n",
       "\n",
       "   thalassemia  goal  \n",
       "0          2.0     0  \n",
       "1          1.0     1  \n",
       "2          3.0     1  \n",
       "3          1.0     0  \n",
       "4          1.0     0  "
      ]
     },
     "execution_count": 2,
     "metadata": {},
     "output_type": "execute_result"
    }
   ],
   "source": [
    "### Importing the Cleaned Heart Disease dataset\n",
    "\n",
    "dataset = pd.read_csv('cleaned_heart_disease_dataset.csv')\n",
    "dataset.head()"
   ]
  },
  {
   "cell_type": "code",
   "execution_count": 3,
   "id": "30876d76",
   "metadata": {
    "colab": {
     "base_uri": "https://localhost:8080/"
    },
    "id": "30876d76",
    "outputId": "70323257-fa6a-4332-f160-565a25c2b327"
   },
   "outputs": [
    {
     "data": {
      "text/plain": [
       "(828, 13)"
      ]
     },
     "execution_count": 3,
     "metadata": {},
     "output_type": "execute_result"
    }
   ],
   "source": [
    "### Returning dimensionality of the Dataset ###\n",
    "\n",
    "dataset.shape"
   ]
  },
  {
   "cell_type": "code",
   "execution_count": 4,
   "id": "63057295",
   "metadata": {
    "colab": {
     "base_uri": "https://localhost:8080/"
    },
    "id": "63057295",
    "outputId": "9ec9dfcb-e4c2-4bd5-8ac2-26198329974f"
   },
   "outputs": [
    {
     "name": "stdout",
     "output_type": "stream",
     "text": [
      "<class 'pandas.core.frame.DataFrame'>\n",
      "RangeIndex: 828 entries, 0 to 827\n",
      "Data columns (total 13 columns):\n",
      " #   Column               Non-Null Count  Dtype  \n",
      "---  ------               --------------  -----  \n",
      " 0   age                  828 non-null    int64  \n",
      " 1   sex                  828 non-null    int64  \n",
      " 2   chest_pain_type      828 non-null    int64  \n",
      " 3   resting_bp           828 non-null    float64\n",
      " 4   cholesterol          828 non-null    float64\n",
      " 5   fasting_blood_sugar  828 non-null    float64\n",
      " 6   restecg              828 non-null    float64\n",
      " 7   max_heart_rate       828 non-null    float64\n",
      " 8   ex_induced_angina    828 non-null    float64\n",
      " 9   st_depression        828 non-null    float64\n",
      " 10  slope                828 non-null    float64\n",
      " 11  thalassemia          828 non-null    float64\n",
      " 12  goal                 828 non-null    int64  \n",
      "dtypes: float64(9), int64(4)\n",
      "memory usage: 84.2 KB\n"
     ]
    }
   ],
   "source": [
    "### Printing information regarding the heart disease dataset ###\n",
    "\n",
    "dataset.info()"
   ]
  },
  {
   "cell_type": "code",
   "execution_count": 5,
   "id": "1509c5ea",
   "metadata": {
    "colab": {
     "base_uri": "https://localhost:8080/",
     "height": 320
    },
    "id": "1509c5ea",
    "outputId": "67157b15-ead9-4e1c-a558-d7e90c99e0e2",
    "scrolled": true
   },
   "outputs": [
    {
     "data": {
      "text/html": [
       "<div>\n",
       "<style scoped>\n",
       "    .dataframe tbody tr th:only-of-type {\n",
       "        vertical-align: middle;\n",
       "    }\n",
       "\n",
       "    .dataframe tbody tr th {\n",
       "        vertical-align: top;\n",
       "    }\n",
       "\n",
       "    .dataframe thead th {\n",
       "        text-align: right;\n",
       "    }\n",
       "</style>\n",
       "<table border=\"1\" class=\"dataframe\">\n",
       "  <thead>\n",
       "    <tr style=\"text-align: right;\">\n",
       "      <th></th>\n",
       "      <th>age</th>\n",
       "      <th>sex</th>\n",
       "      <th>chest_pain_type</th>\n",
       "      <th>resting_bp</th>\n",
       "      <th>cholesterol</th>\n",
       "      <th>fasting_blood_sugar</th>\n",
       "      <th>restecg</th>\n",
       "      <th>max_heart_rate</th>\n",
       "      <th>ex_induced_angina</th>\n",
       "      <th>st_depression</th>\n",
       "      <th>slope</th>\n",
       "      <th>thalassemia</th>\n",
       "      <th>goal</th>\n",
       "    </tr>\n",
       "  </thead>\n",
       "  <tbody>\n",
       "    <tr>\n",
       "      <th>count</th>\n",
       "      <td>828.000000</td>\n",
       "      <td>828.000000</td>\n",
       "      <td>828.000000</td>\n",
       "      <td>828.000000</td>\n",
       "      <td>828.000000</td>\n",
       "      <td>828.000000</td>\n",
       "      <td>828.000000</td>\n",
       "      <td>828.000000</td>\n",
       "      <td>828.000000</td>\n",
       "      <td>828.000000</td>\n",
       "      <td>828.000000</td>\n",
       "      <td>828.000000</td>\n",
       "      <td>828.000000</td>\n",
       "    </tr>\n",
       "    <tr>\n",
       "      <th>mean</th>\n",
       "      <td>53.300725</td>\n",
       "      <td>0.799517</td>\n",
       "      <td>3.229469</td>\n",
       "      <td>129.724638</td>\n",
       "      <td>237.662440</td>\n",
       "      <td>0.143720</td>\n",
       "      <td>0.584541</td>\n",
       "      <td>137.833903</td>\n",
       "      <td>0.346618</td>\n",
       "      <td>0.777415</td>\n",
       "      <td>1.828502</td>\n",
       "      <td>1.451691</td>\n",
       "      <td>0.539855</td>\n",
       "    </tr>\n",
       "    <tr>\n",
       "      <th>std</th>\n",
       "      <td>9.481231</td>\n",
       "      <td>0.400604</td>\n",
       "      <td>0.932032</td>\n",
       "      <td>15.125961</td>\n",
       "      <td>38.908621</td>\n",
       "      <td>0.351017</td>\n",
       "      <td>0.801361</td>\n",
       "      <td>25.090035</td>\n",
       "      <td>0.476181</td>\n",
       "      <td>0.957354</td>\n",
       "      <td>0.510645</td>\n",
       "      <td>0.807363</td>\n",
       "      <td>0.498710</td>\n",
       "    </tr>\n",
       "    <tr>\n",
       "      <th>min</th>\n",
       "      <td>28.000000</td>\n",
       "      <td>0.000000</td>\n",
       "      <td>1.000000</td>\n",
       "      <td>80.000000</td>\n",
       "      <td>85.000000</td>\n",
       "      <td>0.000000</td>\n",
       "      <td>0.000000</td>\n",
       "      <td>62.471818</td>\n",
       "      <td>0.000000</td>\n",
       "      <td>-2.600000</td>\n",
       "      <td>1.000000</td>\n",
       "      <td>1.000000</td>\n",
       "      <td>0.000000</td>\n",
       "    </tr>\n",
       "    <tr>\n",
       "      <th>25%</th>\n",
       "      <td>47.000000</td>\n",
       "      <td>1.000000</td>\n",
       "      <td>3.000000</td>\n",
       "      <td>120.000000</td>\n",
       "      <td>215.000000</td>\n",
       "      <td>0.000000</td>\n",
       "      <td>0.000000</td>\n",
       "      <td>120.000000</td>\n",
       "      <td>0.000000</td>\n",
       "      <td>0.000000</td>\n",
       "      <td>2.000000</td>\n",
       "      <td>1.000000</td>\n",
       "      <td>0.000000</td>\n",
       "    </tr>\n",
       "    <tr>\n",
       "      <th>50%</th>\n",
       "      <td>54.000000</td>\n",
       "      <td>1.000000</td>\n",
       "      <td>4.000000</td>\n",
       "      <td>130.000000</td>\n",
       "      <td>239.500000</td>\n",
       "      <td>0.000000</td>\n",
       "      <td>0.000000</td>\n",
       "      <td>138.000000</td>\n",
       "      <td>0.000000</td>\n",
       "      <td>0.500000</td>\n",
       "      <td>2.000000</td>\n",
       "      <td>1.000000</td>\n",
       "      <td>1.000000</td>\n",
       "    </tr>\n",
       "    <tr>\n",
       "      <th>75%</th>\n",
       "      <td>60.000000</td>\n",
       "      <td>1.000000</td>\n",
       "      <td>4.000000</td>\n",
       "      <td>140.000000</td>\n",
       "      <td>258.250000</td>\n",
       "      <td>0.000000</td>\n",
       "      <td>1.000000</td>\n",
       "      <td>156.000000</td>\n",
       "      <td>1.000000</td>\n",
       "      <td>1.500000</td>\n",
       "      <td>2.000000</td>\n",
       "      <td>1.250000</td>\n",
       "      <td>1.000000</td>\n",
       "    </tr>\n",
       "    <tr>\n",
       "      <th>max</th>\n",
       "      <td>77.000000</td>\n",
       "      <td>1.000000</td>\n",
       "      <td>4.000000</td>\n",
       "      <td>165.000000</td>\n",
       "      <td>337.000000</td>\n",
       "      <td>1.000000</td>\n",
       "      <td>2.000000</td>\n",
       "      <td>202.000000</td>\n",
       "      <td>1.000000</td>\n",
       "      <td>3.700000</td>\n",
       "      <td>3.000000</td>\n",
       "      <td>3.000000</td>\n",
       "      <td>1.000000</td>\n",
       "    </tr>\n",
       "  </tbody>\n",
       "</table>\n",
       "</div>"
      ],
      "text/plain": [
       "              age         sex  chest_pain_type  resting_bp  cholesterol  \\\n",
       "count  828.000000  828.000000       828.000000  828.000000   828.000000   \n",
       "mean    53.300725    0.799517         3.229469  129.724638   237.662440   \n",
       "std      9.481231    0.400604         0.932032   15.125961    38.908621   \n",
       "min     28.000000    0.000000         1.000000   80.000000    85.000000   \n",
       "25%     47.000000    1.000000         3.000000  120.000000   215.000000   \n",
       "50%     54.000000    1.000000         4.000000  130.000000   239.500000   \n",
       "75%     60.000000    1.000000         4.000000  140.000000   258.250000   \n",
       "max     77.000000    1.000000         4.000000  165.000000   337.000000   \n",
       "\n",
       "       fasting_blood_sugar     restecg  max_heart_rate  ex_induced_angina  \\\n",
       "count           828.000000  828.000000      828.000000         828.000000   \n",
       "mean              0.143720    0.584541      137.833903           0.346618   \n",
       "std               0.351017    0.801361       25.090035           0.476181   \n",
       "min               0.000000    0.000000       62.471818           0.000000   \n",
       "25%               0.000000    0.000000      120.000000           0.000000   \n",
       "50%               0.000000    0.000000      138.000000           0.000000   \n",
       "75%               0.000000    1.000000      156.000000           1.000000   \n",
       "max               1.000000    2.000000      202.000000           1.000000   \n",
       "\n",
       "       st_depression       slope  thalassemia        goal  \n",
       "count     828.000000  828.000000   828.000000  828.000000  \n",
       "mean        0.777415    1.828502     1.451691    0.539855  \n",
       "std         0.957354    0.510645     0.807363    0.498710  \n",
       "min        -2.600000    1.000000     1.000000    0.000000  \n",
       "25%         0.000000    2.000000     1.000000    0.000000  \n",
       "50%         0.500000    2.000000     1.000000    1.000000  \n",
       "75%         1.500000    2.000000     1.250000    1.000000  \n",
       "max         3.700000    3.000000     3.000000    1.000000  "
      ]
     },
     "execution_count": 5,
     "metadata": {},
     "output_type": "execute_result"
    }
   ],
   "source": [
    "### Displaying basic statistical details (description about the dataset) ###\n",
    "\n",
    "dataset.describe()"
   ]
  },
  {
   "cell_type": "code",
   "execution_count": 6,
   "id": "abd87a7e",
   "metadata": {
    "colab": {
     "base_uri": "https://localhost:8080/"
    },
    "id": "abd87a7e",
    "outputId": "24132822-0be7-493f-dc07-72dd6546c826"
   },
   "outputs": [
    {
     "data": {
      "text/plain": [
       "(828, 13)"
      ]
     },
     "execution_count": 6,
     "metadata": {},
     "output_type": "execute_result"
    }
   ],
   "source": [
    "### Returning dimensionality of the Dataset ###\n",
    "\n",
    "dataset.shape"
   ]
  },
  {
   "cell_type": "markdown",
   "id": "13ae149c",
   "metadata": {
    "id": "13ae149c"
   },
   "source": [
    "### a) Feature Selection (Genetic Algorithm)"
   ]
  },
  {
   "cell_type": "code",
   "execution_count": 7,
   "id": "60eea4e3",
   "metadata": {
    "colab": {
     "base_uri": "https://localhost:8080/",
     "height": 443
    },
    "id": "60eea4e3",
    "outputId": "6c50ea4e-5fce-48d9-9d7b-37034c032eda"
   },
   "outputs": [
    {
     "data": {
      "text/html": [
       "<div>\n",
       "<style scoped>\n",
       "    .dataframe tbody tr th:only-of-type {\n",
       "        vertical-align: middle;\n",
       "    }\n",
       "\n",
       "    .dataframe tbody tr th {\n",
       "        vertical-align: top;\n",
       "    }\n",
       "\n",
       "    .dataframe thead th {\n",
       "        text-align: right;\n",
       "    }\n",
       "</style>\n",
       "<table border=\"1\" class=\"dataframe\">\n",
       "  <thead>\n",
       "    <tr style=\"text-align: right;\">\n",
       "      <th></th>\n",
       "      <th>age</th>\n",
       "      <th>sex</th>\n",
       "      <th>chest_pain_type</th>\n",
       "      <th>resting_bp</th>\n",
       "      <th>cholesterol</th>\n",
       "      <th>fasting_blood_sugar</th>\n",
       "      <th>restecg</th>\n",
       "      <th>max_heart_rate</th>\n",
       "      <th>ex_induced_angina</th>\n",
       "      <th>st_depression</th>\n",
       "      <th>slope</th>\n",
       "      <th>thalassemia</th>\n",
       "    </tr>\n",
       "  </thead>\n",
       "  <tbody>\n",
       "    <tr>\n",
       "      <th>0</th>\n",
       "      <td>63</td>\n",
       "      <td>1</td>\n",
       "      <td>1</td>\n",
       "      <td>145.0</td>\n",
       "      <td>233.0</td>\n",
       "      <td>1.0</td>\n",
       "      <td>2.0</td>\n",
       "      <td>150.0</td>\n",
       "      <td>0.0</td>\n",
       "      <td>2.3</td>\n",
       "      <td>3.0</td>\n",
       "      <td>2.0</td>\n",
       "    </tr>\n",
       "    <tr>\n",
       "      <th>1</th>\n",
       "      <td>67</td>\n",
       "      <td>1</td>\n",
       "      <td>4</td>\n",
       "      <td>160.0</td>\n",
       "      <td>286.0</td>\n",
       "      <td>0.0</td>\n",
       "      <td>2.0</td>\n",
       "      <td>108.0</td>\n",
       "      <td>1.0</td>\n",
       "      <td>1.5</td>\n",
       "      <td>2.0</td>\n",
       "      <td>1.0</td>\n",
       "    </tr>\n",
       "    <tr>\n",
       "      <th>2</th>\n",
       "      <td>67</td>\n",
       "      <td>1</td>\n",
       "      <td>4</td>\n",
       "      <td>120.0</td>\n",
       "      <td>229.0</td>\n",
       "      <td>0.0</td>\n",
       "      <td>2.0</td>\n",
       "      <td>129.0</td>\n",
       "      <td>1.0</td>\n",
       "      <td>2.6</td>\n",
       "      <td>2.0</td>\n",
       "      <td>3.0</td>\n",
       "    </tr>\n",
       "    <tr>\n",
       "      <th>3</th>\n",
       "      <td>37</td>\n",
       "      <td>1</td>\n",
       "      <td>3</td>\n",
       "      <td>130.0</td>\n",
       "      <td>250.0</td>\n",
       "      <td>0.0</td>\n",
       "      <td>0.0</td>\n",
       "      <td>187.0</td>\n",
       "      <td>0.0</td>\n",
       "      <td>3.5</td>\n",
       "      <td>3.0</td>\n",
       "      <td>1.0</td>\n",
       "    </tr>\n",
       "    <tr>\n",
       "      <th>4</th>\n",
       "      <td>41</td>\n",
       "      <td>0</td>\n",
       "      <td>2</td>\n",
       "      <td>130.0</td>\n",
       "      <td>204.0</td>\n",
       "      <td>0.0</td>\n",
       "      <td>2.0</td>\n",
       "      <td>172.0</td>\n",
       "      <td>0.0</td>\n",
       "      <td>1.4</td>\n",
       "      <td>1.0</td>\n",
       "      <td>1.0</td>\n",
       "    </tr>\n",
       "    <tr>\n",
       "      <th>...</th>\n",
       "      <td>...</td>\n",
       "      <td>...</td>\n",
       "      <td>...</td>\n",
       "      <td>...</td>\n",
       "      <td>...</td>\n",
       "      <td>...</td>\n",
       "      <td>...</td>\n",
       "      <td>...</td>\n",
       "      <td>...</td>\n",
       "      <td>...</td>\n",
       "      <td>...</td>\n",
       "      <td>...</td>\n",
       "    </tr>\n",
       "    <tr>\n",
       "      <th>823</th>\n",
       "      <td>46</td>\n",
       "      <td>1</td>\n",
       "      <td>4</td>\n",
       "      <td>134.0</td>\n",
       "      <td>310.0</td>\n",
       "      <td>0.0</td>\n",
       "      <td>0.0</td>\n",
       "      <td>126.0</td>\n",
       "      <td>0.0</td>\n",
       "      <td>0.0</td>\n",
       "      <td>2.0</td>\n",
       "      <td>1.0</td>\n",
       "    </tr>\n",
       "    <tr>\n",
       "      <th>824</th>\n",
       "      <td>54</td>\n",
       "      <td>0</td>\n",
       "      <td>4</td>\n",
       "      <td>127.0</td>\n",
       "      <td>333.0</td>\n",
       "      <td>1.0</td>\n",
       "      <td>1.0</td>\n",
       "      <td>154.0</td>\n",
       "      <td>0.0</td>\n",
       "      <td>0.0</td>\n",
       "      <td>2.0</td>\n",
       "      <td>1.0</td>\n",
       "    </tr>\n",
       "    <tr>\n",
       "      <th>825</th>\n",
       "      <td>62</td>\n",
       "      <td>1</td>\n",
       "      <td>1</td>\n",
       "      <td>130.0</td>\n",
       "      <td>139.0</td>\n",
       "      <td>0.0</td>\n",
       "      <td>1.0</td>\n",
       "      <td>137.5</td>\n",
       "      <td>0.0</td>\n",
       "      <td>0.5</td>\n",
       "      <td>2.0</td>\n",
       "      <td>1.0</td>\n",
       "    </tr>\n",
       "    <tr>\n",
       "      <th>826</th>\n",
       "      <td>55</td>\n",
       "      <td>1</td>\n",
       "      <td>4</td>\n",
       "      <td>122.0</td>\n",
       "      <td>223.0</td>\n",
       "      <td>1.0</td>\n",
       "      <td>1.0</td>\n",
       "      <td>100.0</td>\n",
       "      <td>0.0</td>\n",
       "      <td>0.0</td>\n",
       "      <td>2.0</td>\n",
       "      <td>2.0</td>\n",
       "    </tr>\n",
       "    <tr>\n",
       "      <th>827</th>\n",
       "      <td>62</td>\n",
       "      <td>1</td>\n",
       "      <td>2</td>\n",
       "      <td>120.0</td>\n",
       "      <td>254.0</td>\n",
       "      <td>0.0</td>\n",
       "      <td>2.0</td>\n",
       "      <td>93.0</td>\n",
       "      <td>1.0</td>\n",
       "      <td>0.0</td>\n",
       "      <td>2.0</td>\n",
       "      <td>1.0</td>\n",
       "    </tr>\n",
       "  </tbody>\n",
       "</table>\n",
       "<p>828 rows × 12 columns</p>\n",
       "</div>"
      ],
      "text/plain": [
       "     age  sex  chest_pain_type  resting_bp  cholesterol  fasting_blood_sugar  \\\n",
       "0     63    1                1       145.0        233.0                  1.0   \n",
       "1     67    1                4       160.0        286.0                  0.0   \n",
       "2     67    1                4       120.0        229.0                  0.0   \n",
       "3     37    1                3       130.0        250.0                  0.0   \n",
       "4     41    0                2       130.0        204.0                  0.0   \n",
       "..   ...  ...              ...         ...          ...                  ...   \n",
       "823   46    1                4       134.0        310.0                  0.0   \n",
       "824   54    0                4       127.0        333.0                  1.0   \n",
       "825   62    1                1       130.0        139.0                  0.0   \n",
       "826   55    1                4       122.0        223.0                  1.0   \n",
       "827   62    1                2       120.0        254.0                  0.0   \n",
       "\n",
       "     restecg  max_heart_rate  ex_induced_angina  st_depression  slope  \\\n",
       "0        2.0           150.0                0.0            2.3    3.0   \n",
       "1        2.0           108.0                1.0            1.5    2.0   \n",
       "2        2.0           129.0                1.0            2.6    2.0   \n",
       "3        0.0           187.0                0.0            3.5    3.0   \n",
       "4        2.0           172.0                0.0            1.4    1.0   \n",
       "..       ...             ...                ...            ...    ...   \n",
       "823      0.0           126.0                0.0            0.0    2.0   \n",
       "824      1.0           154.0                0.0            0.0    2.0   \n",
       "825      1.0           137.5                0.0            0.5    2.0   \n",
       "826      1.0           100.0                0.0            0.0    2.0   \n",
       "827      2.0            93.0                1.0            0.0    2.0   \n",
       "\n",
       "     thalassemia  \n",
       "0            2.0  \n",
       "1            1.0  \n",
       "2            3.0  \n",
       "3            1.0  \n",
       "4            1.0  \n",
       "..           ...  \n",
       "823          1.0  \n",
       "824          1.0  \n",
       "825          1.0  \n",
       "826          2.0  \n",
       "827          1.0  \n",
       "\n",
       "[828 rows x 12 columns]"
      ]
     },
     "execution_count": 7,
     "metadata": {},
     "output_type": "execute_result"
    }
   ],
   "source": [
    "### Separating input features with the target variable ###\n",
    "\n",
    "target_variable = dataset[\"goal\"]\n",
    "independent_features = dataset.drop(columns=\"goal\")\n",
    "independent_features"
   ]
  },
  {
   "cell_type": "code",
   "execution_count": 8,
   "id": "33093b3e",
   "metadata": {
    "colab": {
     "base_uri": "https://localhost:8080/"
    },
    "id": "33093b3e",
    "outputId": "f6f645bf-538b-4356-f283-3d51ad818bd5",
    "scrolled": true
   },
   "outputs": [
    {
     "data": {
      "text/plain": [
       "12"
      ]
     },
     "execution_count": 8,
     "metadata": {},
     "output_type": "execute_result"
    }
   ],
   "source": [
    "### Checking how many independent features we have ###\n",
    "\n",
    "feature_size = independent_features.shape[1]\n",
    "feature_size"
   ]
  },
  {
   "cell_type": "code",
   "execution_count": 9,
   "id": "496cb775",
   "metadata": {
    "id": "496cb775"
   },
   "outputs": [],
   "source": [
    "### Creating a list of column numbers for independent features dataset ###\n",
    "\n",
    "def total_features():\n",
    "    features = []\n",
    "    # including all the independent variables in the list \"features\"\n",
    "    features = list(range(feature_size))\n",
    "    return features"
   ]
  },
  {
   "cell_type": "code",
   "execution_count": 10,
   "id": "b0b9ca8e",
   "metadata": {
    "colab": {
     "base_uri": "https://localhost:8080/"
    },
    "id": "b0b9ca8e",
    "outputId": "be652939-df7b-4783-af85-e2610a023013",
    "scrolled": false
   },
   "outputs": [
    {
     "name": "stdout",
     "output_type": "stream",
     "text": [
      "[0, 1, 2, 3, 4, 5, 6, 7, 8, 9, 10, 11]\n"
     ]
    }
   ],
   "source": [
    "### Column Number list ###\n",
    "\n",
    "features_list = total_features()\n",
    "print(features_list)"
   ]
  },
  {
   "cell_type": "code",
   "execution_count": 11,
   "id": "00732429",
   "metadata": {
    "id": "00732429"
   },
   "outputs": [],
   "source": [
    "### Selecting Features through Genetic Algorithm ###\n",
    "\n",
    "# Creating a class to run Genetic Algorithm:\n",
    "class Genetic_Algorithm:\n",
    "\n",
    "\n",
    "    ############## Initialize variables and lists ##############\n",
    "    def __init__(self):\n",
    "\n",
    "        self.chromosome_size = feature_size\n",
    "        self.population = []\n",
    "        self.chromosome = []\n",
    "        self.population_size = 20\n",
    "        self.max_generation = 100\n",
    "        self.optimal_score = 85\n",
    "        self.bests = []\n",
    "\n",
    "\n",
    "    ############## Create Random Chromosome ##############\n",
    "    def createRandomChromosome(self):\n",
    "        randomChromosome = []\n",
    "        randomChromosome = random.choices([0, 1], k = self.chromosome_size)\n",
    "        self.chromosome = randomChromosome\n",
    "        return randomChromosome\n",
    "\n",
    "\n",
    "    ############## Initial Population ##############\n",
    "    def initialPopulation(self, population_size):\n",
    "        initial_population = []\n",
    "        for i in range(0, population_size):\n",
    "            initial_population.insert(i, self.createRandomChromosome())\n",
    "        self.population = initial_population\n",
    "        return initial_population\n",
    "\n",
    "\n",
    "    ############## Model's Score Calculation Function ##############\n",
    "    def scoreCalculator(self, X, y):\n",
    "\n",
    "        # Ten stratified K-folds cross-validation\n",
    "        cv = StratifiedKFold(n_splits=10)\n",
    "\n",
    "        # Building Random Forest classifier\n",
    "        model = RandomForestClassifier(n_jobs=-1)\n",
    "\n",
    "        # Using accuracy as the target class is well balanced\n",
    "        scores = cross_val_score(model, X, y, scoring= 'accuracy', n_jobs=-1, cv=cv)\n",
    "\n",
    "        # Returning the score\n",
    "        return round(scores.mean() * 100, 3)\n",
    "\n",
    "\n",
    "    ############## Fitness Function ##############\n",
    "    def fitness(self, chromosome):\n",
    "        fitness_values = []\n",
    "        # Creating a selected feature subset to feed it to the model,\n",
    "        # initially taking all independent features.\n",
    "        features_subset = independent_features\n",
    "        chromosome_fitness = 0\n",
    "\n",
    "        # Creating a feature subset for RF classifier (scoring calc.)\n",
    "        selected_features = [feature for feature, gene in zip(independent_features, chromosome) if gene == 1]\n",
    "        features_subset = features_subset[selected_features]\n",
    "\n",
    "        X = features_subset\n",
    "        y = target_variable\n",
    "\n",
    "        # Calculating the score for our selected feature subset using RF model\n",
    "        chromosome_fitness = self.scoreCalculator(X, y)\n",
    "\n",
    "        # Return the score\n",
    "        return chromosome_fitness\n",
    "\n",
    "\n",
    "    ############## Selecting Elite Chromosomes ##############\n",
    "    def evaluation(self, population):\n",
    "\n",
    "        # Selecting 20% elite chromosomes to create a robust population\n",
    "\n",
    "        # loop through parents and calculate fitness\n",
    "        best_pop = self.population_size // 5\n",
    "\n",
    "        for i in range(len(population)):\n",
    "            parent = population[i]\n",
    "            ft = self.fitness(parent)\n",
    "            self.bests.append((ft, parent))\n",
    "\n",
    "        # sort the fitness list by fitness\n",
    "        self.bests.sort(key=operator.itemgetter(0), reverse=True)\n",
    "        self.best_p = self.bests[:best_pop]\n",
    "        self.best_score = [x[0] for x in self.best_p]\n",
    "        self.best_parent = [x[1] for x in self.best_p]\n",
    "        return self.best_parent, self.best_score\n",
    "\n",
    "\n",
    "    ############## Tournament Selection Function ##############\n",
    "    def tournament_selection(self, population):\n",
    "        winner = []\n",
    "        selected = []\n",
    "        evaluation = []\n",
    "        fitness_values = []\n",
    "        idx_best_individual = 0\n",
    "        tournament_size = 2\n",
    "\n",
    "        # Two rounds of tournament.\n",
    "        rounds = 2\n",
    "\n",
    "        # Each mutually exclusive tournament will have two random selected parents,\n",
    "        # battling against each other to win\n",
    "        for i in range(rounds):\n",
    "            selected = random.choices(population, k=tournament_size)\n",
    "            evaluation = [self.fitness(participant) for participant in selected]\n",
    "            idx_best_individual = evaluation.index(max(evaluation))\n",
    "            winner.append(selected[idx_best_individual])\n",
    "            fitness_values.append((max(evaluation)))\n",
    "\n",
    "        # Shuffling selected chromosomes, to enable random crossover\n",
    "        random.shuffle(winner)\n",
    "\n",
    "        return winner, fitness_values\n",
    "\n",
    "\n",
    "    ############## Crossover Function: 2-point crossover ##############\n",
    "    def crossover(self, selected, crossover_rate =  0.6):\n",
    "\n",
    "        # extracting parents\n",
    "        parentA = selected[0].copy()\n",
    "        parentB = selected[1].copy()\n",
    "\n",
    "        # Ensure both parents have the same length\n",
    "        if len(parentA) != len(parentB):\n",
    "            raise ValueError(\"Parents must have the same length.\")\n",
    "\n",
    "        # copying each parent to their children\n",
    "        offspring1, offspring2 = parentA.copy(), parentB.copy()\n",
    "\n",
    "        # generating a random number\n",
    "        r = random.uniform(0, 1)\n",
    "\n",
    "        # Perform crossover if crossover rate is more than the random number (r)\n",
    "        if crossover_rate > r:\n",
    "\n",
    "            # Randomly generating crossover points to exchange information.\n",
    "            # Crossover point 1 should not be at the end of the string.\n",
    "            point1 = random.randint(0, len(parentA)-1)\n",
    "            point2 = random.randint(point1, len(parentA))\n",
    "\n",
    "            # Crossing over using randomly generated crossover points.\n",
    "            offspring1 = parentA[:point1] + parentB[point1:point2] + parentA[point2:]\n",
    "            offspring2 = parentB[:point1] + parentA[point1:point2] + parentB[point2:]\n",
    "\n",
    "        return offspring1, offspring2\n",
    "\n",
    "\n",
    "    ############## Mutation Function: swap mutation ##############\n",
    "    def mutation(self, child1, child2, mutation_rate = 0.1):\n",
    "\n",
    "        # looping over the first child\n",
    "        for i in range(len(child1)):\n",
    "            # generating a random number\n",
    "            r1 = random.uniform(0, 1)\n",
    "            # If the random number (r1) is less than the mutation rate,\n",
    "            # Exchange the bit at a random index (j) with the current bit (i).\n",
    "            if r1 < mutation_rate:\n",
    "                # Switch bits\n",
    "                j = random.randint(0, len(child1)-1)\n",
    "                temp = child1[i]\n",
    "                child1[i] = child1[j]\n",
    "                child1[j] = temp\n",
    "\n",
    "        # looping over the second child\n",
    "        for i in range(len(child2)):\n",
    "            # generating a random number\n",
    "            r2 = random.uniform(0, 1)\n",
    "            # If the random number (r2) is less than the mutation rate,\n",
    "            # Exchange the bit at a random index (j) with the current bit (i).\n",
    "            if r2 < mutation_rate:\n",
    "                # Switching bits\n",
    "                j = random.randint(0, len(child2)-1)\n",
    "                temp = child2[i]\n",
    "                child2[i] = child2[j]\n",
    "                child2[j] = temp\n",
    "        return child1, child2\n",
    "\n",
    "\n",
    "    ############## Create Next Generation ##############\n",
    "    def create_next_generation(self, current_generation, generation_size):\n",
    "\n",
    "        ### Initializing variables ###\n",
    "        next_generation = []\n",
    "        elite_parents, tournament_winner_parents = [], []\n",
    "        new_offspring1, new_offspring2, new_offspring3, new_offspring4, = [], [], [], []\n",
    "        mutated_children1, mutated_children2 = [], []\n",
    "        fitness_values_elites, fitness_values_tournament_winners = [], []\n",
    "        max_fitness_value_elite = 0\n",
    "        max_fitness_value_tournament_winner = 0\n",
    "        maximum_fitness_values_per_iteration = []\n",
    "        maximum_fitness_value = 0\n",
    "        winner = []\n",
    "\n",
    "        ### Creating the next population ###\n",
    "\n",
    "        # Returning selected 20% elite populations and their score/fitness values:\n",
    "        elite_parents, fitness_values_elites = self.evaluation(current_generation)\n",
    "        # Crossing over elite populations to create a hybrid in the next generation\n",
    "        # To preserve the good properties of elites to next generations,\n",
    "        # crossover the elites and tournament winners separately\n",
    "        new_offspring1, new_offspring2 = self.crossover(elite_parents)\n",
    "        # Appending the next generation with crossed-over populations:\n",
    "        next_generation.append(new_offspring1)\n",
    "        next_generation.append(new_offspring2)\n",
    "\n",
    "        # While adding (crossedover/mutated) populations to the next generation,\n",
    "        # ensuring its length doesn't exceeds the fixed generation size\n",
    "        while len(next_generation) < generation_size:\n",
    "            # Returning winner populations of the tournament and their score/fitness values:\n",
    "            tournament_winner_parents, fitness_values_tournament_winners = self.tournament_selection(current_generation)\n",
    "\n",
    "            # Crossing over tournament's winner populations to create a hybrid in the next generation\n",
    "            new_offspring3, new_offspring4 = self.crossover(tournament_winner_parents)\n",
    "\n",
    "            # Mutating only the tournament's winner parents offsprings and not the elite's parents offsprings to ensure robustness\n",
    "            mutated_children1, mutated_children2 = self.mutation(new_offspring3, new_offspring4)\n",
    "\n",
    "            # Appending the next generation with mutated populations:\n",
    "            next_generation.append(mutated_children1)\n",
    "            next_generation.append(mutated_children2)\n",
    "\n",
    "            # Below code keeps track of the population with the highest fittness among all the populations in a generation:\n",
    "            # 1. Checking the maximum population among elites:\n",
    "            max_fitness_value_elite = max(fitness_values_elites)\n",
    "            for i in range(len(fitness_values_elites)):\n",
    "                if fitness_values_elites[i] == max_fitness_value_elite:\n",
    "                    elite = list(elite_parents[i])\n",
    "\n",
    "            # 2. Checking the maximum population among Tournaments' winners:\n",
    "            max_fitness_value_tournament_winner = max(fitness_values_tournament_winners)\n",
    "            for i in range(len(fitness_values_tournament_winners)):\n",
    "                if fitness_values_tournament_winners[i] == max_fitness_value_tournament_winner:\n",
    "                    tournament = list(tournament_winner_parents[i])\n",
    "\n",
    "            # 3. Checking the maximum population among the maximum Tournament's winner and maximum elite\n",
    "            # This is called the winner of a generation\n",
    "            if max_fitness_value_elite >= max_fitness_value_tournament_winner:\n",
    "                maximum_fitness_values_per_iteration.append(max_fitness_value_elite)\n",
    "                winner = [elite]\n",
    "            else:\n",
    "                maximum_fitness_values_per_iteration.append(max_fitness_value_tournament_winner)\n",
    "                winner = [tournament]\n",
    "\n",
    "        maximum_fitness_value = max(maximum_fitness_values_per_iteration)\n",
    "\n",
    "        # Returning the next generation,\n",
    "        # the population with the highest fittest among all the populations in a generation,\n",
    "        # and its score\n",
    "        return next_generation, maximum_fitness_value, winner\n",
    "\n",
    "\n",
    "    ############## Plot Fitness Scores Per Generation ##############\n",
    "    def plot_fitness(self, x, y):\n",
    "\n",
    "        ### Creating lineplot ###\n",
    "        plt.plot(x, y)\n",
    "        plt.xlabel(\"Generation\")  # add X-axis label\n",
    "        plt.ylabel(\"Fitness\")  # add Y-axis label\n",
    "        plt.title(\"Fitness Per Generation\")  # add title\n",
    "        plt.show()\n",
    "\n",
    "\n",
    "    ############## Run Main Genetic Algorithm ##############\n",
    "    def main_run(self):\n",
    "\n",
    "        ### Initializing variables ###\n",
    "        generation = 1\n",
    "        found_optima = False\n",
    "        maximum_fitness_value = []\n",
    "        maximum_fitness_value_per_population = []\n",
    "        fittest_chromosome = []\n",
    "        final_maximum_fitness_value = 0\n",
    "        winner = []\n",
    "        stop = False\n",
    "\n",
    "        ### Creating an initial random population ###\n",
    "        current_population = self.initialPopulation(self.population_size)\n",
    "        print(\"Initial Generation (Generation \", generation, \"): \", current_population)\n",
    "\n",
    "        # While generating next generation,\n",
    "        # ensuring the generation count doesn't exceeds the maximum generation limit\n",
    "        while generation < self.max_generation+1:\n",
    "\n",
    "            # Incrementing the generation\n",
    "            generation += 1\n",
    "\n",
    "            # Creating the Next Generation\n",
    "            current_population, maximum_fitness_value, winner = self.create_next_generation(current_population, self.population_size)\n",
    "            print(\"Generation\", generation, \":\", current_population,\n",
    "                  \">> \", \"Score: \", maximum_fitness_value, \"%\")\n",
    "\n",
    "            # Saving maximum fitness scores per population\n",
    "            maximum_fitness_value_per_population.append(maximum_fitness_value)\n",
    "            # Saving winner chromosomes per population\n",
    "            fittest_chromosome.append(winner)\n",
    "\n",
    "            # If any chromosome in current population is the optimal solution,\n",
    "            # stop running any more generations\n",
    "            for fitness in maximum_fitness_value_per_population:\n",
    "                # Checking if the fitness score of any chromosome\n",
    "                # in the current population matches with the optimal solution\n",
    "                if fitness > self.optimal_score:\n",
    "                    print(\"Optimal solution found in\", generation-1)\n",
    "                    found_optima = True\n",
    "                    break\n",
    "            # If matches, finish creating any more generations and return the solution\n",
    "            if found_optima:\n",
    "                break\n",
    "\n",
    "            # If fitness scores are repeating since 8 generations, stop running any more generations:\n",
    "            for i in range(len(maximum_fitness_value_per_population)):\n",
    "                # Checking if any population in the next generation matches the optimal solution\n",
    "                if i >= 8:\n",
    "                    if ((maximum_fitness_value_per_population[i] == maximum_fitness_value_per_population[i-1]) and\n",
    "                        (maximum_fitness_value_per_population[i] == maximum_fitness_value_per_population[i-2]) and\n",
    "                        (maximum_fitness_value_per_population[i] == maximum_fitness_value_per_population[i-3]) and\n",
    "                        (maximum_fitness_value_per_population[i] == maximum_fitness_value_per_population[i-4]) and\n",
    "                        (maximum_fitness_value_per_population[i] == maximum_fitness_value_per_population[i-5]) and\n",
    "                        (maximum_fitness_value_per_population[i] == maximum_fitness_value_per_population[i-6]) and\n",
    "                        (maximum_fitness_value_per_population[i] == maximum_fitness_value_per_population[i-7])):\n",
    "\n",
    "                        stop = True\n",
    "            # If matches, finish creating any more generations and return the solution\n",
    "            if stop == True:\n",
    "                break\n",
    "\n",
    "        # Below code keeps track of the chromosome with the highest fitness value among all generations:\n",
    "        # Checking for the maximum fitness value among all the chromosomes of all generations:\n",
    "        final_maximum_fitness_value = max(maximum_fitness_value_per_population)\n",
    "        for i in range(len(maximum_fitness_value_per_population)):\n",
    "            if maximum_fitness_value_per_population[i] == final_maximum_fitness_value:\n",
    "                winner = fittest_chromosome[i]\n",
    "        # Printing the number of generation and the winner population with its score/fitness value\n",
    "        print(\"*** Completed \", generation, \"Generations ***\")\n",
    "        print(\"The Winner Population with the Maximum Score \", final_maximum_fitness_value, \"is:\", winner)\n",
    "\n",
    "        # Plotting maximum fitness scores per Generation:\n",
    "        generations = list(range(1, generation))\n",
    "        self.plot_fitness(generations, maximum_fitness_value_per_population)\n",
    "\n",
    "        # Returning the winner chromosome (Genetic Algorithm's output)\n",
    "        return winner"
   ]
  },
  {
   "cell_type": "code",
   "execution_count": 12,
   "id": "90902b82",
   "metadata": {
    "id": "90902b82"
   },
   "outputs": [],
   "source": [
    "### Creating an object called ga of Genetic Algorithm class ###\n",
    "\n",
    "ga = Genetic_Algorithm()"
   ]
  },
  {
   "cell_type": "code",
   "execution_count": 13,
   "id": "028cc7e7",
   "metadata": {
    "colab": {
     "base_uri": "https://localhost:8080/",
     "height": 1000
    },
    "id": "028cc7e7",
    "outputId": "524b76ab-6494-4264-f132-38b0bb87f08c",
    "scrolled": false
   },
   "outputs": [
    {
     "name": "stdout",
     "output_type": "stream",
     "text": [
      "Initial Generation (Generation  1 ):  [[1, 0, 1, 0, 0, 1, 1, 1, 0, 0, 1, 1], [0, 1, 1, 1, 0, 0, 1, 1, 1, 0, 0, 0], [1, 0, 1, 1, 0, 1, 1, 1, 1, 1, 1, 0], [1, 1, 1, 0, 0, 0, 1, 0, 1, 1, 1, 0], [1, 1, 0, 1, 1, 0, 0, 0, 0, 1, 0, 0], [0, 1, 1, 1, 1, 0, 1, 1, 0, 0, 0, 1], [1, 0, 0, 1, 1, 0, 0, 1, 1, 1, 1, 0], [1, 0, 0, 1, 0, 1, 1, 0, 0, 1, 0, 0], [1, 1, 1, 0, 1, 1, 0, 1, 1, 1, 1, 0], [1, 0, 1, 0, 0, 1, 1, 0, 1, 0, 0, 1], [1, 1, 0, 1, 1, 1, 1, 0, 1, 1, 0, 0], [1, 1, 1, 0, 1, 0, 1, 1, 1, 1, 1, 1], [0, 0, 1, 1, 0, 1, 1, 0, 1, 0, 0, 0], [1, 1, 1, 0, 0, 1, 0, 1, 1, 0, 0, 1], [0, 1, 1, 1, 1, 1, 0, 0, 1, 0, 0, 0], [0, 1, 1, 0, 0, 1, 1, 0, 0, 1, 0, 1], [1, 1, 0, 1, 1, 0, 1, 1, 0, 0, 0, 1], [1, 1, 0, 1, 1, 0, 1, 0, 0, 0, 0, 1], [1, 1, 0, 1, 0, 1, 1, 1, 0, 1, 1, 1], [0, 0, 1, 0, 0, 0, 1, 1, 0, 1, 1, 0]]\n",
      "Generation 2 : [[1, 1, 1, 0, 1, 0, 1, 1, 1, 1, 1, 1], [1, 1, 1, 0, 1, 1, 0, 1, 1, 1, 1, 0], [1, 1, 1, 0, 1, 1, 0, 1, 1, 1, 1, 0], [1, 1, 1, 0, 1, 0, 1, 1, 1, 1, 1, 1], [0, 1, 1, 0, 0, 1, 1, 0, 0, 1, 0, 0], [1, 1, 1, 1, 1, 1, 0, 0, 1, 0, 1, 0], [1, 1, 1, 1, 1, 0, 1, 0, 1, 1, 0, 0], [0, 1, 0, 1, 1, 1, 1, 1, 0, 0, 0, 1], [0, 1, 1, 1, 1, 0, 1, 1, 1, 0, 0, 0], [0, 1, 0, 1, 0, 1, 0, 0, 1, 0, 0, 1], [1, 1, 1, 0, 1, 0, 1, 1, 1, 1, 1, 1], [0, 1, 0, 1, 1, 0, 1, 0, 0, 1, 0, 0], [1, 1, 1, 1, 1, 0, 1, 1, 1, 0, 1, 0], [1, 1, 1, 0, 1, 1, 0, 1, 1, 1, 1, 1], [1, 1, 0, 1, 1, 1, 1, 0, 1, 1, 0, 0], [0, 1, 1, 1, 1, 1, 0, 0, 1, 0, 0, 0], [0, 0, 1, 0, 0, 0, 1, 1, 0, 1, 1, 0], [1, 1, 1, 0, 0, 0, 0, 1, 0, 1, 0, 1], [0, 1, 1, 1, 1, 0, 0, 1, 0, 0, 1, 1], [0, 1, 1, 0, 0, 1, 1, 0, 0, 1, 0, 1]] >>  Score:  76.897 %\n",
      "Generation 3 : [[1, 1, 1, 0, 1, 0, 1, 1, 1, 1, 1, 1], [1, 1, 1, 0, 1, 0, 1, 1, 1, 1, 1, 1], [1, 1, 1, 1, 1, 0, 1, 1, 1, 1, 0, 0], [1, 1, 1, 1, 1, 0, 1, 1, 0, 0, 1, 0], [1, 1, 1, 0, 1, 1, 0, 1, 1, 1, 1, 1], [1, 1, 0, 0, 1, 1, 0, 1, 1, 1, 1, 1], [0, 1, 1, 1, 1, 1, 0, 0, 1, 0, 0, 0], [0, 1, 1, 1, 1, 0, 1, 1, 1, 0, 0, 0], [1, 0, 1, 1, 0, 0, 0, 1, 0, 1, 0, 0], [1, 1, 1, 1, 0, 1, 1, 0, 1, 1, 1, 0], [1, 1, 1, 0, 1, 1, 0, 1, 1, 1, 1, 1], [1, 1, 1, 0, 1, 0, 1, 1, 1, 1, 1, 1], [1, 1, 1, 1, 0, 1, 0, 1, 1, 1, 0, 0], [1, 1, 1, 1, 1, 0, 1, 0, 1, 0, 1, 0], [1, 1, 1, 0, 1, 1, 0, 1, 1, 1, 1, 1], [0, 1, 1, 1, 1, 0, 1, 1, 1, 0, 0, 0], [0, 1, 1, 0, 1, 0, 1, 0, 1, 1, 1, 0], [1, 1, 1, 1, 1, 1, 0, 1, 1, 1, 1, 0], [0, 1, 1, 1, 1, 1, 0, 0, 1, 0, 0, 1], [0, 1, 0, 0, 1, 1, 1, 0, 0, 1, 0, 0]] >>  Score:  77.132 %\n",
      "Generation 4 : [[1, 1, 1, 0, 1, 1, 0, 1, 1, 1, 1, 1], [1, 1, 1, 0, 1, 1, 0, 1, 1, 1, 1, 1], [1, 1, 1, 1, 1, 0, 1, 1, 1, 1, 0, 0], [1, 0, 1, 1, 0, 1, 0, 1, 1, 1, 0, 1], [0, 1, 1, 1, 0, 0, 0, 1, 1, 0, 0, 1], [1, 1, 1, 0, 1, 1, 0, 1, 1, 1, 1, 1], [1, 1, 1, 0, 1, 1, 0, 1, 1, 1, 1, 1], [1, 1, 1, 0, 1, 0, 1, 1, 1, 1, 1, 1], [1, 1, 1, 0, 1, 1, 0, 1, 1, 1, 1, 1], [1, 1, 1, 0, 1, 1, 0, 1, 1, 1, 1, 1], [0, 1, 1, 1, 1, 0, 1, 0, 1, 0, 0, 0], [1, 1, 1, 1, 1, 0, 1, 1, 1, 0, 1, 0], [1, 1, 1, 1, 1, 1, 0, 1, 1, 1, 1, 0], [1, 1, 1, 0, 1, 0, 1, 1, 1, 1, 1, 1], [1, 1, 1, 0, 1, 1, 0, 1, 1, 1, 1, 1], [1, 1, 1, 1, 1, 0, 0, 0, 1, 0, 1, 1], [1, 1, 0, 0, 1, 1, 1, 1, 1, 1, 1, 1], [1, 1, 1, 0, 1, 0, 1, 0, 1, 0, 1, 0], [1, 1, 1, 1, 1, 0, 0, 1, 1, 1, 0, 0], [1, 1, 1, 1, 0, 1, 1, 1, 0, 0, 1, 0]] >>  Score:  76.772 %\n",
      "Generation 5 : [[1, 1, 1, 0, 1, 0, 0, 1, 1, 1, 0, 0], [1, 1, 1, 1, 1, 1, 0, 1, 1, 1, 1, 1], [1, 1, 1, 0, 1, 1, 0, 1, 1, 1, 1, 1], [1, 1, 1, 1, 0, 1, 0, 1, 1, 1, 1, 1], [1, 1, 1, 1, 1, 0, 0, 0, 1, 0, 1, 1], [1, 1, 1, 1, 1, 0, 1, 1, 1, 1, 0, 0], [0, 1, 1, 1, 1, 0, 1, 0, 1, 1, 1, 0], [0, 1, 0, 1, 1, 1, 0, 1, 1, 1, 0, 1], [1, 1, 1, 0, 1, 1, 0, 1, 1, 1, 1, 1], [1, 0, 1, 1, 1, 1, 0, 1, 1, 1, 1, 1], [1, 1, 1, 0, 1, 1, 0, 1, 1, 1, 1, 0], [1, 1, 1, 0, 1, 0, 1, 0, 1, 0, 1, 1], [1, 1, 1, 0, 1, 1, 0, 1, 1, 1, 1, 1], [1, 1, 1, 0, 1, 1, 1, 1, 1, 1, 1, 0], [0, 1, 1, 0, 1, 1, 1, 1, 1, 1, 1, 1], [1, 1, 1, 1, 1, 0, 1, 1, 1, 1, 0, 0], [1, 1, 1, 0, 1, 0, 1, 1, 1, 1, 1, 1], [1, 1, 1, 0, 1, 1, 0, 1, 1, 1, 1, 1], [1, 1, 1, 0, 1, 1, 0, 1, 1, 1, 1, 1], [1, 1, 1, 0, 1, 1, 0, 1, 1, 1, 1, 1]] >>  Score:  77.136 %\n",
      "Generation 6 : [[0, 1, 1, 0, 1, 1, 1, 1, 1, 1, 0, 1], [1, 1, 1, 1, 1, 0, 0, 1, 1, 1, 1, 0], [1, 0, 1, 1, 1, 1, 0, 1, 1, 1, 1, 1], [1, 1, 1, 1, 0, 1, 0, 1, 1, 1, 1, 1], [1, 1, 1, 0, 1, 1, 0, 1, 1, 1, 1, 1], [1, 1, 1, 0, 1, 1, 0, 1, 1, 1, 1, 1], [1, 1, 1, 1, 1, 1, 0, 1, 0, 1, 1, 1], [1, 1, 1, 0, 1, 1, 0, 1, 1, 1, 1, 1], [1, 1, 1, 1, 1, 1, 0, 1, 1, 1, 1, 0], [1, 1, 1, 0, 1, 1, 0, 1, 1, 1, 1, 1], [1, 1, 1, 0, 1, 1, 0, 1, 1, 1, 1, 1], [1, 1, 1, 1, 1, 1, 0, 1, 1, 1, 1, 1], [1, 1, 1, 0, 1, 1, 1, 1, 0, 1, 1, 1], [1, 1, 1, 0, 1, 0, 1, 0, 1, 1, 0, 0], [1, 1, 1, 0, 1, 1, 0, 1, 1, 1, 1, 1], [0, 1, 0, 0, 1, 1, 1, 1, 1, 1, 0, 1], [1, 1, 1, 0, 1, 1, 0, 1, 1, 1, 1, 0], [1, 1, 1, 0, 1, 1, 0, 1, 1, 1, 1, 1], [1, 0, 1, 1, 1, 0, 0, 1, 1, 1, 0, 0], [0, 1, 1, 1, 1, 1, 0, 1, 1, 1, 1, 1]] >>  Score:  78.231 %\n",
      "Generation 7 : [[0, 1, 1, 1, 1, 1, 0, 1, 1, 1, 1, 1], [0, 1, 1, 0, 1, 1, 1, 1, 1, 1, 1, 1], [1, 1, 1, 0, 1, 1, 0, 1, 1, 1, 1, 1], [0, 1, 1, 1, 1, 1, 0, 1, 1, 1, 1, 1], [1, 1, 1, 0, 1, 1, 1, 1, 0, 1, 1, 1], [1, 1, 1, 0, 1, 1, 1, 1, 1, 1, 1, 0], [1, 1, 1, 0, 1, 1, 0, 1, 1, 1, 1, 1], [1, 0, 1, 0, 1, 1, 1, 1, 1, 1, 1, 1], [1, 1, 1, 0, 1, 1, 0, 1, 1, 1, 1, 1], [0, 1, 1, 1, 1, 1, 0, 1, 1, 1, 1, 1], [1, 1, 1, 0, 1, 1, 0, 1, 1, 1, 1, 1], [1, 1, 1, 0, 1, 1, 0, 1, 1, 1, 1, 1], [1, 1, 1, 1, 1, 1, 0, 1, 1, 1, 1, 1], [1, 1, 1, 0, 1, 1, 1, 1, 0, 1, 1, 1], [1, 1, 1, 1, 1, 1, 0, 1, 1, 1, 1, 1], [1, 1, 1, 0, 1, 1, 0, 1, 1, 1, 1, 1], [0, 1, 1, 0, 1, 1, 0, 1, 1, 1, 1, 1], [1, 1, 1, 1, 1, 1, 0, 1, 1, 1, 1, 1], [1, 1, 1, 1, 1, 0, 0, 1, 1, 1, 1, 0], [1, 0, 1, 1, 1, 0, 0, 1, 1, 1, 0, 0]] >>  Score:  78.711 %\n",
      "Generation 8 : [[0, 1, 1, 1, 1, 1, 0, 1, 1, 1, 1, 1], [0, 1, 1, 1, 1, 1, 0, 1, 1, 1, 1, 1], [1, 1, 1, 0, 1, 1, 1, 1, 0, 1, 1, 1], [1, 1, 1, 1, 1, 1, 0, 1, 1, 1, 1, 1], [1, 1, 1, 1, 1, 1, 0, 1, 1, 0, 1, 1], [1, 1, 1, 1, 1, 1, 0, 1, 1, 1, 1, 1], [1, 1, 1, 0, 1, 1, 0, 1, 1, 1, 1, 1], [0, 1, 1, 1, 1, 1, 0, 1, 1, 1, 1, 1], [1, 1, 1, 0, 1, 1, 1, 1, 1, 1, 1, 1], [0, 1, 1, 1, 1, 1, 0, 1, 1, 1, 1, 1], [1, 1, 1, 1, 1, 1, 0, 1, 1, 1, 1, 1], [1, 1, 1, 1, 1, 1, 0, 1, 1, 1, 1, 1], [1, 1, 1, 1, 1, 0, 0, 1, 1, 1, 1, 1], [1, 1, 1, 1, 1, 1, 0, 1, 1, 1, 1, 1], [1, 1, 1, 1, 0, 1, 0, 1, 1, 1, 1, 1], [1, 1, 1, 0, 1, 1, 0, 1, 1, 1, 1, 1], [0, 1, 1, 1, 1, 1, 0, 1, 1, 1, 1, 1], [1, 1, 0, 1, 1, 1, 1, 1, 1, 1, 1, 1], [1, 1, 1, 1, 1, 1, 0, 1, 1, 1, 1, 1], [1, 1, 1, 0, 1, 1, 1, 1, 1, 1, 1, 1]] >>  Score:  79.196 %\n",
      "Generation 9 : [[0, 1, 1, 1, 1, 1, 0, 1, 1, 1, 1, 1], [0, 1, 1, 1, 1, 1, 0, 1, 1, 1, 1, 1], [1, 1, 1, 1, 1, 1, 0, 1, 1, 1, 1, 0], [1, 1, 1, 1, 1, 1, 0, 1, 1, 1, 1, 1], [1, 1, 1, 0, 1, 1, 1, 1, 1, 1, 1, 1], [1, 1, 1, 0, 1, 1, 0, 1, 1, 1, 1, 1], [1, 1, 1, 1, 1, 1, 0, 1, 1, 1, 1, 1], [0, 1, 1, 1, 1, 1, 0, 1, 1, 1, 1, 1], [1, 1, 1, 0, 1, 1, 0, 1, 1, 1, 1, 1], [1, 1, 1, 1, 1, 0, 0, 1, 1, 1, 1, 1], [1, 1, 1, 1, 1, 1, 0, 1, 1, 1, 1, 1], [1, 1, 1, 1, 1, 1, 0, 1, 1, 1, 1, 1], [0, 1, 1, 1, 1, 1, 0, 1, 1, 1, 1, 1], [0, 1, 1, 1, 1, 1, 0, 1, 1, 1, 1, 1], [1, 1, 0, 1, 1, 1, 0, 1, 1, 1, 1, 1], [1, 1, 1, 1, 1, 1, 0, 1, 1, 1, 1, 1], [1, 1, 1, 1, 1, 1, 0, 1, 1, 1, 0, 1], [0, 1, 1, 1, 1, 1, 0, 1, 1, 1, 1, 1], [1, 1, 1, 1, 1, 1, 0, 1, 1, 1, 1, 1], [0, 1, 1, 1, 1, 1, 0, 1, 1, 1, 1, 1]] >>  Score:  79.558 %\n",
      "Generation 10 : [[0, 1, 1, 1, 1, 1, 0, 1, 1, 1, 1, 1], [0, 1, 1, 1, 1, 1, 0, 1, 1, 1, 1, 1], [0, 1, 1, 1, 1, 1, 1, 1, 1, 1, 1, 0], [1, 1, 1, 1, 1, 1, 0, 1, 1, 0, 1, 1], [1, 1, 1, 0, 1, 1, 0, 1, 1, 1, 1, 1], [1, 1, 1, 1, 1, 1, 0, 1, 1, 1, 0, 1], [0, 1, 1, 1, 1, 1, 0, 1, 1, 1, 1, 1], [0, 1, 1, 1, 1, 1, 0, 1, 1, 1, 1, 1], [0, 1, 1, 1, 1, 1, 0, 1, 1, 1, 1, 1], [1, 1, 1, 1, 1, 1, 1, 1, 1, 1, 0, 1], [0, 1, 0, 1, 1, 1, 1, 1, 1, 1, 1, 1], [0, 1, 1, 1, 1, 1, 0, 1, 1, 1, 1, 1], [0, 1, 1, 1, 1, 1, 0, 1, 1, 1, 1, 1], [1, 1, 1, 1, 1, 1, 0, 1, 1, 1, 1, 1], [1, 0, 1, 1, 1, 1, 0, 1, 1, 1, 1, 1], [1, 1, 1, 1, 1, 1, 0, 1, 1, 1, 1, 0], [0, 1, 1, 1, 1, 1, 0, 1, 1, 1, 1, 1], [1, 1, 1, 1, 1, 1, 0, 1, 1, 1, 1, 0], [0, 1, 1, 1, 1, 1, 0, 1, 1, 1, 1, 1], [0, 1, 1, 1, 1, 1, 0, 1, 1, 1, 1, 1]] >>  Score:  79.558 %\n",
      "Generation 11 : [[0, 1, 1, 1, 1, 1, 0, 1, 1, 1, 1, 1], [0, 1, 1, 1, 1, 1, 0, 1, 1, 1, 1, 1], [0, 1, 1, 1, 1, 1, 1, 1, 0, 1, 1, 1], [0, 1, 1, 1, 1, 1, 0, 1, 1, 1, 1, 1], [1, 1, 1, 1, 1, 1, 0, 1, 1, 1, 1, 1], [1, 1, 1, 1, 1, 1, 0, 1, 1, 1, 1, 0], [1, 0, 1, 1, 1, 1, 1, 1, 0, 1, 1, 1], [0, 1, 1, 1, 1, 0, 1, 1, 1, 1, 1, 1], [0, 1, 1, 1, 1, 1, 0, 1, 1, 1, 1, 1], [0, 1, 1, 1, 1, 1, 1, 1, 1, 1, 1, 0], [0, 1, 1, 1, 1, 1, 0, 1, 1, 1, 1, 1], [1, 1, 1, 0, 1, 1, 1, 1, 1, 1, 0, 1], [0, 1, 1, 1, 1, 1, 0, 1, 1, 1, 1, 1], [0, 1, 1, 1, 1, 1, 0, 1, 1, 1, 1, 1], [0, 1, 1, 1, 1, 1, 0, 1, 1, 1, 1, 1], [0, 1, 1, 1, 1, 1, 0, 1, 1, 1, 1, 1], [0, 1, 1, 1, 1, 1, 1, 1, 1, 1, 1, 0], [0, 1, 1, 1, 1, 1, 0, 1, 1, 1, 1, 1], [0, 1, 1, 1, 1, 1, 0, 1, 1, 1, 1, 1], [1, 1, 1, 1, 0, 0, 1, 1, 1, 1, 1, 1]] >>  Score:  79.558 %\n",
      "Generation 12 : [[0, 1, 1, 1, 1, 1, 0, 1, 1, 1, 1, 1], [0, 1, 1, 1, 1, 1, 0, 1, 1, 1, 1, 1], [0, 1, 1, 1, 1, 1, 1, 1, 1, 1, 1, 0], [1, 1, 1, 1, 1, 1, 0, 0, 1, 1, 1, 1], [0, 1, 1, 1, 1, 1, 0, 1, 1, 1, 1, 1], [0, 1, 1, 1, 1, 1, 0, 1, 1, 1, 1, 1], [1, 0, 1, 1, 1, 1, 0, 1, 1, 1, 1, 1], [0, 1, 1, 1, 1, 1, 1, 1, 1, 1, 1, 0], [0, 1, 1, 1, 1, 1, 1, 1, 0, 1, 1, 1], [0, 1, 1, 1, 1, 1, 0, 1, 1, 1, 1, 1], [0, 1, 1, 1, 0, 1, 1, 1, 1, 1, 1, 1], [0, 1, 1, 1, 1, 1, 1, 1, 1, 0, 1, 1], [0, 1, 1, 1, 1, 1, 1, 1, 1, 1, 1, 0], [0, 1, 1, 1, 1, 1, 0, 1, 1, 1, 1, 1], [0, 1, 1, 1, 1, 1, 0, 1, 1, 1, 1, 1], [0, 1, 1, 1, 1, 1, 0, 1, 1, 1, 1, 1], [0, 1, 1, 1, 1, 1, 0, 1, 1, 1, 1, 1], [1, 1, 1, 1, 1, 1, 0, 1, 1, 1, 1, 0], [0, 1, 1, 0, 1, 1, 1, 1, 1, 1, 1, 1], [1, 0, 1, 1, 1, 1, 0, 1, 1, 1, 1, 1]] >>  Score:  79.558 %\n",
      "Generation 13 : [[0, 1, 1, 1, 1, 1, 0, 1, 1, 1, 1, 1], [0, 1, 1, 1, 1, 1, 0, 1, 1, 1, 1, 1], [0, 1, 1, 1, 1, 1, 1, 1, 1, 1, 1, 0], [1, 1, 1, 1, 1, 1, 0, 1, 1, 0, 1, 1], [0, 1, 1, 1, 1, 1, 0, 1, 1, 1, 1, 1], [0, 1, 1, 1, 1, 1, 0, 1, 1, 1, 1, 1], [0, 1, 1, 1, 1, 1, 0, 1, 1, 1, 1, 1], [0, 1, 1, 1, 1, 1, 0, 1, 1, 1, 1, 1], [0, 1, 1, 1, 1, 1, 0, 1, 1, 1, 1, 1], [0, 1, 1, 1, 1, 1, 0, 1, 1, 1, 1, 1], [0, 1, 1, 1, 1, 1, 0, 1, 1, 1, 1, 1], [0, 1, 1, 1, 1, 1, 0, 1, 1, 1, 1, 1], [0, 1, 1, 1, 1, 1, 0, 1, 1, 1, 1, 1], [1, 0, 1, 1, 1, 1, 0, 1, 1, 1, 1, 1], [0, 1, 1, 1, 0, 1, 1, 1, 1, 1, 1, 1], [1, 1, 1, 1, 1, 1, 1, 1, 0, 1, 1, 0], [0, 1, 1, 1, 1, 1, 1, 1, 1, 1, 1, 1], [0, 1, 1, 1, 1, 1, 0, 1, 1, 1, 1, 0], [0, 1, 1, 1, 1, 1, 0, 1, 1, 1, 1, 1], [0, 1, 1, 1, 1, 1, 0, 1, 1, 1, 1, 1]] >>  Score:  79.558 %\n",
      "Generation 14 : [[0, 1, 1, 1, 1, 1, 0, 1, 1, 1, 1, 1], [0, 1, 1, 1, 1, 1, 0, 1, 1, 1, 1, 1], [0, 1, 1, 1, 1, 1, 0, 1, 1, 1, 1, 1], [0, 1, 1, 1, 1, 1, 1, 1, 1, 1, 1, 0], [0, 1, 1, 1, 1, 1, 0, 1, 1, 1, 1, 1], [0, 1, 1, 1, 1, 1, 0, 1, 1, 1, 1, 1], [1, 1, 1, 1, 0, 1, 0, 1, 1, 1, 1, 1], [0, 1, 1, 1, 1, 1, 0, 1, 1, 1, 1, 1], [0, 1, 1, 1, 1, 1, 1, 1, 1, 1, 1, 1], [0, 1, 1, 1, 1, 1, 0, 1, 1, 1, 1, 1], [0, 1, 1, 1, 1, 1, 0, 1, 1, 1, 1, 1], [0, 1, 1, 1, 1, 1, 0, 1, 1, 1, 1, 1], [1, 1, 1, 1, 1, 1, 0, 1, 0, 1, 1, 1], [0, 1, 1, 1, 1, 1, 0, 1, 1, 1, 1, 1], [0, 1, 1, 0, 1, 1, 1, 1, 1, 1, 1, 0], [0, 1, 1, 1, 1, 1, 0, 1, 1, 1, 1, 1], [0, 1, 1, 1, 1, 1, 0, 1, 1, 1, 1, 1], [0, 1, 1, 1, 1, 1, 0, 1, 1, 1, 1, 1], [0, 1, 1, 1, 1, 1, 0, 1, 1, 1, 1, 1], [0, 1, 1, 1, 1, 1, 0, 1, 1, 1, 1, 1]] >>  Score:  79.558 %\n",
      "Generation 15 : [[0, 1, 1, 1, 1, 1, 0, 1, 1, 1, 1, 1], [0, 1, 1, 1, 1, 1, 0, 1, 1, 1, 1, 1], [0, 1, 1, 1, 1, 1, 0, 1, 1, 1, 1, 1], [0, 1, 1, 1, 1, 1, 0, 1, 1, 1, 1, 1], [0, 1, 1, 1, 1, 1, 0, 1, 1, 1, 1, 1], [0, 1, 1, 1, 1, 1, 1, 0, 1, 1, 1, 1], [0, 1, 1, 1, 1, 1, 0, 1, 1, 1, 1, 1], [1, 1, 1, 0, 1, 1, 0, 1, 1, 1, 1, 1], [1, 1, 1, 1, 1, 1, 0, 0, 1, 1, 1, 1], [0, 1, 1, 1, 1, 1, 0, 1, 1, 1, 1, 1], [0, 1, 1, 1, 1, 1, 1, 1, 1, 1, 0, 1], [0, 1, 1, 1, 1, 1, 0, 1, 1, 1, 1, 1], [0, 1, 1, 1, 1, 1, 0, 1, 1, 1, 1, 1], [0, 1, 1, 1, 1, 1, 0, 1, 1, 1, 1, 1], [0, 1, 1, 0, 1, 1, 1, 1, 1, 1, 1, 0], [0, 1, 1, 1, 1, 1, 1, 1, 1, 1, 1, 1], [1, 1, 1, 1, 0, 1, 0, 1, 1, 1, 1, 1], [0, 1, 1, 1, 1, 1, 0, 1, 1, 1, 1, 1], [0, 1, 1, 1, 1, 1, 0, 1, 1, 1, 1, 1], [1, 1, 1, 1, 0, 1, 0, 1, 1, 1, 1, 1]] >>  Score:  79.561 %\n",
      "Generation 16 : [[0, 1, 1, 1, 1, 1, 0, 1, 1, 1, 1, 1], [0, 1, 1, 1, 1, 1, 0, 1, 1, 1, 1, 1], [0, 1, 1, 1, 1, 1, 0, 1, 1, 1, 1, 1], [1, 1, 1, 1, 1, 0, 0, 1, 1, 1, 1, 1], [1, 1, 1, 1, 1, 1, 0, 0, 1, 1, 1, 1], [1, 1, 1, 1, 1, 1, 0, 0, 1, 1, 1, 1], [0, 1, 1, 1, 1, 1, 0, 1, 1, 1, 1, 1], [1, 1, 0, 1, 1, 1, 0, 1, 1, 1, 1, 1], [0, 1, 1, 1, 1, 1, 1, 1, 1, 1, 1, 1], [0, 1, 1, 1, 1, 1, 0, 1, 1, 1, 1, 1], [0, 1, 1, 1, 1, 1, 1, 1, 1, 1, 1, 1], [1, 1, 1, 0, 1, 1, 0, 1, 1, 1, 1, 1], [0, 1, 1, 1, 1, 1, 0, 1, 1, 1, 1, 1], [0, 1, 1, 1, 1, 1, 0, 1, 1, 1, 1, 1], [0, 1, 1, 1, 1, 1, 1, 1, 1, 1, 0, 1], [0, 1, 1, 1, 1, 1, 0, 1, 1, 1, 1, 1], [1, 1, 1, 1, 1, 0, 0, 1, 1, 1, 1, 1], [0, 1, 1, 1, 0, 1, 1, 1, 1, 1, 1, 1], [0, 1, 1, 1, 1, 1, 0, 1, 1, 1, 1, 1], [0, 1, 1, 1, 1, 1, 0, 1, 1, 1, 1, 1]] >>  Score:  79.561 %\n",
      "Generation 17 : [[0, 1, 1, 1, 1, 1, 0, 1, 1, 1, 1, 1], [0, 1, 1, 1, 1, 1, 0, 1, 1, 1, 1, 1], [0, 1, 1, 1, 1, 1, 1, 1, 1, 0, 1, 1], [1, 1, 1, 1, 1, 1, 1, 0, 1, 1, 1, 0], [0, 1, 1, 1, 1, 1, 0, 1, 1, 1, 1, 1], [0, 1, 1, 1, 1, 1, 0, 1, 1, 1, 1, 1], [0, 1, 1, 1, 1, 1, 0, 1, 1, 1, 1, 1], [0, 1, 1, 1, 1, 1, 0, 1, 1, 1, 1, 1], [1, 1, 1, 1, 1, 1, 0, 1, 1, 1, 1, 1], [0, 1, 1, 1, 0, 1, 0, 1, 1, 1, 1, 1], [0, 1, 1, 1, 1, 1, 0, 1, 1, 1, 1, 1], [0, 1, 1, 1, 1, 1, 0, 1, 1, 1, 1, 1], [1, 1, 0, 1, 1, 1, 0, 1, 1, 1, 1, 1], [0, 1, 1, 1, 1, 1, 0, 1, 1, 1, 1, 1], [0, 1, 1, 1, 1, 1, 0, 1, 1, 1, 1, 1], [0, 1, 1, 1, 1, 1, 0, 1, 1, 1, 1, 1], [0, 1, 1, 1, 1, 1, 0, 1, 1, 1, 1, 1], [0, 1, 1, 1, 1, 1, 1, 1, 1, 0, 1, 1], [0, 1, 1, 1, 1, 1, 0, 1, 1, 1, 1, 1], [1, 1, 1, 1, 1, 1, 0, 1, 1, 1, 1, 1]] >>  Score:  79.561 %\n",
      "Generation 18 : [[0, 1, 1, 1, 1, 1, 0, 1, 1, 1, 1, 1], [0, 1, 1, 1, 1, 1, 0, 1, 1, 1, 1, 1], [0, 1, 1, 1, 1, 1, 1, 1, 1, 0, 1, 1], [0, 1, 1, 1, 1, 1, 0, 1, 1, 1, 1, 1], [0, 1, 1, 1, 1, 1, 0, 1, 1, 1, 1, 1], [1, 1, 1, 1, 1, 1, 0, 1, 1, 1, 1, 1], [0, 1, 1, 1, 1, 1, 1, 1, 1, 1, 1, 0], [0, 1, 1, 1, 1, 1, 1, 1, 0, 1, 1, 1], [0, 1, 1, 1, 1, 1, 0, 1, 1, 1, 1, 1], [0, 1, 1, 1, 1, 1, 0, 1, 1, 1, 1, 1], [1, 1, 1, 1, 1, 1, 0, 1, 1, 1, 1, 0], [0, 1, 1, 1, 1, 1, 0, 1, 1, 1, 1, 1], [1, 1, 1, 1, 0, 1, 1, 1, 1, 1, 0, 1], [0, 1, 1, 1, 1, 1, 0, 1, 1, 1, 1, 1], [0, 1, 1, 1, 0, 1, 0, 1, 1, 1, 1, 1], [1, 0, 1, 1, 1, 1, 0, 1, 1, 1, 1, 1], [0, 1, 1, 1, 1, 1, 0, 1, 1, 1, 1, 1], [0, 1, 1, 1, 1, 0, 1, 1, 1, 1, 1, 1], [1, 1, 1, 1, 1, 1, 0, 1, 1, 1, 0, 1], [0, 1, 1, 1, 1, 1, 0, 1, 1, 1, 1, 1]] >>  Score:  79.561 %\n",
      "Generation 19 : [[0, 1, 1, 1, 1, 1, 0, 1, 1, 1, 1, 1], [0, 1, 1, 1, 1, 1, 0, 1, 1, 1, 1, 1], [0, 1, 1, 1, 1, 0, 1, 1, 1, 1, 1, 1], [0, 1, 1, 1, 1, 1, 0, 1, 1, 1, 1, 1], [1, 1, 1, 1, 1, 1, 0, 1, 1, 1, 1, 1], [1, 1, 1, 1, 1, 1, 0, 0, 1, 1, 1, 1], [0, 1, 1, 1, 1, 1, 0, 1, 1, 1, 1, 1], [1, 1, 1, 1, 1, 1, 0, 1, 1, 1, 1, 0], [0, 1, 1, 1, 1, 1, 0, 1, 1, 1, 1, 1], [0, 1, 1, 1, 1, 1, 0, 1, 1, 1, 1, 1], [0, 1, 1, 1, 1, 0, 1, 1, 1, 1, 1, 1], [1, 1, 1, 1, 1, 1, 0, 1, 0, 1, 1, 1], [0, 1, 1, 1, 1, 1, 1, 1, 1, 0, 1, 1], [0, 1, 1, 1, 1, 1, 0, 1, 1, 1, 1, 1], [0, 1, 1, 1, 1, 1, 0, 1, 1, 1, 1, 1], [0, 1, 1, 1, 1, 1, 0, 1, 1, 1, 1, 1], [0, 1, 1, 1, 1, 1, 0, 1, 1, 1, 1, 1], [1, 1, 1, 1, 1, 1, 0, 1, 1, 1, 1, 1], [0, 1, 1, 1, 1, 1, 0, 1, 1, 1, 1, 1], [0, 1, 1, 1, 1, 1, 0, 1, 1, 1, 1, 1]] >>  Score:  79.561 %\n",
      "Generation 20 : [[0, 1, 1, 1, 1, 1, 0, 1, 1, 1, 1, 1], [0, 1, 1, 1, 1, 1, 0, 1, 1, 1, 1, 1], [0, 1, 1, 1, 1, 1, 0, 1, 1, 1, 1, 1], [0, 1, 1, 1, 1, 1, 0, 1, 1, 1, 1, 1], [1, 1, 1, 1, 1, 1, 0, 1, 1, 1, 1, 1], [1, 1, 1, 1, 1, 0, 0, 1, 1, 1, 1, 1], [0, 1, 1, 0, 1, 1, 1, 1, 1, 1, 1, 1], [0, 1, 1, 1, 1, 1, 0, 1, 1, 1, 1, 1], [0, 1, 1, 1, 1, 1, 1, 1, 1, 0, 1, 1], [0, 1, 1, 1, 1, 1, 0, 1, 1, 1, 1, 1], [0, 1, 1, 1, 1, 1, 0, 1, 1, 1, 1, 1], [0, 1, 1, 1, 1, 1, 0, 1, 1, 1, 1, 1], [0, 1, 1, 1, 1, 1, 0, 1, 1, 1, 1, 1], [1, 1, 1, 1, 1, 1, 0, 1, 1, 1, 1, 1], [1, 1, 1, 0, 0, 1, 1, 1, 1, 1, 1, 1], [0, 1, 1, 1, 1, 1, 0, 1, 1, 1, 1, 1], [0, 1, 1, 1, 0, 1, 1, 1, 1, 1, 1, 1], [1, 1, 0, 1, 1, 1, 0, 1, 1, 1, 1, 1], [0, 1, 1, 1, 1, 1, 0, 1, 1, 1, 1, 1], [0, 1, 1, 1, 1, 1, 0, 1, 1, 1, 1, 1]] >>  Score:  79.561 %\n",
      "Generation 21 : [[0, 1, 1, 1, 1, 1, 0, 1, 1, 1, 1, 1], [0, 1, 1, 1, 1, 1, 0, 1, 1, 1, 1, 1], [0, 1, 1, 0, 1, 1, 0, 1, 1, 1, 1, 1], [0, 1, 1, 1, 1, 1, 1, 1, 1, 1, 1, 1], [0, 1, 1, 1, 1, 1, 0, 1, 1, 1, 1, 1], [0, 1, 1, 1, 1, 1, 0, 1, 1, 1, 1, 1], [0, 1, 1, 1, 1, 1, 0, 1, 1, 1, 1, 1], [1, 1, 1, 0, 0, 1, 1, 1, 1, 1, 1, 1], [0, 1, 1, 1, 1, 1, 0, 1, 1, 1, 1, 1], [0, 1, 1, 1, 1, 1, 0, 1, 1, 1, 1, 1], [0, 1, 1, 1, 1, 1, 1, 1, 1, 1, 1, 1], [0, 1, 1, 1, 1, 1, 0, 1, 1, 0, 1, 1], [0, 1, 1, 1, 1, 1, 0, 1, 1, 1, 1, 1], [0, 1, 1, 1, 1, 1, 0, 1, 1, 1, 1, 1], [0, 1, 1, 1, 1, 0, 1, 1, 1, 1, 1, 1], [0, 1, 1, 1, 1, 1, 0, 1, 1, 1, 1, 1], [0, 1, 1, 1, 0, 1, 1, 1, 1, 1, 1, 1], [0, 1, 1, 1, 1, 1, 0, 1, 1, 1, 1, 1], [0, 1, 1, 1, 1, 1, 0, 1, 1, 1, 1, 1], [0, 1, 1, 0, 1, 1, 1, 1, 1, 1, 1, 1]] >>  Score:  79.561 %\n",
      "Generation 22 : [[0, 1, 1, 1, 1, 1, 0, 1, 1, 1, 1, 1], [0, 1, 1, 1, 1, 1, 0, 1, 1, 1, 1, 1], [0, 1, 1, 1, 1, 1, 0, 1, 1, 1, 1, 1], [0, 1, 1, 1, 1, 1, 0, 1, 1, 1, 1, 1], [0, 1, 1, 1, 1, 1, 1, 1, 1, 1, 1, 1], [0, 1, 1, 1, 1, 1, 0, 1, 1, 1, 1, 1], [0, 1, 1, 1, 1, 1, 0, 1, 1, 1, 1, 1], [1, 1, 1, 1, 1, 1, 0, 1, 1, 1, 1, 0], [1, 1, 1, 1, 0, 1, 0, 1, 1, 1, 1, 1], [0, 1, 1, 0, 1, 1, 1, 1, 1, 1, 1, 1], [0, 1, 1, 0, 1, 1, 1, 1, 1, 1, 1, 1], [0, 1, 1, 1, 1, 1, 1, 1, 1, 1, 1, 1], [1, 1, 1, 1, 0, 1, 0, 1, 1, 1, 1, 1], [0, 1, 1, 1, 1, 1, 1, 1, 1, 1, 1, 1], [0, 1, 1, 1, 1, 1, 0, 1, 1, 1, 1, 1], [0, 1, 1, 0, 1, 1, 0, 1, 1, 1, 1, 1], [0, 1, 1, 1, 1, 1, 0, 1, 1, 1, 1, 1], [0, 1, 1, 0, 1, 1, 0, 1, 1, 1, 1, 1], [0, 1, 1, 1, 1, 0, 1, 1, 1, 1, 1, 1], [0, 1, 1, 1, 1, 1, 0, 1, 1, 1, 1, 1]] >>  Score:  79.687 %\n",
      "Generation 23 : [[0, 1, 1, 1, 1, 1, 0, 1, 1, 1, 1, 1], [0, 1, 1, 1, 1, 1, 0, 1, 1, 1, 1, 1], [1, 1, 1, 1, 1, 1, 0, 1, 1, 1, 1, 0], [1, 1, 1, 1, 0, 1, 0, 1, 1, 1, 1, 1], [0, 1, 1, 1, 1, 1, 1, 1, 1, 1, 1, 1], [0, 1, 1, 1, 1, 1, 0, 1, 1, 1, 1, 1], [0, 1, 1, 1, 1, 1, 0, 1, 1, 1, 1, 1], [0, 1, 1, 0, 1, 1, 0, 1, 1, 1, 1, 1], [0, 1, 1, 1, 1, 1, 0, 1, 1, 1, 1, 1], [0, 1, 1, 1, 1, 0, 0, 1, 1, 1, 1, 1], [1, 1, 1, 1, 1, 1, 0, 1, 1, 1, 1, 1], [0, 1, 1, 1, 1, 1, 1, 1, 1, 1, 1, 0], [0, 1, 1, 1, 1, 1, 0, 1, 1, 1, 1, 1], [0, 1, 1, 1, 1, 1, 1, 1, 1, 1, 1, 1], [0, 1, 1, 1, 1, 1, 0, 1, 1, 1, 1, 1], [0, 1, 1, 1, 1, 1, 0, 1, 1, 1, 1, 1], [0, 1, 1, 0, 1, 1, 0, 1, 1, 1, 1, 1], [0, 1, 1, 1, 1, 1, 0, 1, 1, 1, 1, 1], [1, 0, 1, 1, 1, 1, 0, 1, 1, 1, 1, 1], [0, 1, 1, 1, 1, 1, 0, 1, 1, 1, 1, 1]] >>  Score:  79.678 %\n",
      "Generation 24 : [[0, 1, 1, 1, 1, 1, 0, 1, 1, 1, 1, 1], [0, 1, 1, 1, 1, 1, 0, 1, 1, 1, 1, 1], [1, 1, 0, 1, 1, 1, 0, 1, 1, 1, 1, 1], [0, 1, 1, 1, 1, 1, 0, 1, 1, 1, 1, 1], [0, 1, 1, 1, 1, 1, 0, 1, 1, 1, 1, 1], [0, 1, 1, 1, 1, 1, 0, 1, 1, 1, 1, 1], [1, 1, 1, 0, 1, 1, 1, 1, 1, 0, 1, 1], [0, 1, 1, 1, 1, 1, 1, 1, 1, 1, 1, 0], [0, 1, 1, 1, 1, 1, 0, 1, 1, 1, 1, 1], [0, 1, 1, 1, 1, 1, 0, 1, 1, 1, 1, 1], [0, 1, 1, 1, 1, 1, 0, 1, 1, 1, 1, 1], [0, 1, 1, 1, 1, 1, 0, 1, 1, 1, 1, 1], [0, 1, 1, 1, 1, 1, 0, 1, 1, 1, 1, 1], [0, 1, 1, 1, 1, 1, 0, 1, 1, 1, 1, 1], [0, 1, 1, 1, 1, 1, 0, 1, 1, 1, 1, 1], [0, 1, 1, 1, 1, 0, 0, 1, 1, 1, 1, 1], [0, 1, 1, 1, 1, 1, 0, 1, 1, 1, 1, 1], [0, 1, 1, 1, 1, 1, 0, 1, 1, 1, 1, 1], [0, 1, 1, 1, 1, 1, 0, 1, 1, 0, 1, 1], [0, 1, 1, 1, 1, 1, 1, 1, 1, 1, 1, 1]] >>  Score:  79.561 %\n",
      "Generation 25 : [[0, 1, 1, 1, 1, 1, 0, 1, 1, 1, 1, 1], [0, 1, 1, 1, 1, 1, 0, 1, 1, 1, 1, 1], [0, 1, 1, 1, 1, 1, 1, 1, 1, 0, 1, 1], [1, 1, 1, 0, 1, 1, 0, 1, 1, 1, 1, 1], [0, 1, 1, 1, 1, 1, 1, 1, 1, 1, 1, 0], [0, 1, 1, 1, 1, 1, 0, 1, 1, 1, 1, 1], [0, 1, 1, 1, 1, 1, 0, 1, 1, 1, 1, 1], [1, 1, 1, 0, 0, 1, 1, 1, 1, 1, 1, 1], [0, 1, 1, 1, 1, 1, 0, 1, 1, 1, 1, 1], [0, 1, 1, 1, 1, 1, 0, 1, 1, 1, 1, 1], [0, 1, 1, 1, 1, 0, 0, 1, 1, 1, 1, 1], [0, 1, 1, 1, 1, 1, 0, 1, 1, 1, 1, 1], [0, 1, 1, 1, 1, 0, 1, 1, 1, 1, 1, 1], [0, 1, 1, 1, 1, 1, 0, 1, 1, 1, 1, 1], [1, 1, 1, 1, 1, 1, 0, 1, 1, 1, 0, 1], [0, 1, 0, 1, 1, 1, 1, 1, 1, 1, 1, 0], [0, 1, 1, 1, 1, 1, 0, 1, 1, 1, 1, 1], [0, 1, 1, 1, 1, 1, 0, 1, 1, 1, 1, 1], [0, 1, 1, 1, 1, 1, 0, 1, 1, 1, 1, 1], [0, 1, 1, 1, 1, 1, 0, 1, 1, 1, 1, 1]] >>  Score:  79.561 %\n",
      "Generation 26 : [[0, 1, 1, 1, 1, 1, 0, 1, 1, 1, 1, 1], [0, 1, 1, 1, 1, 1, 0, 1, 1, 1, 1, 1], [0, 1, 1, 1, 1, 1, 0, 1, 1, 1, 1, 1], [0, 0, 1, 1, 1, 1, 1, 1, 1, 1, 1, 1], [0, 1, 1, 1, 1, 1, 0, 1, 1, 1, 1, 1], [0, 1, 1, 1, 1, 1, 0, 1, 1, 1, 1, 1], [0, 1, 1, 1, 1, 0, 1, 1, 1, 1, 1, 1], [0, 1, 1, 1, 1, 1, 0, 1, 1, 1, 1, 1], [0, 1, 1, 1, 1, 1, 0, 1, 1, 1, 1, 1], [0, 1, 1, 1, 1, 1, 0, 1, 1, 1, 1, 1], [1, 1, 1, 1, 0, 1, 1, 1, 0, 1, 1, 1], [0, 1, 1, 1, 1, 1, 0, 1, 1, 1, 1, 1], [0, 1, 1, 1, 1, 1, 0, 1, 1, 1, 1, 1], [1, 1, 1, 1, 1, 0, 0, 1, 1, 1, 1, 1], [0, 1, 1, 1, 1, 1, 0, 1, 1, 1, 1, 1], [0, 1, 1, 1, 1, 1, 0, 1, 1, 1, 1, 1], [0, 1, 1, 1, 1, 1, 0, 1, 1, 1, 1, 1], [0, 1, 1, 1, 1, 1, 0, 1, 1, 1, 1, 1], [0, 1, 1, 1, 1, 1, 0, 1, 1, 1, 1, 1], [0, 1, 1, 1, 1, 1, 0, 1, 1, 1, 1, 1]] >>  Score:  79.561 %\n",
      "Generation 27 : [[0, 1, 1, 1, 1, 1, 0, 1, 1, 1, 1, 1], [0, 1, 1, 1, 1, 1, 0, 1, 1, 1, 1, 1], [1, 0, 1, 1, 1, 1, 0, 1, 1, 1, 1, 1], [0, 1, 1, 1, 1, 1, 0, 1, 1, 1, 1, 1], [0, 1, 1, 1, 1, 1, 0, 1, 1, 1, 1, 1], [0, 1, 1, 1, 1, 1, 0, 1, 1, 1, 1, 1], [0, 1, 1, 1, 1, 1, 0, 1, 1, 1, 1, 1], [0, 1, 1, 1, 1, 1, 0, 1, 1, 1, 1, 1], [0, 1, 1, 1, 1, 1, 0, 1, 1, 1, 1, 1], [0, 1, 1, 1, 1, 1, 0, 1, 1, 1, 1, 1], [0, 1, 1, 1, 1, 1, 0, 1, 1, 1, 1, 1], [0, 1, 1, 1, 1, 1, 0, 1, 1, 1, 1, 1], [0, 1, 1, 1, 1, 1, 0, 1, 1, 1, 1, 1], [0, 1, 1, 1, 1, 0, 1, 1, 1, 1, 1, 1], [1, 1, 1, 1, 1, 0, 1, 0, 1, 1, 1, 1], [0, 1, 1, 1, 1, 1, 0, 1, 1, 1, 1, 1], [0, 1, 1, 1, 1, 0, 1, 1, 1, 1, 1, 1], [0, 1, 1, 1, 1, 1, 0, 1, 1, 1, 1, 1], [0, 1, 1, 1, 1, 1, 0, 1, 1, 1, 1, 1], [0, 1, 1, 1, 1, 1, 0, 1, 1, 1, 1, 1]] >>  Score:  79.561 %\n",
      "Generation 28 : [[0, 1, 1, 1, 1, 1, 0, 1, 1, 1, 1, 1], [0, 1, 1, 1, 1, 1, 0, 1, 1, 1, 1, 1], [0, 1, 1, 1, 1, 1, 0, 1, 1, 1, 1, 1], [1, 1, 1, 1, 1, 1, 0, 0, 1, 1, 1, 1], [0, 1, 1, 1, 1, 0, 1, 1, 1, 1, 1, 1], [0, 1, 1, 1, 1, 1, 0, 1, 1, 1, 1, 1], [0, 1, 1, 1, 1, 1, 0, 1, 1, 1, 1, 1], [0, 1, 1, 1, 1, 1, 0, 1, 1, 1, 1, 1], [0, 1, 1, 1, 1, 1, 0, 1, 1, 1, 1, 1], [0, 1, 1, 1, 1, 1, 0, 1, 1, 1, 1, 1], [0, 1, 1, 1, 1, 1, 0, 1, 1, 1, 1, 1], [0, 1, 1, 1, 1, 1, 0, 1, 1, 1, 1, 1], [0, 1, 1, 1, 1, 1, 1, 1, 0, 1, 1, 1], [0, 1, 1, 1, 1, 1, 0, 1, 1, 1, 1, 1], [0, 1, 1, 1, 1, 1, 0, 1, 1, 1, 1, 1], [1, 1, 1, 1, 1, 1, 0, 1, 1, 0, 1, 1], [1, 1, 1, 1, 1, 1, 0, 1, 1, 0, 1, 1], [0, 1, 1, 1, 1, 1, 1, 1, 1, 1, 1, 0], [0, 1, 1, 1, 1, 1, 0, 1, 1, 1, 1, 1], [0, 1, 1, 1, 1, 1, 0, 1, 1, 1, 1, 1]] >>  Score:  79.561 %\n",
      "Generation 29 : [[0, 1, 1, 1, 1, 1, 0, 1, 1, 1, 1, 1], [0, 1, 1, 1, 1, 1, 0, 1, 1, 1, 1, 1], [0, 1, 1, 1, 1, 1, 1, 1, 1, 0, 1, 1], [0, 1, 1, 1, 1, 1, 0, 1, 1, 1, 1, 1], [0, 1, 1, 1, 1, 1, 0, 1, 1, 1, 1, 1], [1, 1, 1, 1, 1, 1, 0, 1, 1, 1, 0, 1], [1, 1, 1, 1, 1, 1, 0, 1, 0, 1, 1, 1], [1, 1, 0, 1, 1, 1, 1, 1, 0, 1, 1, 1], [0, 1, 1, 1, 1, 1, 0, 1, 1, 1, 1, 1], [0, 1, 1, 1, 1, 1, 0, 1, 1, 1, 1, 1], [0, 1, 1, 1, 1, 1, 0, 1, 1, 1, 1, 1], [0, 1, 1, 1, 1, 1, 0, 1, 1, 1, 1, 1], [0, 1, 1, 1, 1, 1, 0, 1, 1, 1, 1, 1], [0, 1, 1, 1, 1, 1, 0, 1, 1, 1, 1, 1], [0, 0, 1, 1, 1, 1, 1, 1, 1, 1, 1, 1], [1, 1, 1, 1, 1, 1, 0, 1, 0, 1, 1, 1], [0, 1, 1, 1, 1, 1, 0, 1, 1, 1, 1, 1], [0, 1, 1, 1, 1, 1, 1, 1, 0, 1, 1, 1], [0, 1, 1, 1, 1, 1, 0, 1, 1, 1, 1, 1], [1, 1, 1, 1, 1, 1, 0, 1, 1, 1, 1, 0]] >>  Score:  79.561 %\n",
      "Generation 30 : [[0, 1, 1, 1, 1, 1, 0, 1, 1, 1, 1, 1], [0, 1, 1, 1, 1, 1, 0, 1, 1, 1, 1, 1], [0, 1, 1, 1, 1, 1, 0, 1, 1, 1, 1, 1], [0, 1, 1, 1, 1, 1, 1, 1, 1, 0, 1, 1], [0, 1, 1, 1, 1, 1, 1, 1, 1, 1, 0, 1], [0, 1, 1, 1, 1, 1, 0, 1, 1, 1, 1, 1], [0, 1, 1, 1, 1, 1, 0, 1, 1, 1, 1, 1], [1, 1, 1, 1, 1, 1, 0, 1, 1, 1, 1, 0], [0, 1, 1, 1, 1, 1, 0, 1, 1, 1, 1, 1], [0, 1, 1, 1, 1, 1, 0, 1, 1, 1, 1, 1], [0, 1, 1, 1, 1, 1, 0, 1, 1, 1, 1, 1], [1, 1, 1, 1, 1, 1, 0, 1, 0, 1, 1, 1], [0, 1, 1, 1, 1, 1, 0, 1, 1, 1, 1, 1], [0, 1, 1, 1, 1, 1, 0, 1, 1, 1, 1, 1], [0, 0, 1, 1, 1, 1, 1, 1, 1, 1, 1, 1], [0, 1, 1, 1, 1, 1, 0, 1, 1, 1, 1, 1], [0, 1, 1, 1, 0, 1, 1, 1, 1, 1, 1, 1], [0, 1, 1, 1, 1, 1, 0, 1, 1, 1, 1, 1], [1, 1, 1, 1, 1, 1, 0, 1, 1, 1, 1, 0], [1, 1, 0, 1, 1, 1, 0, 1, 1, 1, 1, 1]] >>  Score:  80.04 %\n",
      "Generation 31 : [[0, 1, 1, 1, 1, 1, 0, 1, 1, 1, 1, 1], [0, 1, 1, 1, 1, 1, 0, 1, 1, 1, 1, 1], [0, 1, 1, 1, 1, 1, 0, 1, 1, 1, 1, 1], [0, 1, 1, 1, 1, 1, 1, 1, 1, 1, 0, 1], [1, 1, 1, 1, 0, 1, 1, 1, 1, 0, 1, 1], [0, 1, 1, 1, 1, 1, 1, 1, 1, 0, 1, 1], [0, 1, 1, 1, 1, 1, 0, 1, 1, 1, 1, 1], [0, 1, 1, 1, 1, 1, 0, 1, 1, 1, 1, 1], [0, 1, 1, 1, 1, 0, 0, 1, 1, 1, 1, 1], [1, 1, 1, 1, 1, 1, 0, 1, 1, 1, 1, 1], [0, 1, 1, 1, 1, 1, 1, 1, 1, 0, 1, 1], [0, 1, 1, 1, 1, 1, 0, 1, 1, 1, 1, 1], [0, 1, 1, 1, 1, 1, 0, 1, 1, 1, 1, 1], [0, 1, 1, 1, 1, 1, 1, 1, 0, 1, 1, 1], [0, 1, 1, 1, 1, 1, 0, 1, 1, 1, 1, 1], [0, 1, 1, 1, 1, 1, 0, 1, 1, 1, 1, 1], [0, 1, 1, 1, 1, 1, 0, 1, 1, 1, 1, 1], [0, 1, 1, 1, 1, 1, 0, 1, 1, 1, 1, 1], [0, 1, 1, 1, 1, 1, 1, 0, 1, 1, 1, 1], [0, 1, 1, 1, 1, 1, 0, 1, 1, 1, 1, 1]] >>  Score:  80.04 %\n",
      "Generation 32 : [[0, 1, 1, 1, 1, 1, 0, 1, 1, 1, 1, 1], [0, 1, 1, 1, 1, 1, 0, 1, 1, 1, 1, 1], [0, 1, 1, 1, 1, 1, 0, 1, 1, 1, 0, 1], [0, 1, 1, 1, 1, 1, 1, 1, 1, 1, 1, 1], [0, 1, 1, 1, 1, 1, 0, 1, 1, 1, 1, 1], [0, 1, 1, 1, 1, 1, 0, 1, 1, 1, 1, 1], [0, 1, 1, 1, 1, 1, 1, 1, 1, 1, 0, 1], [0, 1, 1, 1, 1, 1, 1, 0, 1, 1, 1, 1], [0, 1, 1, 1, 1, 1, 0, 1, 1, 1, 1, 1], [0, 1, 1, 1, 1, 1, 0, 1, 1, 1, 1, 1], [1, 1, 1, 1, 1, 1, 0, 1, 1, 1, 0, 1], [0, 1, 1, 1, 1, 1, 0, 1, 1, 1, 1, 1], [0, 1, 1, 1, 1, 1, 1, 1, 1, 1, 1, 1], [0, 1, 1, 1, 1, 1, 0, 1, 1, 0, 1, 1], [0, 1, 1, 1, 1, 1, 0, 1, 1, 1, 1, 1], [0, 1, 1, 1, 1, 1, 0, 1, 1, 1, 1, 1], [0, 1, 0, 1, 1, 1, 1, 1, 1, 1, 1, 1], [0, 1, 1, 1, 1, 1, 0, 1, 1, 1, 1, 1], [1, 1, 1, 0, 1, 0, 1, 1, 1, 1, 1, 1], [0, 1, 1, 1, 0, 1, 1, 1, 1, 1, 1, 1]] >>  Score:  80.04 %\n",
      "Generation 33 : [[0, 1, 1, 1, 1, 1, 0, 1, 1, 1, 1, 1], [0, 1, 1, 1, 1, 1, 0, 1, 1, 1, 1, 1], [0, 1, 1, 1, 1, 1, 0, 1, 1, 1, 1, 1], [1, 1, 0, 1, 1, 1, 1, 1, 1, 1, 0, 1], [0, 1, 1, 0, 1, 1, 1, 1, 1, 1, 1, 1], [1, 1, 1, 1, 1, 0, 1, 1, 1, 1, 1, 1], [0, 1, 1, 1, 1, 1, 0, 1, 1, 1, 1, 1], [1, 1, 0, 1, 1, 1, 0, 1, 1, 1, 1, 1], [0, 1, 1, 1, 1, 1, 0, 1, 1, 1, 1, 1], [0, 1, 1, 1, 1, 1, 0, 1, 1, 1, 1, 1], [0, 1, 1, 1, 1, 1, 0, 1, 1, 1, 1, 1], [0, 1, 0, 1, 1, 1, 1, 1, 1, 1, 1, 1], [1, 1, 1, 1, 1, 1, 1, 1, 1, 1, 0, 0], [1, 1, 1, 1, 1, 1, 0, 1, 0, 1, 1, 1], [1, 1, 1, 1, 1, 0, 1, 1, 1, 1, 1, 1], [0, 1, 1, 1, 1, 1, 1, 0, 1, 1, 1, 1], [0, 0, 1, 1, 1, 1, 1, 1, 1, 1, 1, 1], [0, 1, 1, 1, 1, 1, 1, 1, 1, 1, 1, 1], [0, 1, 1, 1, 1, 1, 0, 1, 1, 1, 1, 1], [0, 1, 1, 1, 1, 1, 0, 1, 1, 1, 1, 1]] >>  Score:  80.04 %\n",
      "Generation 34 : [[0, 1, 1, 1, 1, 1, 0, 1, 1, 1, 1, 1], [0, 1, 1, 1, 1, 1, 0, 1, 1, 1, 1, 1], [0, 1, 1, 1, 1, 1, 0, 1, 1, 1, 1, 1], [0, 1, 1, 1, 1, 1, 0, 1, 1, 1, 1, 1], [0, 0, 1, 1, 1, 1, 1, 1, 1, 1, 1, 1], [0, 1, 1, 1, 1, 1, 0, 1, 1, 1, 1, 1], [0, 1, 1, 1, 1, 1, 0, 1, 1, 1, 1, 1], [0, 1, 1, 1, 1, 1, 0, 1, 1, 1, 1, 1], [1, 1, 1, 1, 1, 0, 1, 1, 1, 1, 1, 1], [0, 1, 1, 1, 1, 1, 1, 1, 1, 1, 1, 1], [0, 1, 1, 1, 1, 1, 0, 1, 1, 1, 1, 1], [0, 1, 1, 1, 1, 1, 0, 1, 1, 1, 1, 1], [1, 1, 1, 1, 1, 0, 1, 1, 1, 1, 1, 1], [1, 1, 1, 1, 1, 1, 0, 1, 1, 1, 1, 1], [0, 1, 1, 1, 1, 1, 0, 1, 1, 1, 1, 1], [0, 1, 1, 1, 1, 1, 1, 1, 1, 1, 0, 1], [0, 1, 1, 1, 1, 1, 0, 1, 1, 1, 1, 1], [0, 1, 0, 1, 1, 1, 1, 1, 1, 1, 1, 1], [0, 1, 1, 1, 1, 1, 1, 0, 1, 1, 1, 1], [0, 1, 1, 1, 1, 1, 0, 1, 1, 1, 1, 1]] >>  Score:  80.04 %\n",
      "Generation 35 : [[0, 1, 1, 1, 1, 1, 0, 1, 1, 1, 1, 1], [0, 1, 1, 1, 1, 1, 0, 1, 1, 1, 1, 1], [0, 1, 1, 1, 1, 1, 0, 1, 1, 1, 1, 1], [0, 1, 1, 1, 1, 1, 0, 1, 1, 1, 1, 1], [0, 1, 1, 1, 1, 1, 1, 1, 1, 1, 1, 1], [1, 1, 0, 1, 1, 1, 0, 1, 1, 1, 1, 1], [1, 1, 1, 1, 1, 1, 0, 1, 1, 0, 1, 1], [0, 1, 1, 1, 1, 1, 0, 1, 1, 1, 1, 1], [0, 1, 1, 1, 1, 1, 0, 1, 1, 1, 1, 1], [1, 1, 1, 1, 1, 1, 0, 1, 1, 1, 1, 0], [1, 1, 1, 1, 1, 1, 0, 1, 0, 1, 1, 1], [0, 1, 1, 1, 1, 1, 0, 1, 1, 1, 1, 1], [0, 1, 1, 1, 1, 1, 0, 1, 1, 1, 1, 1], [0, 1, 1, 1, 1, 1, 0, 1, 1, 1, 1, 1], [1, 1, 1, 1, 1, 1, 0, 1, 1, 0, 1, 1], [0, 1, 1, 1, 1, 1, 1, 1, 1, 1, 0, 1], [0, 1, 1, 1, 1, 1, 0, 1, 1, 1, 1, 1], [0, 1, 1, 1, 1, 1, 1, 1, 1, 1, 0, 1], [0, 1, 1, 1, 1, 1, 0, 1, 1, 1, 1, 1], [0, 1, 1, 1, 1, 1, 0, 1, 1, 1, 1, 1]] >>  Score:  80.04 %\n",
      "Generation 36 : [[0, 1, 1, 1, 1, 1, 0, 1, 1, 1, 1, 1], [0, 1, 1, 1, 1, 1, 0, 1, 1, 1, 1, 1], [0, 1, 1, 1, 1, 1, 0, 1, 1, 1, 1, 1], [1, 1, 1, 0, 1, 1, 0, 1, 1, 1, 1, 1], [0, 1, 1, 1, 1, 1, 0, 1, 1, 1, 1, 1], [0, 1, 1, 1, 1, 1, 1, 1, 0, 1, 1, 1], [0, 1, 1, 1, 1, 1, 1, 1, 1, 1, 0, 1], [1, 1, 1, 1, 0, 1, 0, 1, 1, 1, 1, 1], [0, 1, 1, 1, 1, 1, 0, 1, 1, 1, 1, 1], [0, 1, 1, 1, 1, 1, 0, 1, 1, 1, 1, 1], [0, 1, 1, 1, 1, 1, 0, 1, 1, 1, 1, 1], [0, 1, 1, 1, 1, 1, 0, 1, 1, 1, 1, 1], [1, 1, 1, 0, 1, 0, 1, 1, 1, 1, 1, 1], [0, 1, 1, 1, 1, 1, 0, 1, 1, 1, 1, 1], [0, 1, 1, 1, 1, 1, 0, 1, 1, 1, 1, 1], [1, 1, 1, 1, 1, 1, 0, 1, 1, 0, 1, 1], [0, 1, 1, 1, 1, 1, 0, 1, 1, 1, 1, 1], [0, 1, 1, 1, 1, 1, 0, 1, 1, 1, 1, 1], [1, 1, 1, 1, 1, 1, 0, 1, 1, 1, 1, 0], [0, 1, 1, 1, 1, 0, 1, 1, 1, 1, 1, 1]] >>  Score:  80.04 %\n",
      "Generation 37 : [[0, 1, 1, 1, 1, 1, 0, 1, 1, 1, 1, 1], [0, 1, 1, 1, 1, 1, 0, 1, 1, 1, 1, 1], [0, 1, 1, 1, 1, 1, 0, 1, 1, 1, 1, 1], [0, 1, 1, 1, 1, 1, 0, 1, 1, 1, 1, 1], [0, 1, 1, 1, 1, 1, 0, 1, 1, 1, 1, 1], [1, 1, 1, 1, 1, 1, 0, 1, 0, 1, 1, 1], [0, 1, 1, 1, 1, 0, 1, 1, 1, 1, 1, 1], [0, 1, 1, 1, 1, 1, 0, 1, 1, 1, 1, 1], [0, 1, 1, 1, 1, 1, 0, 1, 1, 1, 1, 1], [0, 1, 1, 1, 1, 1, 0, 1, 1, 1, 1, 1], [1, 0, 1, 1, 1, 1, 0, 1, 1, 1, 1, 1], [1, 1, 1, 1, 1, 1, 1, 0, 1, 0, 1, 1], [1, 1, 1, 1, 1, 1, 0, 1, 1, 1, 0, 1], [0, 1, 1, 1, 1, 1, 0, 1, 1, 1, 1, 1], [0, 1, 1, 1, 1, 1, 0, 1, 1, 1, 1, 1], [0, 1, 1, 1, 1, 1, 0, 1, 1, 1, 1, 1], [0, 1, 1, 1, 1, 1, 0, 1, 1, 1, 1, 1], [1, 1, 1, 1, 1, 0, 1, 1, 1, 0, 1, 1], [0, 1, 1, 1, 1, 0, 1, 1, 1, 1, 1, 1], [0, 1, 1, 1, 1, 0, 1, 1, 1, 1, 1, 1]] >>  Score:  80.04 %\n",
      "*** Completed  37 Generations ***\n",
      "The Winner Population with the Maximum Score  80.04 is: [[0, 1, 1, 1, 1, 1, 0, 1, 1, 1, 1, 1]]\n"
     ]
    },
    {
     "data": {
      "image/png": "[encoded data removed]",
      "text/plain": [
       "<Figure size 640x480 with 1 Axes>"
      ]
     },
     "metadata": {},
     "output_type": "display_data"
    }
   ],
   "source": [
    "### Running Genetic Algorithm ###\n",
    "\n",
    "winner = ga.main_run()"
   ]
  },
  {
   "cell_type": "code",
   "execution_count": 14,
   "id": "d328ec23",
   "metadata": {
    "colab": {
     "base_uri": "https://localhost:8080/"
    },
    "id": "d328ec23",
    "outputId": "ed041124-861b-4f41-c608-26e57b488019"
   },
   "outputs": [
    {
     "name": "stdout",
     "output_type": "stream",
     "text": [
      "[0, 1, 1, 1, 1, 1, 0, 1, 1, 1, 1, 1]\n"
     ]
    }
   ],
   "source": [
    "### Extracing a list from the 2D-list (nested list) called \"winner\" ###\n",
    "winner = winner[0]\n",
    "print(winner)"
   ]
  },
  {
   "cell_type": "code",
   "execution_count": 15,
   "id": "003f9009",
   "metadata": {
    "id": "003f9009"
   },
   "outputs": [],
   "source": [
    "### Transforming winner chromosome (GA's output) into column numbers ###\n",
    "\n",
    "def transform_population_to_features_list(chromosome):\n",
    "    independent_features_list = []\n",
    "    for i in range(len(features_list)):\n",
    "        if (chromosome[i]==1):\n",
    "            independent_features_list.append(features_list[i])\n",
    "    return independent_features_list"
   ]
  },
  {
   "cell_type": "code",
   "execution_count": 16,
   "id": "a334ba8c",
   "metadata": {
    "colab": {
     "base_uri": "https://localhost:8080/"
    },
    "id": "a334ba8c",
    "outputId": "66513bac-ac68-4c94-f835-4a1f5ea7e888"
   },
   "outputs": [
    {
     "name": "stdout",
     "output_type": "stream",
     "text": [
      "[1, 2, 3, 4, 5, 7, 8, 9, 10, 11]\n",
      "' 10 '  Features are selected\n"
     ]
    }
   ],
   "source": [
    "### Displaying column numbers ###\n",
    "\n",
    "chromosome = winner\n",
    "independent_features_list = transform_population_to_features_list(chromosome)\n",
    "print(independent_features_list)\n",
    "print(\"'\",len(independent_features_list),\"'\", \" Features are selected\")"
   ]
  },
  {
   "cell_type": "code",
   "execution_count": 17,
   "id": "79af7616",
   "metadata": {
    "id": "79af7616"
   },
   "outputs": [],
   "source": [
    "### Transforming column numbers into a new dataframe (\"Features Subset\") ###\n",
    "\n",
    "def transform_features_list_to_features(independent_features_list):\n",
    "    independent_features_subset = pd.DataFrame()\n",
    "    index = 0\n",
    "    for column_number, column_name in enumerate(independent_features.columns):\n",
    "        for i in independent_features_list:\n",
    "            if (column_number == i):\n",
    "                independent_features_subset[index] = independent_features[column_name]\n",
    "                independent_features_subset.rename(columns = {index : column_name}, inplace=True)\n",
    "                index += 1\n",
    "    return independent_features_subset"
   ]
  },
  {
   "cell_type": "code",
   "execution_count": 18,
   "id": "ac019da0",
   "metadata": {
    "colab": {
     "base_uri": "https://localhost:8080/",
     "height": 226
    },
    "id": "ac019da0",
    "outputId": "7cb634ff-0d2a-415d-d43d-09cbd42a613a"
   },
   "outputs": [
    {
     "data": {
      "text/html": [
       "<div>\n",
       "<style scoped>\n",
       "    .dataframe tbody tr th:only-of-type {\n",
       "        vertical-align: middle;\n",
       "    }\n",
       "\n",
       "    .dataframe tbody tr th {\n",
       "        vertical-align: top;\n",
       "    }\n",
       "\n",
       "    .dataframe thead th {\n",
       "        text-align: right;\n",
       "    }\n",
       "</style>\n",
       "<table border=\"1\" class=\"dataframe\">\n",
       "  <thead>\n",
       "    <tr style=\"text-align: right;\">\n",
       "      <th></th>\n",
       "      <th>sex</th>\n",
       "      <th>chest_pain_type</th>\n",
       "      <th>resting_bp</th>\n",
       "      <th>cholesterol</th>\n",
       "      <th>fasting_blood_sugar</th>\n",
       "      <th>max_heart_rate</th>\n",
       "      <th>ex_induced_angina</th>\n",
       "      <th>st_depression</th>\n",
       "      <th>slope</th>\n",
       "      <th>thalassemia</th>\n",
       "    </tr>\n",
       "  </thead>\n",
       "  <tbody>\n",
       "    <tr>\n",
       "      <th>0</th>\n",
       "      <td>1</td>\n",
       "      <td>1</td>\n",
       "      <td>145.0</td>\n",
       "      <td>233.0</td>\n",
       "      <td>1.0</td>\n",
       "      <td>150.0</td>\n",
       "      <td>0.0</td>\n",
       "      <td>2.3</td>\n",
       "      <td>3.0</td>\n",
       "      <td>2.0</td>\n",
       "    </tr>\n",
       "    <tr>\n",
       "      <th>1</th>\n",
       "      <td>1</td>\n",
       "      <td>4</td>\n",
       "      <td>160.0</td>\n",
       "      <td>286.0</td>\n",
       "      <td>0.0</td>\n",
       "      <td>108.0</td>\n",
       "      <td>1.0</td>\n",
       "      <td>1.5</td>\n",
       "      <td>2.0</td>\n",
       "      <td>1.0</td>\n",
       "    </tr>\n",
       "    <tr>\n",
       "      <th>2</th>\n",
       "      <td>1</td>\n",
       "      <td>4</td>\n",
       "      <td>120.0</td>\n",
       "      <td>229.0</td>\n",
       "      <td>0.0</td>\n",
       "      <td>129.0</td>\n",
       "      <td>1.0</td>\n",
       "      <td>2.6</td>\n",
       "      <td>2.0</td>\n",
       "      <td>3.0</td>\n",
       "    </tr>\n",
       "    <tr>\n",
       "      <th>3</th>\n",
       "      <td>1</td>\n",
       "      <td>3</td>\n",
       "      <td>130.0</td>\n",
       "      <td>250.0</td>\n",
       "      <td>0.0</td>\n",
       "      <td>187.0</td>\n",
       "      <td>0.0</td>\n",
       "      <td>3.5</td>\n",
       "      <td>3.0</td>\n",
       "      <td>1.0</td>\n",
       "    </tr>\n",
       "    <tr>\n",
       "      <th>4</th>\n",
       "      <td>0</td>\n",
       "      <td>2</td>\n",
       "      <td>130.0</td>\n",
       "      <td>204.0</td>\n",
       "      <td>0.0</td>\n",
       "      <td>172.0</td>\n",
       "      <td>0.0</td>\n",
       "      <td>1.4</td>\n",
       "      <td>1.0</td>\n",
       "      <td>1.0</td>\n",
       "    </tr>\n",
       "  </tbody>\n",
       "</table>\n",
       "</div>"
      ],
      "text/plain": [
       "   sex  chest_pain_type  resting_bp  cholesterol  fasting_blood_sugar  \\\n",
       "0    1                1       145.0        233.0                  1.0   \n",
       "1    1                4       160.0        286.0                  0.0   \n",
       "2    1                4       120.0        229.0                  0.0   \n",
       "3    1                3       130.0        250.0                  0.0   \n",
       "4    0                2       130.0        204.0                  0.0   \n",
       "\n",
       "   max_heart_rate  ex_induced_angina  st_depression  slope  thalassemia  \n",
       "0           150.0                0.0            2.3    3.0          2.0  \n",
       "1           108.0                1.0            1.5    2.0          1.0  \n",
       "2           129.0                1.0            2.6    2.0          3.0  \n",
       "3           187.0                0.0            3.5    3.0          1.0  \n",
       "4           172.0                0.0            1.4    1.0          1.0  "
      ]
     },
     "execution_count": 18,
     "metadata": {},
     "output_type": "execute_result"
    }
   ],
   "source": [
    "### Displaying the new dataframe ###\n",
    "\n",
    "independent_features_subset = transform_features_list_to_features(independent_features_list)\n",
    "independent_features_subset.head()"
   ]
  },
  {
   "cell_type": "code",
   "execution_count": 19,
   "id": "ee69d797",
   "metadata": {
    "colab": {
     "base_uri": "https://localhost:8080/"
    },
    "id": "ee69d797",
    "outputId": "c0838af1-1e2f-4d6f-88db-29192a70be83"
   },
   "outputs": [
    {
     "data": {
      "text/plain": [
       "(828, 10)"
      ]
     },
     "execution_count": 19,
     "metadata": {},
     "output_type": "execute_result"
    }
   ],
   "source": [
    "### Checking the size of our new dataframe ###\n",
    "\n",
    "# The features subset contains less number of columns than in the full dataset,\n",
    "# but the same number of rows\n",
    "independent_features_subset.shape"
   ]
  },
  {
   "cell_type": "code",
   "execution_count": 20,
   "id": "275cd564",
   "metadata": {
    "id": "275cd564"
   },
   "outputs": [],
   "source": [
    "### Giving easy names to independent and target variables for further analysis\n",
    "\n",
    "X = independent_features_subset\n",
    "y = target_variable"
   ]
  },
  {
   "cell_type": "markdown",
   "id": "842c3d9f",
   "metadata": {
    "id": "842c3d9f"
   },
   "source": [
    "## b) ML Classifiers"
   ]
  },
  {
   "cell_type": "markdown",
   "id": "52c78468",
   "metadata": {
    "id": "52c78468"
   },
   "source": [
    "### 1) Boosting Ensemble Learning Model"
   ]
  },
  {
   "cell_type": "markdown",
   "id": "071f1621",
   "metadata": {
    "id": "071f1621"
   },
   "source": [
    "#### i) Hyperparameter Tuning"
   ]
  },
  {
   "cell_type": "markdown",
   "id": "98f9332f",
   "metadata": {
    "id": "98f9332f"
   },
   "source": [
    "##### Without GA"
   ]
  },
  {
   "cell_type": "code",
   "execution_count": 21,
   "id": "20146dda",
   "metadata": {
    "colab": {
     "base_uri": "https://localhost:8080/"
    },
    "id": "20146dda",
    "outputId": "55b3bedb-b5ea-4fde-8bc7-1b0bc19aecb7"
   },
   "outputs": [
    {
     "name": "stdout",
     "output_type": "stream",
     "text": [
      "Best: 0.787129 using {'learning_rate': 0.1, 'n_estimators': 100}\n",
      "0.758272 (0.046967) with: {'learning_rate': 0.0001, 'n_estimators': 10}\n",
      "0.758272 (0.046967) with: {'learning_rate': 0.0001, 'n_estimators': 50}\n",
      "0.758272 (0.046967) with: {'learning_rate': 0.0001, 'n_estimators': 100}\n",
      "0.758272 (0.046967) with: {'learning_rate': 0.0001, 'n_estimators': 500}\n",
      "0.758272 (0.046967) with: {'learning_rate': 0.001, 'n_estimators': 10}\n",
      "0.758272 (0.046967) with: {'learning_rate': 0.001, 'n_estimators': 50}\n",
      "0.758272 (0.046967) with: {'learning_rate': 0.001, 'n_estimators': 100}\n",
      "0.758272 (0.046967) with: {'learning_rate': 0.001, 'n_estimators': 500}\n",
      "0.758272 (0.046967) with: {'learning_rate': 0.01, 'n_estimators': 10}\n",
      "0.758272 (0.046967) with: {'learning_rate': 0.01, 'n_estimators': 50}\n",
      "0.754658 (0.047232) with: {'learning_rate': 0.01, 'n_estimators': 100}\n",
      "0.779871 (0.075734) with: {'learning_rate': 0.01, 'n_estimators': 500}\n",
      "0.754658 (0.047232) with: {'learning_rate': 0.1, 'n_estimators': 10}\n",
      "0.781076 (0.077200) with: {'learning_rate': 0.1, 'n_estimators': 50}\n",
      "0.787129 (0.076470) with: {'learning_rate': 0.1, 'n_estimators': 100}\n",
      "0.779841 (0.086808) with: {'learning_rate': 0.1, 'n_estimators': 500}\n",
      "0.758169 (0.080461) with: {'learning_rate': 1.0, 'n_estimators': 10}\n",
      "0.770247 (0.074807) with: {'learning_rate': 1.0, 'n_estimators': 50}\n",
      "0.747311 (0.075325) with: {'learning_rate': 1.0, 'n_estimators': 100}\n",
      "0.735234 (0.077996) with: {'learning_rate': 1.0, 'n_estimators': 500}\n"
     ]
    }
   ],
   "source": [
    "### Creating an ML model ###\n",
    "model = AdaBoostClassifier()\n",
    "\n",
    "### define the grid of values to search ###\n",
    "grid = dict()\n",
    "grid['n_estimators'] = [10, 50, 100, 500]\n",
    "grid['learning_rate'] = [0.0001, 0.001, 0.01, 0.1, 1.0]\n",
    "\n",
    "### defining ten stratified K-folds cross-validation ###\n",
    "kfold = StratifiedKFold(n_splits=10)\n",
    "\n",
    "### define the grid search procedure ###\n",
    "grid_search = GridSearchCV(estimator=model, param_grid=grid, n_jobs=-1, cv=kfold, scoring='accuracy')\n",
    "\n",
    "### Execute the grid search ###\n",
    "grid_result = grid_search.fit(independent_features, target_variable)\n",
    "\n",
    "### summarize the best score and configuration ###\n",
    "print(\"Best: %f using %s\" % (grid_result.best_score_, grid_result.best_params_))\n",
    "params_bo1 = grid_result.best_params_\n",
    "\n",
    "### summarize all scores that were evaluated ###\n",
    "means = grid_result.cv_results_['mean_test_score']\n",
    "stds = grid_result.cv_results_['std_test_score']\n",
    "params = grid_result.cv_results_['params']\n",
    "\n",
    "### Displaying scores' means, stds and parameters ###\n",
    "for mean, stdev, param in zip(means, stds, params):\n",
    "    print(\"%f (%f) with: %r\" % (mean, stdev, param))"
   ]
  },
  {
   "cell_type": "markdown",
   "id": "b4b8cf25",
   "metadata": {
    "id": "b4b8cf25"
   },
   "source": [
    "##### After GA"
   ]
  },
  {
   "cell_type": "code",
   "execution_count": 22,
   "id": "4277983b",
   "metadata": {
    "colab": {
     "base_uri": "https://localhost:8080/"
    },
    "id": "4277983b",
    "outputId": "5ce73499-95ef-4ce7-c026-75206f5a3df8",
    "scrolled": false
   },
   "outputs": [
    {
     "name": "stdout",
     "output_type": "stream",
     "text": [
      "Best: 0.794373 using {'learning_rate': 1.0, 'n_estimators': 50}\n",
      "0.758272 (0.046967) with: {'learning_rate': 0.0001, 'n_estimators': 10}\n",
      "0.758272 (0.046967) with: {'learning_rate': 0.0001, 'n_estimators': 50}\n",
      "0.758272 (0.046967) with: {'learning_rate': 0.0001, 'n_estimators': 100}\n",
      "0.758272 (0.046967) with: {'learning_rate': 0.0001, 'n_estimators': 500}\n",
      "0.758272 (0.046967) with: {'learning_rate': 0.001, 'n_estimators': 10}\n",
      "0.758272 (0.046967) with: {'learning_rate': 0.001, 'n_estimators': 50}\n",
      "0.758272 (0.046967) with: {'learning_rate': 0.001, 'n_estimators': 100}\n",
      "0.758272 (0.046967) with: {'learning_rate': 0.001, 'n_estimators': 500}\n",
      "0.758272 (0.046967) with: {'learning_rate': 0.01, 'n_estimators': 10}\n",
      "0.758272 (0.046967) with: {'learning_rate': 0.01, 'n_estimators': 50}\n",
      "0.754658 (0.047232) with: {'learning_rate': 0.01, 'n_estimators': 100}\n",
      "0.782354 (0.067218) with: {'learning_rate': 0.01, 'n_estimators': 500}\n",
      "0.754658 (0.047232) with: {'learning_rate': 0.1, 'n_estimators': 10}\n",
      "0.782354 (0.066349) with: {'learning_rate': 0.1, 'n_estimators': 50}\n",
      "0.790758 (0.073885) with: {'learning_rate': 0.1, 'n_estimators': 100}\n",
      "0.793153 (0.085887) with: {'learning_rate': 0.1, 'n_estimators': 500}\n",
      "0.781061 (0.081343) with: {'learning_rate': 1.0, 'n_estimators': 10}\n",
      "0.794373 (0.079397) with: {'learning_rate': 1.0, 'n_estimators': 50}\n",
      "0.776242 (0.084048) with: {'learning_rate': 1.0, 'n_estimators': 100}\n",
      "0.770203 (0.077217) with: {'learning_rate': 1.0, 'n_estimators': 500}\n"
     ]
    }
   ],
   "source": [
    "### Creating an ML model ###\n",
    "model = AdaBoostClassifier()\n",
    "\n",
    "### define the grid of values to search ###\n",
    "grid = dict()\n",
    "grid['n_estimators'] = [10, 50, 100, 500]\n",
    "grid['learning_rate'] = [0.0001, 0.001, 0.01, 0.1, 1.0]\n",
    "\n",
    "### defining ten stratified K-folds cross-validation ###\n",
    "kfold = StratifiedKFold(n_splits=10)\n",
    "\n",
    "# define the grid search procedure\n",
    "grid_search = GridSearchCV(estimator=model, param_grid=grid, n_jobs=-1, cv=kfold, scoring='accuracy')\n",
    "\n",
    "# execute the grid search\n",
    "grid_result = grid_search.fit(X, y)\n",
    "\n",
    "# summarize the best score and configuration\n",
    "print(\"Best: %f using %s\" % (grid_result.best_score_, grid_result.best_params_))\n",
    "params_bo2 = grid_result.best_params_\n",
    "\n",
    "# summarize all scores that were evaluated\n",
    "means = grid_result.cv_results_['mean_test_score']\n",
    "stds = grid_result.cv_results_['std_test_score']\n",
    "params = grid_result.cv_results_['params']\n",
    "\n",
    "### Displaying scores' means, stds and parameters ###\n",
    "for mean, stdev, param in zip(means, stds, params):\n",
    "    print(\"%f (%f) with: %r\" % (mean, stdev, param))"
   ]
  },
  {
   "cell_type": "markdown",
   "id": "a6faaba4",
   "metadata": {
    "id": "a6faaba4"
   },
   "source": [
    "#### ii) Train test split"
   ]
  },
  {
   "cell_type": "markdown",
   "id": "15f91bbd",
   "metadata": {
    "id": "15f91bbd"
   },
   "source": [
    "##### Without GA"
   ]
  },
  {
   "cell_type": "code",
   "execution_count": 23,
   "id": "55c80fe8",
   "metadata": {
    "id": "55c80fe8"
   },
   "outputs": [],
   "source": [
    "### Spliting dataset into train and test sets ###\n",
    "\n",
    "X_train1, X_test1, y_train1, y_test1 = train_test_split(independent_features, target_variable, test_size=0.30)"
   ]
  },
  {
   "cell_type": "code",
   "execution_count": 24,
   "id": "fe6bd11a",
   "metadata": {
    "id": "fe6bd11a"
   },
   "outputs": [],
   "source": [
    "### Normalizing data###\n",
    "\n",
    "scaler = MinMaxScaler()    # create an object of class\n",
    "\n",
    "scaler.fit(X_train1)       #  fit on training data\n",
    "\n",
    "# Sale the training and testing data ###\n",
    "X_train1_scaled = scaler.transform(X_train1)\n",
    "X_test1_scaled = scaler.transform(X_test1)\n",
    "\n",
    "# Convert the numpy array after transform into a dataframe #\n",
    "X_train1 = pd.DataFrame(X_train1_scaled, columns = X_train1.columns)\n",
    "X_test1 = pd.DataFrame(X_test1_scaled, columns = X_test1.columns)"
   ]
  },
  {
   "cell_type": "code",
   "execution_count": 25,
   "id": "2465559a",
   "metadata": {
    "id": "2465559a",
    "scrolled": true
   },
   "outputs": [],
   "source": [
    "### Creating the Boosting ensemble model ###\n",
    "ada_boost1 = AdaBoostClassifier(**params_bo1)\n",
    "\n",
    "### Fitting training data into the model ###\n",
    "model_boost1 = ada_boost1.fit(X_train1, y_train1)\n",
    "\n",
    "### Making predictions ###\n",
    "yhat1 = model_boost1.predict(X_test1)"
   ]
  },
  {
   "cell_type": "code",
   "execution_count": 26,
   "id": "6bb318a1",
   "metadata": {
    "colab": {
     "base_uri": "https://localhost:8080/"
    },
    "id": "6bb318a1",
    "outputId": "73a6a251-8a38-4409-f5b5-be45055a7fb2",
    "scrolled": true
   },
   "outputs": [
    {
     "name": "stdout",
     "output_type": "stream",
     "text": [
      "Accuracy:  78.71\n"
     ]
    }
   ],
   "source": [
    "### Checking accuracy score ###\n",
    "\n",
    "bo_acc1 = round(accuracy_score(y_test1, yhat1) * 100, 2)\n",
    "print(\"Accuracy: \", bo_acc1)"
   ]
  },
  {
   "cell_type": "code",
   "execution_count": 27,
   "id": "3a689a11",
   "metadata": {
    "colab": {
     "base_uri": "https://localhost:8080/"
    },
    "id": "3a689a11",
    "outputId": "4bc6d3a9-3f55-40f3-c0c2-a26354fed31c"
   },
   "outputs": [
    {
     "name": "stdout",
     "output_type": "stream",
     "text": [
      "Precision:  80.54\n"
     ]
    }
   ],
   "source": [
    "### Checking precision score ###\n",
    "\n",
    "bo_pre1 = round(precision_score(y_test1, yhat1) * 100, 2)\n",
    "print(\"Precision: \", bo_pre1)"
   ]
  },
  {
   "cell_type": "code",
   "execution_count": 28,
   "id": "648c2208",
   "metadata": {
    "colab": {
     "base_uri": "https://localhost:8080/"
    },
    "id": "648c2208",
    "outputId": "987139cd-ce93-4ba1-c401-0923c1e4fce6"
   },
   "outputs": [
    {
     "name": "stdout",
     "output_type": "stream",
     "text": [
      "Recall:  83.33\n"
     ]
    }
   ],
   "source": [
    "### Checking recall score ###\n",
    "\n",
    "bo_re1 = round(recall_score(y_test1, yhat1) * 100, 2)\n",
    "print(\"Recall: \", bo_re1)"
   ]
  },
  {
   "cell_type": "code",
   "execution_count": 29,
   "id": "b8e5b66a",
   "metadata": {
    "colab": {
     "base_uri": "https://localhost:8080/"
    },
    "id": "b8e5b66a",
    "outputId": "5f9f4231-96ea-4817-8867-93db09da1adb"
   },
   "outputs": [
    {
     "name": "stdout",
     "output_type": "stream",
     "text": [
      "F1-score:  81.91\n"
     ]
    }
   ],
   "source": [
    "### Checking f1-score ###\n",
    "\n",
    "bo_fs1 = round(f1_score(y_test1, yhat1) * 100, 2)\n",
    "print(\"F1-score: \", bo_fs1)"
   ]
  },
  {
   "cell_type": "code",
   "execution_count": 30,
   "id": "Rw6tNXVl4O1z",
   "metadata": {
    "colab": {
     "base_uri": "https://localhost:8080/"
    },
    "id": "Rw6tNXVl4O1z",
    "outputId": "46f6fe4a-3501-4e71-d7a3-55df85b279f2",
    "scrolled": false
   },
   "outputs": [
    {
     "name": "stdout",
     "output_type": "stream",
     "text": [
      "Confusion matrix : \n",
      " [[120  24]\n",
      " [ 29  76]]\n"
     ]
    },
    {
     "data": {
      "image/png": "[encoded data removed]",
      "text/plain": [
       "<Figure size 640x480 with 2 Axes>"
      ]
     },
     "metadata": {},
     "output_type": "display_data"
    }
   ],
   "source": [
    "### Building a Confusion Matrix ###\n",
    "\n",
    "matrix1 = confusion_matrix(y_test1, yhat1, labels=[1,0])\n",
    "print('Confusion matrix : \\n',matrix1)\n",
    "cm1 = metrics.ConfusionMatrixDisplay(confusion_matrix = matrix1, display_labels=[1, 0])\n",
    "cm1.plot()\n",
    "plt.show()"
   ]
  },
  {
   "cell_type": "markdown",
   "id": "40573d75",
   "metadata": {
    "id": "40573d75"
   },
   "source": [
    "##### After GA"
   ]
  },
  {
   "cell_type": "code",
   "execution_count": 31,
   "id": "faa3ed1a",
   "metadata": {
    "id": "faa3ed1a"
   },
   "outputs": [],
   "source": [
    "### Spliting dataset into train and test sets ###\n",
    "\n",
    "X_train2, X_test2, y_train2, y_test2 = train_test_split(X, y, test_size=0.30)"
   ]
  },
  {
   "cell_type": "code",
   "execution_count": 32,
   "id": "2f1638d5",
   "metadata": {
    "id": "2f1638d5"
   },
   "outputs": [],
   "source": [
    "### Normalizing data###\n",
    "\n",
    "scaler = MinMaxScaler()    # create an object of class\n",
    "\n",
    "scaler.fit(X_train2)       #  fit on training data\n",
    "\n",
    "X_train2_scaled = scaler.transform(X_train2)    # transform model on both traing and testing data\n",
    "X_test2_scaled = scaler.transform(X_test2)\n",
    "\n",
    "# convert the numpy array after transform into a dataframe\n",
    "X_train2 = pd.DataFrame(X_train2_scaled, columns = X_train2.columns)\n",
    "X_test2 = pd.DataFrame(X_test2_scaled, columns = X_test2.columns)"
   ]
  },
  {
   "cell_type": "code",
   "execution_count": 33,
   "id": "746a7c47",
   "metadata": {
    "id": "746a7c47"
   },
   "outputs": [],
   "source": [
    "### Creating the Boosting ensemble model ###\n",
    "ada_boost2 = AdaBoostClassifier(**params_bo2)\n",
    "\n",
    "### Fitting training data into the model ###\n",
    "model_boost2 = ada_boost2.fit(X_train2, y_train2)\n",
    "\n",
    "### Make predictions ###\n",
    "yhat2 = model_boost2.predict(X_test2)"
   ]
  },
  {
   "cell_type": "code",
   "execution_count": 34,
   "id": "1a557908",
   "metadata": {
    "colab": {
     "base_uri": "https://localhost:8080/"
    },
    "id": "1a557908",
    "outputId": "f7cd9049-312b-420e-91d8-48af1b28843d"
   },
   "outputs": [
    {
     "name": "stdout",
     "output_type": "stream",
     "text": [
      "Accuracy:  79.92\n"
     ]
    }
   ],
   "source": [
    "### Checking accuracy score ###\n",
    "\n",
    "bo_acc2 = round(accuracy_score(y_test2, yhat2) * 100, 2)\n",
    "print(\"Accuracy: \", bo_acc2)"
   ]
  },
  {
   "cell_type": "code",
   "execution_count": 35,
   "id": "8446fbc8",
   "metadata": {
    "colab": {
     "base_uri": "https://localhost:8080/"
    },
    "id": "8446fbc8",
    "outputId": "87dfc61c-24ba-42d7-c590-3270a2cf59b8"
   },
   "outputs": [
    {
     "name": "stdout",
     "output_type": "stream",
     "text": [
      "Precision:  82.68\n"
     ]
    }
   ],
   "source": [
    "### Checking precision score ###\n",
    "\n",
    "bo_pre2 = round(precision_score(y_test2, yhat2) * 100, 2)\n",
    "print(\"Precision: \", bo_pre2)"
   ]
  },
  {
   "cell_type": "code",
   "execution_count": 36,
   "id": "d18cb6d9",
   "metadata": {
    "colab": {
     "base_uri": "https://localhost:8080/"
    },
    "id": "d18cb6d9",
    "outputId": "5b1d70cc-1ec9-4d0b-b2a0-0a41b325ef1c"
   },
   "outputs": [
    {
     "name": "stdout",
     "output_type": "stream",
     "text": [
      "Recall:  78.95\n"
     ]
    }
   ],
   "source": [
    "### Checking recall score ###\n",
    "\n",
    "bo_re2 = round(recall_score(y_test2, yhat2) * 100, 2)\n",
    "print(\"Recall: \", bo_re2)"
   ]
  },
  {
   "cell_type": "code",
   "execution_count": 37,
   "id": "dcbd80be",
   "metadata": {
    "colab": {
     "base_uri": "https://localhost:8080/"
    },
    "id": "dcbd80be",
    "outputId": "6f9032b4-1ef1-4e0d-c286-9522ee83c2a3"
   },
   "outputs": [
    {
     "name": "stdout",
     "output_type": "stream",
     "text": [
      "F1-score:  80.77\n"
     ]
    }
   ],
   "source": [
    "### Checking f1-score ###\n",
    "\n",
    "bo_fs2 = round(f1_score(y_test2, yhat2) * 100, 2)\n",
    "print(\"F1-score: \", bo_fs2)"
   ]
  },
  {
   "cell_type": "code",
   "execution_count": 38,
   "id": "my9HddWl4c4L",
   "metadata": {
    "colab": {
     "base_uri": "https://localhost:8080/"
    },
    "id": "my9HddWl4c4L",
    "outputId": "d79f4ff6-a9a3-4486-e569-1c65519139ef"
   },
   "outputs": [
    {
     "name": "stdout",
     "output_type": "stream",
     "text": [
      "Confusion matrix : \n",
      " [[105  28]\n",
      " [ 22  94]]\n"
     ]
    },
    {
     "data": {
      "image/png": "[encoded data removed]",
      "text/plain": [
       "<Figure size 640x480 with 2 Axes>"
      ]
     },
     "metadata": {},
     "output_type": "display_data"
    }
   ],
   "source": [
    "### Building a Confusion Matrix ###\n",
    "\n",
    "matrix2 = confusion_matrix(y_test2, yhat2, labels=[1,0])\n",
    "print('Confusion matrix : \\n',matrix2)\n",
    "cm2 = metrics.ConfusionMatrixDisplay(confusion_matrix = matrix2, display_labels=[1, 0])\n",
    "cm2.plot()\n",
    "plt.show()"
   ]
  },
  {
   "cell_type": "markdown",
   "id": "d4bc2987",
   "metadata": {
    "id": "d4bc2987"
   },
   "source": [
    "###### Performance Comparison RQ2:"
   ]
  },
  {
   "cell_type": "code",
   "execution_count": 39,
   "id": "684ee5c3",
   "metadata": {
    "colab": {
     "base_uri": "https://localhost:8080/",
     "height": 416
    },
    "id": "684ee5c3",
    "outputId": "0a0f2904-d9f2-4240-e862-2a77424729c9",
    "scrolled": false
   },
   "outputs": [
    {
     "data": {
      "text/plain": [
       "Text(0, 0.5, 'Score')"
      ]
     },
     "execution_count": 39,
     "metadata": {},
     "output_type": "execute_result"
    },
    {
     "data": {
      "image/png": "[encoded data removed]",
      "text/plain": [
       "<Figure size 1500x800 with 1 Axes>"
      ]
     },
     "metadata": {},
     "output_type": "display_data"
    }
   ],
   "source": [
    "### Plotting bar chart: Compare Boosting EL performance without and with GA ###\n",
    "\n",
    "plotdata = pd.DataFrame({\n",
    "\n",
    "    \"Accuracy\":[bo_acc1, bo_acc2],\n",
    "\n",
    "    \"Precision\":[bo_pre1, bo_pre2],\n",
    "\n",
    "    \"Recall\":[bo_re1, bo_re2],\n",
    "\n",
    "    \"F1-score\":[bo_fs1, bo_fs2]\n",
    "\n",
    "    },\n",
    "\n",
    "    index=[\"Without GA\", \"With GA\"])\n",
    "\n",
    "ax = plotdata.plot(kind=\"bar\",figsize=(15, 8), grid = False)\n",
    "# Customize the grid\n",
    "ax.grid(axis = \"y\")\n",
    "# Set the gridlines behind the plot\n",
    "ax.set_axisbelow(True)\n",
    "\n",
    "#Annotate text in bar plot\n",
    "for bar in ax.patches:\n",
    "    ax.text(bar.get_x() + bar.get_width() / 2, bar.get_height() + 2,\n",
    "            '{:,.1f}'.format(bar.get_height())+ \"%\",\n",
    "            ha='center', va='center',\n",
    "            size=12 )\n",
    "\n",
    "plt.title(\"Boosting Ensemble Learning Model Performance Comparison With and Without GA\")\n",
    "\n",
    "plt.ylabel(\"Score\")"
   ]
  },
  {
   "cell_type": "markdown",
   "id": "4a1211f5",
   "metadata": {
    "id": "4a1211f5"
   },
   "source": [
    "###### Summary:\n",
    "Genetic algorithm slightly increased the performance of the AdaBoost ensemble learning model."
   ]
  },
  {
   "cell_type": "markdown",
   "id": "38518633",
   "metadata": {
    "id": "38518633"
   },
   "source": [
    "### 2) Blending Ensemble Learning Model"
   ]
  },
  {
   "cell_type": "markdown",
   "id": "c53314c5",
   "metadata": {
    "id": "c53314c5"
   },
   "source": [
    "#### i) Hyperparameter Tuning"
   ]
  },
  {
   "cell_type": "markdown",
   "id": "63781059",
   "metadata": {
    "id": "63781059"
   },
   "source": [
    "##### Without GA"
   ]
  },
  {
   "cell_type": "code",
   "execution_count": 40,
   "id": "eae07779",
   "metadata": {
    "colab": {
     "base_uri": "https://localhost:8080/"
    },
    "id": "eae07779",
    "outputId": "4a1a00ce-d269-4b4f-8098-e2ca8cebf835"
   },
   "outputs": [
    {
     "name": "stdout",
     "output_type": "stream",
     "text": [
      "Best: 0.728063 using {'C': 100, 'gamma': 0.001, 'kernel': 'rbf'}\n",
      "0.539847 (0.003919) with: {'C': 0.1, 'gamma': 1, 'kernel': 'rbf'}\n",
      "0.539847 (0.003919) with: {'C': 0.1, 'gamma': 0.1, 'kernel': 'rbf'}\n",
      "0.539847 (0.003919) with: {'C': 0.1, 'gamma': 0.01, 'kernel': 'rbf'}\n",
      "0.670071 (0.075923) with: {'C': 0.1, 'gamma': 0.001, 'kernel': 'rbf'}\n",
      "0.539847 (0.003919) with: {'C': 1, 'gamma': 1, 'kernel': 'rbf'}\n",
      "0.538672 (0.013093) with: {'C': 1, 'gamma': 0.1, 'kernel': 'rbf'}\n",
      "0.639921 (0.065967) with: {'C': 1, 'gamma': 0.01, 'kernel': 'rbf'}\n",
      "0.677314 (0.074589) with: {'C': 1, 'gamma': 0.001, 'kernel': 'rbf'}\n",
      "0.541081 (0.006049) with: {'C': 10, 'gamma': 1, 'kernel': 'rbf'}\n",
      "0.545901 (0.018602) with: {'C': 10, 'gamma': 0.1, 'kernel': 'rbf'}\n",
      "0.619498 (0.051968) with: {'C': 10, 'gamma': 0.01, 'kernel': 'rbf'}\n",
      "0.695445 (0.086956) with: {'C': 10, 'gamma': 0.001, 'kernel': 'rbf'}\n",
      "0.541081 (0.006049) with: {'C': 100, 'gamma': 1, 'kernel': 'rbf'}\n",
      "0.545901 (0.018602) with: {'C': 100, 'gamma': 0.1, 'kernel': 'rbf'}\n",
      "0.613444 (0.060302) with: {'C': 100, 'gamma': 0.01, 'kernel': 'rbf'}\n",
      "0.728063 (0.076570) with: {'C': 100, 'gamma': 0.001, 'kernel': 'rbf'}\n"
     ]
    }
   ],
   "source": [
    "### Hyperparameter Tuning SVM model (base model) to create best blending El ###\n",
    "\n",
    "model = SVC()\n",
    "\n",
    "# define the grid of values to search\n",
    "grid = dict()\n",
    "grid['C'] = [0.1, 1, 10, 100]\n",
    "grid['gamma'] = [1, 0.1, 0.01, 0.001]\n",
    "grid['kernel'] = ['rbf']\n",
    "\n",
    "### defining ten stratified K-folds cross-validation ###\n",
    "kfold = StratifiedKFold(n_splits=10)\n",
    "\n",
    "# define the grid search procedure\n",
    "grid_search = GridSearchCV(estimator=model, param_grid=grid, cv = kfold, scoring='accuracy', n_jobs = -1)\n",
    "\n",
    "# execute the grid search\n",
    "grid_result = grid_search.fit(independent_features, target_variable)\n",
    "\n",
    "# summarize the best score and configuration\n",
    "print(\"Best: %f using %s\" % (grid_result.best_score_, grid_result.best_params_))\n",
    "params_bl1 = grid_result.best_params_\n",
    "\n",
    "# summarize all scores that were evaluated\n",
    "means = grid_result.cv_results_['mean_test_score']\n",
    "stds = grid_result.cv_results_['std_test_score']\n",
    "params = grid_result.cv_results_['params']\n",
    "\n",
    "### Displaying scores' means, stds and parameters ###\n",
    "for mean, stdev, param in zip(means, stds, params):\n",
    "    print(\"%f (%f) with: %r\" % (mean, stdev, param))"
   ]
  },
  {
   "cell_type": "code",
   "execution_count": 41,
   "id": "d7994dbd",
   "metadata": {
    "colab": {
     "base_uri": "https://localhost:8080/"
    },
    "id": "d7994dbd",
    "outputId": "b8706a4d-84e4-437e-b7b9-a4885a543d47"
   },
   "outputs": [
    {
     "name": "stdout",
     "output_type": "stream",
     "text": [
      "Best: 0.689465 using {'metric': 'manhattan', 'n_neighbors': 9, 'weights': 'distance'}\n",
      "0.627858 (0.059152) with: {'metric': 'minkowski', 'n_neighbors': 5, 'weights': 'uniform'}\n",
      "0.638760 (0.052816) with: {'metric': 'minkowski', 'n_neighbors': 5, 'weights': 'distance'}\n",
      "0.644784 (0.064921) with: {'metric': 'minkowski', 'n_neighbors': 7, 'weights': 'uniform'}\n",
      "0.664105 (0.062791) with: {'metric': 'minkowski', 'n_neighbors': 7, 'weights': 'distance'}\n",
      "0.637570 (0.060241) with: {'metric': 'minkowski', 'n_neighbors': 9, 'weights': 'uniform'}\n",
      "0.650911 (0.051061) with: {'metric': 'minkowski', 'n_neighbors': 9, 'weights': 'distance'}\n",
      "0.653247 (0.056682) with: {'metric': 'minkowski', 'n_neighbors': 11, 'weights': 'uniform'}\n",
      "0.660535 (0.062802) with: {'metric': 'minkowski', 'n_neighbors': 11, 'weights': 'distance'}\n",
      "0.658081 (0.073001) with: {'metric': 'minkowski', 'n_neighbors': 13, 'weights': 'uniform'}\n",
      "0.671378 (0.072866) with: {'metric': 'minkowski', 'n_neighbors': 13, 'weights': 'distance'}\n",
      "0.658096 (0.074129) with: {'metric': 'minkowski', 'n_neighbors': 15, 'weights': 'uniform'}\n",
      "0.667778 (0.074053) with: {'metric': 'minkowski', 'n_neighbors': 15, 'weights': 'distance'}\n",
      "0.627858 (0.059152) with: {'metric': 'euclidean', 'n_neighbors': 5, 'weights': 'uniform'}\n",
      "0.638760 (0.052816) with: {'metric': 'euclidean', 'n_neighbors': 5, 'weights': 'distance'}\n",
      "0.644784 (0.064921) with: {'metric': 'euclidean', 'n_neighbors': 7, 'weights': 'uniform'}\n",
      "0.664105 (0.062791) with: {'metric': 'euclidean', 'n_neighbors': 7, 'weights': 'distance'}\n",
      "0.637570 (0.060241) with: {'metric': 'euclidean', 'n_neighbors': 9, 'weights': 'uniform'}\n",
      "0.650911 (0.051061) with: {'metric': 'euclidean', 'n_neighbors': 9, 'weights': 'distance'}\n",
      "0.653247 (0.056682) with: {'metric': 'euclidean', 'n_neighbors': 11, 'weights': 'uniform'}\n",
      "0.660535 (0.062802) with: {'metric': 'euclidean', 'n_neighbors': 11, 'weights': 'distance'}\n",
      "0.658081 (0.073001) with: {'metric': 'euclidean', 'n_neighbors': 13, 'weights': 'uniform'}\n",
      "0.671378 (0.072866) with: {'metric': 'euclidean', 'n_neighbors': 13, 'weights': 'distance'}\n",
      "0.658096 (0.074129) with: {'metric': 'euclidean', 'n_neighbors': 15, 'weights': 'uniform'}\n",
      "0.667778 (0.074053) with: {'metric': 'euclidean', 'n_neighbors': 15, 'weights': 'distance'}\n",
      "0.660417 (0.080729) with: {'metric': 'manhattan', 'n_neighbors': 5, 'weights': 'uniform'}\n",
      "0.671319 (0.076127) with: {'metric': 'manhattan', 'n_neighbors': 5, 'weights': 'distance'}\n",
      "0.655598 (0.076966) with: {'metric': 'manhattan', 'n_neighbors': 7, 'weights': 'uniform'}\n",
      "0.668910 (0.073865) with: {'metric': 'manhattan', 'n_neighbors': 7, 'weights': 'distance'}\n",
      "0.677373 (0.076643) with: {'metric': 'manhattan', 'n_neighbors': 9, 'weights': 'uniform'}\n",
      "0.689465 (0.074033) with: {'metric': 'manhattan', 'n_neighbors': 9, 'weights': 'distance'}\n",
      "0.676109 (0.069631) with: {'metric': 'manhattan', 'n_neighbors': 11, 'weights': 'uniform'}\n",
      "0.681002 (0.066296) with: {'metric': 'manhattan', 'n_neighbors': 11, 'weights': 'distance'}\n",
      "0.676139 (0.066433) with: {'metric': 'manhattan', 'n_neighbors': 13, 'weights': 'uniform'}\n",
      "0.677329 (0.071865) with: {'metric': 'manhattan', 'n_neighbors': 13, 'weights': 'distance'}\n",
      "0.668895 (0.072784) with: {'metric': 'manhattan', 'n_neighbors': 15, 'weights': 'uniform'}\n",
      "0.671334 (0.070927) with: {'metric': 'manhattan', 'n_neighbors': 15, 'weights': 'distance'}\n"
     ]
    }
   ],
   "source": [
    "### Hyperparameter Tuning KNN model (base model) to create best blending EL ###\n",
    "model = KNeighborsClassifier()\n",
    "\n",
    "# define the grid of values to search\n",
    "grid = dict()\n",
    "grid['n_neighbors'] = [5,7,9,11,13,15]\n",
    "grid['weights'] = ['uniform','distance']\n",
    "grid['metric'] = ['minkowski','euclidean','manhattan']\n",
    "\n",
    "### defining ten stratified K-folds cross-validation ###\n",
    "kfold = StratifiedKFold(n_splits=10)\n",
    "\n",
    "# define the grid search procedure\n",
    "grid_search = GridSearchCV(estimator=model, param_grid=grid, scoring='accuracy', cv=kfold, n_jobs = -1)\n",
    "\n",
    "# execute the grid search\n",
    "grid_result = grid_search.fit(independent_features, target_variable)\n",
    "\n",
    "# summarize the best score and configuration\n",
    "print(\"Best: %f using %s\" % (grid_result.best_score_, grid_result.best_params_))\n",
    "params_bl2 = grid_result.best_params_\n",
    "\n",
    "# summarize all scores that were evaluated\n",
    "means = grid_result.cv_results_['mean_test_score']\n",
    "stds = grid_result.cv_results_['std_test_score']\n",
    "params = grid_result.cv_results_['params']\n",
    "\n",
    "### Displaying scores' means, stds and parameters ###\n",
    "for mean, stdev, param in zip(means, stds, params):\n",
    "    print(\"%f (%f) with: %r\" % (mean, stdev, param))"
   ]
  },
  {
   "cell_type": "code",
   "execution_count": 42,
   "id": "75a43e81",
   "metadata": {
    "colab": {
     "base_uri": "https://localhost:8080/"
    },
    "id": "75a43e81",
    "outputId": "b7ae8d00-70bf-4b7b-b4e9-51338bb6856f"
   },
   "outputs": [
    {
     "name": "stdout",
     "output_type": "stream",
     "text": [
      "Best: 0.747267 using {'criterion': 'entropy', 'max_depth': 2, 'min_samples_leaf': 5}\n",
      "0.732795 (0.085850) with: {'criterion': 'gini', 'max_depth': 2, 'min_samples_leaf': 5}\n",
      "0.732795 (0.085850) with: {'criterion': 'gini', 'max_depth': 2, 'min_samples_leaf': 10}\n",
      "0.732795 (0.085850) with: {'criterion': 'gini', 'max_depth': 2, 'min_samples_leaf': 20}\n",
      "0.741228 (0.085900) with: {'criterion': 'gini', 'max_depth': 2, 'min_samples_leaf': 50}\n",
      "0.742448 (0.082666) with: {'criterion': 'gini', 'max_depth': 2, 'min_samples_leaf': 100}\n",
      "0.735248 (0.082150) with: {'criterion': 'gini', 'max_depth': 3, 'min_samples_leaf': 5}\n",
      "0.726800 (0.084385) with: {'criterion': 'gini', 'max_depth': 3, 'min_samples_leaf': 10}\n",
      "0.735248 (0.086790) with: {'criterion': 'gini', 'max_depth': 3, 'min_samples_leaf': 20}\n",
      "0.727946 (0.091903) with: {'criterion': 'gini', 'max_depth': 3, 'min_samples_leaf': 50}\n",
      "0.742448 (0.082666) with: {'criterion': 'gini', 'max_depth': 3, 'min_samples_leaf': 100}\n",
      "0.725580 (0.075035) with: {'criterion': 'gini', 'max_depth': 5, 'min_samples_leaf': 5}\n",
      "0.734043 (0.071581) with: {'criterion': 'gini', 'max_depth': 5, 'min_samples_leaf': 10}\n",
      "0.743682 (0.075044) with: {'criterion': 'gini', 'max_depth': 5, 'min_samples_leaf': 20}\n",
      "0.730356 (0.093618) with: {'criterion': 'gini', 'max_depth': 5, 'min_samples_leaf': 50}\n",
      "0.742448 (0.082666) with: {'criterion': 'gini', 'max_depth': 5, 'min_samples_leaf': 100}\n",
      "0.703776 (0.104490) with: {'criterion': 'gini', 'max_depth': 10, 'min_samples_leaf': 5}\n",
      "0.736453 (0.084060) with: {'criterion': 'gini', 'max_depth': 10, 'min_samples_leaf': 10}\n",
      "0.743653 (0.079534) with: {'criterion': 'gini', 'max_depth': 10, 'min_samples_leaf': 20}\n",
      "0.730356 (0.093618) with: {'criterion': 'gini', 'max_depth': 10, 'min_samples_leaf': 50}\n",
      "0.742448 (0.082666) with: {'criterion': 'gini', 'max_depth': 10, 'min_samples_leaf': 100}\n",
      "0.714664 (0.096395) with: {'criterion': 'gini', 'max_depth': 20, 'min_samples_leaf': 5}\n",
      "0.737658 (0.083074) with: {'criterion': 'gini', 'max_depth': 20, 'min_samples_leaf': 10}\n",
      "0.742463 (0.076313) with: {'criterion': 'gini', 'max_depth': 20, 'min_samples_leaf': 20}\n",
      "0.730356 (0.093618) with: {'criterion': 'gini', 'max_depth': 20, 'min_samples_leaf': 50}\n",
      "0.742448 (0.082666) with: {'criterion': 'gini', 'max_depth': 20, 'min_samples_leaf': 100}\n",
      "0.747267 (0.082790) with: {'criterion': 'entropy', 'max_depth': 2, 'min_samples_leaf': 5}\n",
      "0.747267 (0.082790) with: {'criterion': 'entropy', 'max_depth': 2, 'min_samples_leaf': 10}\n",
      "0.747267 (0.082790) with: {'criterion': 'entropy', 'max_depth': 2, 'min_samples_leaf': 20}\n",
      "0.747267 (0.082790) with: {'criterion': 'entropy', 'max_depth': 2, 'min_samples_leaf': 50}\n",
      "0.747267 (0.082790) with: {'criterion': 'entropy', 'max_depth': 2, 'min_samples_leaf': 100}\n",
      "0.735248 (0.084416) with: {'criterion': 'entropy', 'max_depth': 3, 'min_samples_leaf': 5}\n",
      "0.735248 (0.084416) with: {'criterion': 'entropy', 'max_depth': 3, 'min_samples_leaf': 10}\n",
      "0.730429 (0.082907) with: {'criterion': 'entropy', 'max_depth': 3, 'min_samples_leaf': 20}\n",
      "0.714708 (0.083548) with: {'criterion': 'entropy', 'max_depth': 3, 'min_samples_leaf': 50}\n",
      "0.747267 (0.082790) with: {'criterion': 'entropy', 'max_depth': 3, 'min_samples_leaf': 100}\n",
      "0.701322 (0.089727) with: {'criterion': 'entropy', 'max_depth': 5, 'min_samples_leaf': 5}\n",
      "0.718322 (0.070792) with: {'criterion': 'entropy', 'max_depth': 5, 'min_samples_leaf': 10}\n",
      "0.725536 (0.081156) with: {'criterion': 'entropy', 'max_depth': 5, 'min_samples_leaf': 20}\n",
      "0.709888 (0.091902) with: {'criterion': 'entropy', 'max_depth': 5, 'min_samples_leaf': 50}\n",
      "0.747267 (0.082790) with: {'criterion': 'entropy', 'max_depth': 5, 'min_samples_leaf': 100}\n",
      "0.690523 (0.073470) with: {'criterion': 'entropy', 'max_depth': 10, 'min_samples_leaf': 5}\n",
      "0.711152 (0.052386) with: {'criterion': 'entropy', 'max_depth': 10, 'min_samples_leaf': 10}\n",
      "0.741184 (0.087798) with: {'criterion': 'entropy', 'max_depth': 10, 'min_samples_leaf': 20}\n",
      "0.709888 (0.091902) with: {'criterion': 'entropy', 'max_depth': 10, 'min_samples_leaf': 50}\n",
      "0.747267 (0.082790) with: {'criterion': 'entropy', 'max_depth': 10, 'min_samples_leaf': 100}\n",
      "0.695342 (0.085521) with: {'criterion': 'entropy', 'max_depth': 20, 'min_samples_leaf': 5}\n",
      "0.707508 (0.056133) with: {'criterion': 'entropy', 'max_depth': 20, 'min_samples_leaf': 10}\n",
      "0.737555 (0.087813) with: {'criterion': 'entropy', 'max_depth': 20, 'min_samples_leaf': 20}\n",
      "0.709888 (0.091902) with: {'criterion': 'entropy', 'max_depth': 20, 'min_samples_leaf': 50}\n",
      "0.747267 (0.082790) with: {'criterion': 'entropy', 'max_depth': 20, 'min_samples_leaf': 100}\n"
     ]
    }
   ],
   "source": [
    "### Hyperparameter Tuning DT model (base model) to create best blending EL ###\n",
    "model = DecisionTreeClassifier()\n",
    "\n",
    "# define the grid of values to search\n",
    "grid = dict()\n",
    "grid['max_depth'] = [2, 3, 5, 10, 20]\n",
    "grid['min_samples_leaf'] = [5, 10, 20, 50, 100]\n",
    "grid['criterion'] = [\"gini\", \"entropy\"]\n",
    "\n",
    "### defining ten stratified K-folds cross-validation ###\n",
    "kfold = StratifiedKFold(n_splits=10)\n",
    "\n",
    "# define the grid search procedure\n",
    "grid_search = GridSearchCV(estimator=model, param_grid=grid, cv=kfold, n_jobs=-1, scoring='accuracy')\n",
    "\n",
    "# execute the grid search\n",
    "grid_result = grid_search.fit(independent_features, target_variable)\n",
    "\n",
    "# summarize the best score and configuration\n",
    "print(\"Best: %f using %s\" % (grid_result.best_score_, grid_result.best_params_))\n",
    "params_bl3 = grid_result.best_params_\n",
    "\n",
    "# summarize all scores that were evaluated\n",
    "means = grid_result.cv_results_['mean_test_score']\n",
    "stds = grid_result.cv_results_['std_test_score']\n",
    "params = grid_result.cv_results_['params']\n",
    "\n",
    "### Displaying scores' means, stds and parameters ###\n",
    "for mean, stdev, param in zip(means, stds, params):\n",
    "    print(\"%f (%f) with: %r\" % (mean, stdev, param))"
   ]
  },
  {
   "cell_type": "code",
   "execution_count": 43,
   "id": "e59f12c3",
   "metadata": {
    "colab": {
     "base_uri": "https://localhost:8080/"
    },
    "id": "e59f12c3",
    "outputId": "de0beddd-fa29-4f57-d1ed-c2e7eaa1bf56",
    "scrolled": false
   },
   "outputs": [
    {
     "name": "stdout",
     "output_type": "stream",
     "text": [
      "Best: 0.793168 using {'max_depth': 6, 'max_features': 'log2', 'min_samples_split': 5, 'n_estimators': 100}\n",
      "0.789553 (0.079940) with: {'max_depth': 3, 'max_features': 'sqrt', 'min_samples_split': 2, 'n_estimators': 50}\n",
      "0.775037 (0.086067) with: {'max_depth': 3, 'max_features': 'sqrt', 'min_samples_split': 2, 'n_estimators': 100}\n",
      "0.773891 (0.078646) with: {'max_depth': 3, 'max_features': 'sqrt', 'min_samples_split': 2, 'n_estimators': 150}\n",
      "0.777461 (0.084650) with: {'max_depth': 3, 'max_features': 'sqrt', 'min_samples_split': 5, 'n_estimators': 50}\n",
      "0.779856 (0.086553) with: {'max_depth': 3, 'max_features': 'sqrt', 'min_samples_split': 5, 'n_estimators': 100}\n",
      "0.767852 (0.075818) with: {'max_depth': 3, 'max_features': 'sqrt', 'min_samples_split': 5, 'n_estimators': 150}\n",
      "0.778710 (0.069696) with: {'max_depth': 3, 'max_features': 'sqrt', 'min_samples_split': 10, 'n_estimators': 50}\n",
      "0.778710 (0.072363) with: {'max_depth': 3, 'max_features': 'sqrt', 'min_samples_split': 10, 'n_estimators': 100}\n",
      "0.772656 (0.079854) with: {'max_depth': 3, 'max_features': 'sqrt', 'min_samples_split': 10, 'n_estimators': 150}\n",
      "0.767823 (0.073253) with: {'max_depth': 3, 'max_features': 'log2', 'min_samples_split': 2, 'n_estimators': 50}\n",
      "0.769071 (0.068406) with: {'max_depth': 3, 'max_features': 'log2', 'min_samples_split': 2, 'n_estimators': 100}\n",
      "0.771452 (0.075861) with: {'max_depth': 3, 'max_features': 'log2', 'min_samples_split': 2, 'n_estimators': 150}\n",
      "0.785924 (0.081746) with: {'max_depth': 3, 'max_features': 'log2', 'min_samples_split': 5, 'n_estimators': 50}\n",
      "0.775037 (0.084878) with: {'max_depth': 3, 'max_features': 'log2', 'min_samples_split': 5, 'n_estimators': 100}\n",
      "0.769027 (0.078739) with: {'max_depth': 3, 'max_features': 'log2', 'min_samples_split': 5, 'n_estimators': 150}\n",
      "0.771408 (0.089628) with: {'max_depth': 3, 'max_features': 'log2', 'min_samples_split': 10, 'n_estimators': 50}\n",
      "0.769057 (0.076508) with: {'max_depth': 3, 'max_features': 'log2', 'min_samples_split': 10, 'n_estimators': 100}\n",
      "0.776286 (0.078421) with: {'max_depth': 3, 'max_features': 'log2', 'min_samples_split': 10, 'n_estimators': 150}\n",
      "0.782266 (0.086467) with: {'max_depth': 6, 'max_features': 'sqrt', 'min_samples_split': 2, 'n_estimators': 50}\n",
      "0.781090 (0.083434) with: {'max_depth': 6, 'max_features': 'sqrt', 'min_samples_split': 2, 'n_estimators': 100}\n",
      "0.779871 (0.081455) with: {'max_depth': 6, 'max_features': 'sqrt', 'min_samples_split': 2, 'n_estimators': 150}\n",
      "0.776271 (0.083351) with: {'max_depth': 6, 'max_features': 'sqrt', 'min_samples_split': 5, 'n_estimators': 50}\n",
      "0.782280 (0.085518) with: {'max_depth': 6, 'max_features': 'sqrt', 'min_samples_split': 5, 'n_estimators': 100}\n",
      "0.775022 (0.085474) with: {'max_depth': 6, 'max_features': 'sqrt', 'min_samples_split': 5, 'n_estimators': 150}\n",
      "0.793109 (0.086627) with: {'max_depth': 6, 'max_features': 'sqrt', 'min_samples_split': 10, 'n_estimators': 50}\n",
      "0.787070 (0.089088) with: {'max_depth': 6, 'max_features': 'sqrt', 'min_samples_split': 10, 'n_estimators': 100}\n",
      "0.782266 (0.082490) with: {'max_depth': 6, 'max_features': 'sqrt', 'min_samples_split': 10, 'n_estimators': 150}\n",
      "0.784631 (0.096821) with: {'max_depth': 6, 'max_features': 'log2', 'min_samples_split': 2, 'n_estimators': 50}\n",
      "0.784705 (0.089901) with: {'max_depth': 6, 'max_features': 'log2', 'min_samples_split': 2, 'n_estimators': 100}\n",
      "0.787114 (0.083277) with: {'max_depth': 6, 'max_features': 'log2', 'min_samples_split': 2, 'n_estimators': 150}\n",
      "0.785939 (0.085656) with: {'max_depth': 6, 'max_features': 'log2', 'min_samples_split': 5, 'n_estimators': 50}\n",
      "0.793168 (0.077619) with: {'max_depth': 6, 'max_features': 'log2', 'min_samples_split': 5, 'n_estimators': 100}\n",
      "0.784734 (0.076466) with: {'max_depth': 6, 'max_features': 'log2', 'min_samples_split': 5, 'n_estimators': 150}\n",
      "0.779827 (0.092090) with: {'max_depth': 6, 'max_features': 'log2', 'min_samples_split': 10, 'n_estimators': 50}\n",
      "0.778681 (0.084207) with: {'max_depth': 6, 'max_features': 'log2', 'min_samples_split': 10, 'n_estimators': 100}\n",
      "0.781090 (0.081854) with: {'max_depth': 6, 'max_features': 'log2', 'min_samples_split': 10, 'n_estimators': 150}\n",
      "0.771422 (0.084369) with: {'max_depth': 9, 'max_features': 'sqrt', 'min_samples_split': 2, 'n_estimators': 50}\n",
      "0.766515 (0.097239) with: {'max_depth': 9, 'max_features': 'sqrt', 'min_samples_split': 2, 'n_estimators': 100}\n",
      "0.767778 (0.082135) with: {'max_depth': 9, 'max_features': 'sqrt', 'min_samples_split': 2, 'n_estimators': 150}\n",
      "0.775125 (0.069095) with: {'max_depth': 9, 'max_features': 'sqrt', 'min_samples_split': 5, 'n_estimators': 50}\n",
      "0.775007 (0.086070) with: {'max_depth': 9, 'max_features': 'sqrt', 'min_samples_split': 5, 'n_estimators': 100}\n",
      "0.768939 (0.093889) with: {'max_depth': 9, 'max_features': 'sqrt', 'min_samples_split': 5, 'n_estimators': 150}\n",
      "0.773803 (0.089017) with: {'max_depth': 9, 'max_features': 'sqrt', 'min_samples_split': 10, 'n_estimators': 50}\n",
      "0.778651 (0.081040) with: {'max_depth': 9, 'max_features': 'sqrt', 'min_samples_split': 10, 'n_estimators': 100}\n",
      "0.779841 (0.085302) with: {'max_depth': 9, 'max_features': 'sqrt', 'min_samples_split': 10, 'n_estimators': 150}\n",
      "0.768910 (0.094836) with: {'max_depth': 9, 'max_features': 'log2', 'min_samples_split': 2, 'n_estimators': 50}\n",
      "0.765398 (0.077816) with: {'max_depth': 9, 'max_features': 'log2', 'min_samples_split': 2, 'n_estimators': 100}\n",
      "0.762959 (0.086450) with: {'max_depth': 9, 'max_features': 'log2', 'min_samples_split': 2, 'n_estimators': 150}\n",
      "0.761710 (0.090285) with: {'max_depth': 9, 'max_features': 'log2', 'min_samples_split': 5, 'n_estimators': 50}\n",
      "0.777461 (0.085005) with: {'max_depth': 9, 'max_features': 'log2', 'min_samples_split': 5, 'n_estimators': 100}\n",
      "0.768969 (0.089621) with: {'max_depth': 9, 'max_features': 'log2', 'min_samples_split': 5, 'n_estimators': 150}\n",
      "0.781061 (0.091409) with: {'max_depth': 9, 'max_features': 'log2', 'min_samples_split': 10, 'n_estimators': 50}\n",
      "0.784661 (0.087685) with: {'max_depth': 9, 'max_features': 'log2', 'min_samples_split': 10, 'n_estimators': 100}\n",
      "0.778578 (0.092836) with: {'max_depth': 9, 'max_features': 'log2', 'min_samples_split': 10, 'n_estimators': 150}\n"
     ]
    }
   ],
   "source": [
    "### Hyperparameter Tuning RF model (base model) to create best blending EL ###\n",
    "\n",
    "model = RandomForestClassifier()\n",
    "\n",
    "# define the grid of values to search\n",
    "grid = dict()\n",
    "grid['max_depth'] = [3, 6, 9]\n",
    "grid['n_estimators'] = [50, 100, 150]\n",
    "grid['max_features'] = ['sqrt', 'log2']\n",
    "grid['min_samples_split'] = [2, 5, 10]\n",
    "\n",
    "### defining ten stratified K-folds cross-validation ###\n",
    "kfold = StratifiedKFold(n_splits=10)\n",
    "\n",
    "# define the grid search procedure\n",
    "grid_search = GridSearchCV(estimator=model, param_grid=grid, cv=kfold, n_jobs=-1, scoring='accuracy')\n",
    "\n",
    "# execute the grid search\n",
    "grid_result = grid_search.fit(independent_features, target_variable)\n",
    "\n",
    "# summarize the best score and configuration\n",
    "print(\"Best: %f using %s\" % (grid_result.best_score_, grid_result.best_params_))\n",
    "params_bl4 = grid_result.best_params_\n",
    "\n",
    "# summarize all scores that were evaluated\n",
    "means = grid_result.cv_results_['mean_test_score']\n",
    "stds = grid_result.cv_results_['std_test_score']\n",
    "params = grid_result.cv_results_['params']\n",
    "\n",
    "### Displaying scores' means, stds and parameters ###\n",
    "for mean, stdev, param in zip(means, stds, params):\n",
    "    print(\"%f (%f) with: %r\" % (mean, stdev, param))"
   ]
  },
  {
   "cell_type": "code",
   "execution_count": 44,
   "id": "8aa20828",
   "metadata": {
    "colab": {
     "base_uri": "https://localhost:8080/"
    },
    "id": "8aa20828",
    "outputId": "50e297fb-040e-4dae-8255-73c3f6b60b2d"
   },
   "outputs": [
    {
     "name": "stdout",
     "output_type": "stream",
     "text": [
      "Best: 0.795577 using {'max_depth': 7, 'min_samples_split': 500}\n",
      "0.770217 (0.080220) with: {'max_depth': 5, 'min_samples_split': 400}\n",
      "0.791963 (0.078045) with: {'max_depth': 5, 'min_samples_split': 500}\n",
      "0.775037 (0.081037) with: {'max_depth': 6, 'min_samples_split': 400}\n",
      "0.788349 (0.075828) with: {'max_depth': 6, 'min_samples_split': 500}\n",
      "0.781105 (0.078882) with: {'max_depth': 7, 'min_samples_split': 400}\n",
      "0.795577 (0.080939) with: {'max_depth': 7, 'min_samples_split': 500}\n",
      "0.775066 (0.076044) with: {'max_depth': 8, 'min_samples_split': 400}\n",
      "0.794373 (0.079762) with: {'max_depth': 8, 'min_samples_split': 500}\n"
     ]
    }
   ],
   "source": [
    "### Hyperparameter Tuning Gradient Boosting model (base model) to create the best blending EL ###\n",
    "\n",
    "model = GradientBoostingClassifier()\n",
    "\n",
    "# define the grid of values to search\n",
    "parameters = {\n",
    "    'max_depth': range(5,9,1),\n",
    "    'min_samples_split': range(400,600,100)\n",
    "    }\n",
    "\n",
    "### defining ten stratified K-folds cross-validation ###\n",
    "kfold = StratifiedKFold(n_splits=10)\n",
    "\n",
    "# define the grid search procedure\n",
    "grid_search = GridSearchCV(estimator=model, param_grid=parameters, cv=kfold,  n_jobs=-1, scoring='accuracy')\n",
    "\n",
    "# execute the grid search\n",
    "grid_result = grid_search.fit(independent_features, target_variable)\n",
    "\n",
    "# summarize the best score and configuration\n",
    "print(\"Best: %f using %s\" % (grid_result.best_score_, grid_result.best_params_))\n",
    "params_bl5 = grid_result.best_params_\n",
    "\n",
    "# summarize all scores that were evaluated\n",
    "means = grid_result.cv_results_['mean_test_score']\n",
    "stds = grid_result.cv_results_['std_test_score']\n",
    "params = grid_result.cv_results_['params']\n",
    "\n",
    "### Displaying scores' means, stds and parameters ###\n",
    "for mean, stdev, param in zip(means, stds, params):\n",
    "    print(\"%f (%f) with: %r\" % (mean, stdev, param))"
   ]
  },
  {
   "cell_type": "markdown",
   "id": "444a970a",
   "metadata": {
    "id": "444a970a"
   },
   "source": [
    "##### After GA"
   ]
  },
  {
   "cell_type": "code",
   "execution_count": 45,
   "id": "c948f8ff",
   "metadata": {
    "colab": {
     "base_uri": "https://localhost:8080/"
    },
    "id": "c948f8ff",
    "outputId": "aeb906d3-89e8-4503-f9fc-06c31ca84aa9"
   },
   "outputs": [
    {
     "name": "stdout",
     "output_type": "stream",
     "text": [
      "Best: 0.653277 using {'C': 1, 'gamma': 0.01, 'kernel': 'rbf'}\n",
      "0.539847 (0.003919) with: {'C': 0.1, 'gamma': 1, 'kernel': 'rbf'}\n",
      "0.539847 (0.003919) with: {'C': 0.1, 'gamma': 0.1, 'kernel': 'rbf'}\n",
      "0.539847 (0.003919) with: {'C': 0.1, 'gamma': 0.01, 'kernel': 'rbf'}\n",
      "0.541067 (0.007058) with: {'C': 1, 'gamma': 1, 'kernel': 'rbf'}\n",
      "0.559198 (0.031341) with: {'C': 1, 'gamma': 0.1, 'kernel': 'rbf'}\n",
      "0.653277 (0.064650) with: {'C': 1, 'gamma': 0.01, 'kernel': 'rbf'}\n",
      "0.539847 (0.006663) with: {'C': 100, 'gamma': 1, 'kernel': 'rbf'}\n",
      "0.549574 (0.034640) with: {'C': 100, 'gamma': 0.1, 'kernel': 'rbf'}\n",
      "0.635263 (0.066206) with: {'C': 100, 'gamma': 0.01, 'kernel': 'rbf'}\n"
     ]
    }
   ],
   "source": [
    "### Hyperparameter Tuning SVM model (base model) to create best blending EL ###\n",
    "model = SVC()\n",
    "\n",
    "# define the grid of values to search\n",
    "grid = dict()\n",
    "grid['C'] = [0.1, 1, 100]\n",
    "grid['gamma'] = [1, 0.1, 0.01]\n",
    "grid['kernel'] = ['rbf']\n",
    "\n",
    "### defining ten stratified K-folds cross-validation ###\n",
    "kfold = StratifiedKFold(n_splits=10)\n",
    "\n",
    "# define the grid search procedure\n",
    "grid_search = GridSearchCV(estimator=model, param_grid=grid, cv = kfold, scoring='accuracy', n_jobs = -1)\n",
    "\n",
    "# execute the grid search\n",
    "grid_result = grid_search.fit(X, y)\n",
    "\n",
    "# summarize the best score and configuration\n",
    "print(\"Best: %f using %s\" % (grid_result.best_score_, grid_result.best_params_))\n",
    "params_bl6 = grid_result.best_params_\n",
    "\n",
    "# summarize all scores that were evaluated\n",
    "means = grid_result.cv_results_['mean_test_score']\n",
    "stds = grid_result.cv_results_['std_test_score']\n",
    "params = grid_result.cv_results_['params']\n",
    "\n",
    "### Displaying scores' means, stds and parameters ###\n",
    "for mean, stdev, param in zip(means, stds, params):\n",
    "    print(\"%f (%f) with: %r\" % (mean, stdev, param))"
   ]
  },
  {
   "cell_type": "code",
   "execution_count": 46,
   "id": "08634ad7",
   "metadata": {
    "colab": {
     "base_uri": "https://localhost:8080/"
    },
    "id": "08634ad7",
    "outputId": "99544073-5ec6-4599-c563-f39530a45833"
   },
   "outputs": [
    {
     "name": "stdout",
     "output_type": "stream",
     "text": [
      "Best: 0.693080 using {'metric': 'manhattan', 'n_neighbors': 11, 'weights': 'distance'}\n",
      "0.639950 (0.061951) with: {'metric': 'minkowski', 'n_neighbors': 5, 'weights': 'uniform'}\n",
      "0.646048 (0.068825) with: {'metric': 'minkowski', 'n_neighbors': 5, 'weights': 'distance'}\n",
      "0.649559 (0.070475) with: {'metric': 'minkowski', 'n_neighbors': 7, 'weights': 'uniform'}\n",
      "0.644769 (0.070072) with: {'metric': 'minkowski', 'n_neighbors': 7, 'weights': 'distance'}\n",
      "0.653188 (0.075811) with: {'metric': 'minkowski', 'n_neighbors': 9, 'weights': 'uniform'}\n",
      "0.660461 (0.070148) with: {'metric': 'minkowski', 'n_neighbors': 9, 'weights': 'distance'}\n",
      "0.668939 (0.071032) with: {'metric': 'minkowski', 'n_neighbors': 11, 'weights': 'uniform'}\n",
      "0.667778 (0.065402) with: {'metric': 'minkowski', 'n_neighbors': 11, 'weights': 'distance'}\n",
      "0.664164 (0.065420) with: {'metric': 'minkowski', 'n_neighbors': 13, 'weights': 'uniform'}\n",
      "0.667778 (0.074002) with: {'metric': 'minkowski', 'n_neighbors': 13, 'weights': 'distance'}\n",
      "0.664135 (0.065162) with: {'metric': 'minkowski', 'n_neighbors': 15, 'weights': 'uniform'}\n",
      "0.660520 (0.069675) with: {'metric': 'minkowski', 'n_neighbors': 15, 'weights': 'distance'}\n",
      "0.639950 (0.061951) with: {'metric': 'euclidean', 'n_neighbors': 5, 'weights': 'uniform'}\n",
      "0.646048 (0.068825) with: {'metric': 'euclidean', 'n_neighbors': 5, 'weights': 'distance'}\n",
      "0.649559 (0.070475) with: {'metric': 'euclidean', 'n_neighbors': 7, 'weights': 'uniform'}\n",
      "0.644769 (0.070072) with: {'metric': 'euclidean', 'n_neighbors': 7, 'weights': 'distance'}\n",
      "0.653188 (0.075811) with: {'metric': 'euclidean', 'n_neighbors': 9, 'weights': 'uniform'}\n",
      "0.660461 (0.070148) with: {'metric': 'euclidean', 'n_neighbors': 9, 'weights': 'distance'}\n",
      "0.668939 (0.071032) with: {'metric': 'euclidean', 'n_neighbors': 11, 'weights': 'uniform'}\n",
      "0.667778 (0.065402) with: {'metric': 'euclidean', 'n_neighbors': 11, 'weights': 'distance'}\n",
      "0.664164 (0.065420) with: {'metric': 'euclidean', 'n_neighbors': 13, 'weights': 'uniform'}\n",
      "0.667778 (0.074002) with: {'metric': 'euclidean', 'n_neighbors': 13, 'weights': 'distance'}\n",
      "0.664135 (0.065162) with: {'metric': 'euclidean', 'n_neighbors': 15, 'weights': 'uniform'}\n",
      "0.660520 (0.069675) with: {'metric': 'euclidean', 'n_neighbors': 15, 'weights': 'distance'}\n",
      "0.670071 (0.078342) with: {'metric': 'manhattan', 'n_neighbors': 5, 'weights': 'uniform'}\n",
      "0.672539 (0.073712) with: {'metric': 'manhattan', 'n_neighbors': 5, 'weights': 'distance'}\n",
      "0.674949 (0.078222) with: {'metric': 'manhattan', 'n_neighbors': 7, 'weights': 'uniform'}\n",
      "0.665339 (0.071100) with: {'metric': 'manhattan', 'n_neighbors': 7, 'weights': 'distance'}\n",
      "0.688231 (0.071573) with: {'metric': 'manhattan', 'n_neighbors': 9, 'weights': 'uniform'}\n",
      "0.690685 (0.063506) with: {'metric': 'manhattan', 'n_neighbors': 9, 'weights': 'distance'}\n",
      "0.690626 (0.072676) with: {'metric': 'manhattan', 'n_neighbors': 11, 'weights': 'uniform'}\n",
      "0.693080 (0.068495) with: {'metric': 'manhattan', 'n_neighbors': 11, 'weights': 'distance'}\n",
      "0.683397 (0.070802) with: {'metric': 'manhattan', 'n_neighbors': 13, 'weights': 'uniform'}\n",
      "0.685836 (0.076865) with: {'metric': 'manhattan', 'n_neighbors': 13, 'weights': 'distance'}\n",
      "0.691860 (0.068711) with: {'metric': 'manhattan', 'n_neighbors': 15, 'weights': 'uniform'}\n",
      "0.684617 (0.075244) with: {'metric': 'manhattan', 'n_neighbors': 15, 'weights': 'distance'}\n"
     ]
    }
   ],
   "source": [
    "### Hyperparameter Tuning KNN model (base model) to create best blending EL ###\n",
    "\n",
    "model = KNeighborsClassifier()\n",
    "\n",
    "# define the grid of values to search\n",
    "grid = dict()\n",
    "grid['n_neighbors'] = [5,7,9,11,13,15]\n",
    "grid['weights'] = ['uniform','distance']\n",
    "grid['metric'] = ['minkowski','euclidean','manhattan']\n",
    "\n",
    "### defining ten stratified K-folds cross-validation ###\n",
    "kfold = StratifiedKFold(n_splits=10)\n",
    "\n",
    "# define the grid search procedure\n",
    "grid_search = GridSearchCV(estimator=model, param_grid=grid, scoring='accuracy', cv = kfold, n_jobs = -1)\n",
    "\n",
    "# execute the grid search\n",
    "grid_result = grid_search.fit(X, y)\n",
    "\n",
    "# summarize the best score and configuration\n",
    "print(\"Best: %f using %s\" % (grid_result.best_score_, grid_result.best_params_))\n",
    "params_bl7 = grid_result.best_params_\n",
    "\n",
    "# summarize all scores that were evaluated\n",
    "means = grid_result.cv_results_['mean_test_score']\n",
    "stds = grid_result.cv_results_['std_test_score']\n",
    "params = grid_result.cv_results_['params']\n",
    "\n",
    "### Displaying scores' means, stds and parameters ###\n",
    "for mean, stdev, param in zip(means, stds, params):\n",
    "    print(\"%f (%f) with: %r\" % (mean, stdev, param))"
   ]
  },
  {
   "cell_type": "code",
   "execution_count": 47,
   "id": "ef5e4a26",
   "metadata": {
    "colab": {
     "base_uri": "https://localhost:8080/"
    },
    "id": "ef5e4a26",
    "outputId": "d4e6491d-e49b-4e08-f0f5-6a8e6bbb618e"
   },
   "outputs": [
    {
     "name": "stdout",
     "output_type": "stream",
     "text": [
      "Best: 0.761887 using {'criterion': 'gini', 'max_depth': 3, 'min_samples_leaf': 100}\n",
      "0.742492 (0.070130) with: {'criterion': 'gini', 'max_depth': 2, 'min_samples_leaf': 5}\n",
      "0.742492 (0.070130) with: {'criterion': 'gini', 'max_depth': 2, 'min_samples_leaf': 10}\n",
      "0.742492 (0.070130) with: {'criterion': 'gini', 'max_depth': 2, 'min_samples_leaf': 20}\n",
      "0.748516 (0.070772) with: {'criterion': 'gini', 'max_depth': 2, 'min_samples_leaf': 50}\n",
      "0.758272 (0.046967) with: {'criterion': 'gini', 'max_depth': 2, 'min_samples_leaf': 100}\n",
      "0.720732 (0.087932) with: {'criterion': 'gini', 'max_depth': 3, 'min_samples_leaf': 5}\n",
      "0.717117 (0.087354) with: {'criterion': 'gini', 'max_depth': 3, 'min_samples_leaf': 10}\n",
      "0.721937 (0.090795) with: {'criterion': 'gini', 'max_depth': 3, 'min_samples_leaf': 20}\n",
      "0.718278 (0.095654) with: {'criterion': 'gini', 'max_depth': 3, 'min_samples_leaf': 50}\n",
      "0.761887 (0.050895) with: {'criterion': 'gini', 'max_depth': 3, 'min_samples_leaf': 100}\n",
      "0.738804 (0.092406) with: {'criterion': 'gini', 'max_depth': 5, 'min_samples_leaf': 5}\n",
      "0.747238 (0.091086) with: {'criterion': 'gini', 'max_depth': 5, 'min_samples_leaf': 10}\n",
      "0.750926 (0.085092) with: {'criterion': 'gini', 'max_depth': 5, 'min_samples_leaf': 20}\n",
      "0.718278 (0.095654) with: {'criterion': 'gini', 'max_depth': 5, 'min_samples_leaf': 50}\n",
      "0.761887 (0.050895) with: {'criterion': 'gini', 'max_depth': 5, 'min_samples_leaf': 100}\n",
      "0.726756 (0.095008) with: {'criterion': 'gini', 'max_depth': 10, 'min_samples_leaf': 5}\n",
      "0.749677 (0.082514) with: {'criterion': 'gini', 'max_depth': 10, 'min_samples_leaf': 10}\n",
      "0.755774 (0.070771) with: {'criterion': 'gini', 'max_depth': 10, 'min_samples_leaf': 20}\n",
      "0.718278 (0.095654) with: {'criterion': 'gini', 'max_depth': 10, 'min_samples_leaf': 50}\n",
      "0.761887 (0.050895) with: {'criterion': 'gini', 'max_depth': 10, 'min_samples_leaf': 100}\n",
      "0.729151 (0.099858) with: {'criterion': 'gini', 'max_depth': 20, 'min_samples_leaf': 5}\n",
      "0.750882 (0.082378) with: {'criterion': 'gini', 'max_depth': 20, 'min_samples_leaf': 10}\n",
      "0.756979 (0.072337) with: {'criterion': 'gini', 'max_depth': 20, 'min_samples_leaf': 20}\n",
      "0.718278 (0.095654) with: {'criterion': 'gini', 'max_depth': 20, 'min_samples_leaf': 50}\n",
      "0.761887 (0.050895) with: {'criterion': 'gini', 'max_depth': 20, 'min_samples_leaf': 100}\n",
      "0.749736 (0.067562) with: {'criterion': 'entropy', 'max_depth': 2, 'min_samples_leaf': 5}\n",
      "0.749736 (0.067562) with: {'criterion': 'entropy', 'max_depth': 2, 'min_samples_leaf': 10}\n",
      "0.749736 (0.067562) with: {'criterion': 'entropy', 'max_depth': 2, 'min_samples_leaf': 20}\n",
      "0.749736 (0.067562) with: {'criterion': 'entropy', 'max_depth': 2, 'min_samples_leaf': 50}\n",
      "0.758272 (0.046967) with: {'criterion': 'entropy', 'max_depth': 2, 'min_samples_leaf': 100}\n",
      "0.727946 (0.089360) with: {'criterion': 'entropy', 'max_depth': 3, 'min_samples_leaf': 5}\n",
      "0.727961 (0.087646) with: {'criterion': 'entropy', 'max_depth': 3, 'min_samples_leaf': 10}\n",
      "0.727961 (0.087646) with: {'criterion': 'entropy', 'max_depth': 3, 'min_samples_leaf': 20}\n",
      "0.725522 (0.094877) with: {'criterion': 'entropy', 'max_depth': 3, 'min_samples_leaf': 50}\n",
      "0.761887 (0.050895) with: {'criterion': 'entropy', 'max_depth': 3, 'min_samples_leaf': 100}\n",
      "0.740038 (0.091843) with: {'criterion': 'entropy', 'max_depth': 5, 'min_samples_leaf': 5}\n",
      "0.732751 (0.087539) with: {'criterion': 'entropy', 'max_depth': 5, 'min_samples_leaf': 10}\n",
      "0.750926 (0.082387) with: {'criterion': 'entropy', 'max_depth': 5, 'min_samples_leaf': 20}\n",
      "0.727931 (0.097199) with: {'criterion': 'entropy', 'max_depth': 5, 'min_samples_leaf': 50}\n",
      "0.761887 (0.050895) with: {'criterion': 'entropy', 'max_depth': 5, 'min_samples_leaf': 100}\n",
      "0.718263 (0.090589) with: {'criterion': 'entropy', 'max_depth': 10, 'min_samples_leaf': 5}\n",
      "0.724302 (0.088084) with: {'criterion': 'entropy', 'max_depth': 10, 'min_samples_leaf': 10}\n",
      "0.758169 (0.074792) with: {'criterion': 'entropy', 'max_depth': 10, 'min_samples_leaf': 20}\n",
      "0.727931 (0.097199) with: {'criterion': 'entropy', 'max_depth': 10, 'min_samples_leaf': 50}\n",
      "0.761887 (0.050895) with: {'criterion': 'entropy', 'max_depth': 10, 'min_samples_leaf': 100}\n",
      "0.715854 (0.091074) with: {'criterion': 'entropy', 'max_depth': 20, 'min_samples_leaf': 5}\n",
      "0.726712 (0.088996) with: {'criterion': 'entropy', 'max_depth': 20, 'min_samples_leaf': 10}\n",
      "0.758169 (0.074792) with: {'criterion': 'entropy', 'max_depth': 20, 'min_samples_leaf': 20}\n",
      "0.727931 (0.097199) with: {'criterion': 'entropy', 'max_depth': 20, 'min_samples_leaf': 50}\n",
      "0.761887 (0.050895) with: {'criterion': 'entropy', 'max_depth': 20, 'min_samples_leaf': 100}\n"
     ]
    }
   ],
   "source": [
    "### Hyperparameter Tuning DT model (base model) to create best blending EL ###\n",
    "\n",
    "model = DecisionTreeClassifier()\n",
    "\n",
    "# define the grid of values to search\n",
    "grid = dict()\n",
    "grid['max_depth'] = [2, 3, 5, 10, 20]\n",
    "grid['min_samples_leaf'] = [5, 10, 20, 50, 100]\n",
    "grid['criterion'] = [\"gini\", \"entropy\"]\n",
    "\n",
    "### defining ten stratified K-folds cross-validation ###\n",
    "kfold = StratifiedKFold(n_splits=10)\n",
    "\n",
    "# define the grid search procedure\n",
    "grid_search = GridSearchCV(estimator=model, param_grid=grid, cv=kfold, n_jobs=-1, scoring = \"accuracy\")\n",
    "\n",
    "# execute the grid search\n",
    "grid_result = grid_search.fit(X, y)\n",
    "\n",
    "# summarize the best score and configuration\n",
    "print(\"Best: %f using %s\" % (grid_result.best_score_, grid_result.best_params_))\n",
    "params_bl8 = grid_result.best_params_\n",
    "\n",
    "# summarize all scores that were evaluated\n",
    "means = grid_result.cv_results_['mean_test_score']\n",
    "stds = grid_result.cv_results_['std_test_score']\n",
    "params = grid_result.cv_results_['params']\n",
    "\n",
    "### Displaying scores' means, stds and parameters ###\n",
    "for mean, stdev, param in zip(means, stds, params):\n",
    "    print(\"%f (%f) with: %r\" % (mean, stdev, param))"
   ]
  },
  {
   "cell_type": "code",
   "execution_count": 48,
   "id": "12133cfc",
   "metadata": {
    "colab": {
     "base_uri": "https://localhost:8080/"
    },
    "id": "12133cfc",
    "outputId": "47f0cc7e-0b60-4df5-d9ca-89bd6ff96ef9",
    "scrolled": false
   },
   "outputs": [
    {
     "name": "stdout",
     "output_type": "stream",
     "text": [
      "Best: 0.795651 using {'max_depth': 3, 'max_features': 'sqrt', 'min_samples_split': 10, 'n_estimators': 50}\n",
      "0.784734 (0.073564) with: {'max_depth': 3, 'max_features': 'sqrt', 'min_samples_split': 2, 'n_estimators': 50}\n",
      "0.782280 (0.078064) with: {'max_depth': 3, 'max_features': 'sqrt', 'min_samples_split': 2, 'n_estimators': 100}\n",
      "0.781090 (0.078050) with: {'max_depth': 3, 'max_features': 'sqrt', 'min_samples_split': 2, 'n_estimators': 150}\n",
      "0.779900 (0.076316) with: {'max_depth': 3, 'max_features': 'sqrt', 'min_samples_split': 5, 'n_estimators': 50}\n",
      "0.779929 (0.068744) with: {'max_depth': 3, 'max_features': 'sqrt', 'min_samples_split': 5, 'n_estimators': 100}\n",
      "0.784749 (0.072479) with: {'max_depth': 3, 'max_features': 'sqrt', 'min_samples_split': 5, 'n_estimators': 150}\n",
      "0.795651 (0.066536) with: {'max_depth': 3, 'max_features': 'sqrt', 'min_samples_split': 10, 'n_estimators': 50}\n",
      "0.789612 (0.065187) with: {'max_depth': 3, 'max_features': 'sqrt', 'min_samples_split': 10, 'n_estimators': 100}\n",
      "0.785968 (0.067915) with: {'max_depth': 3, 'max_features': 'sqrt', 'min_samples_split': 10, 'n_estimators': 150}\n",
      "0.784690 (0.080430) with: {'max_depth': 3, 'max_features': 'log2', 'min_samples_split': 2, 'n_estimators': 50}\n",
      "0.784705 (0.081446) with: {'max_depth': 3, 'max_features': 'log2', 'min_samples_split': 2, 'n_estimators': 100}\n",
      "0.777520 (0.068362) with: {'max_depth': 3, 'max_features': 'log2', 'min_samples_split': 2, 'n_estimators': 150}\n",
      "0.784734 (0.072770) with: {'max_depth': 3, 'max_features': 'log2', 'min_samples_split': 5, 'n_estimators': 50}\n",
      "0.785983 (0.072172) with: {'max_depth': 3, 'max_features': 'log2', 'min_samples_split': 5, 'n_estimators': 100}\n",
      "0.779900 (0.072206) with: {'max_depth': 3, 'max_features': 'log2', 'min_samples_split': 5, 'n_estimators': 150}\n",
      "0.785954 (0.069684) with: {'max_depth': 3, 'max_features': 'log2', 'min_samples_split': 10, 'n_estimators': 50}\n",
      "0.790817 (0.067595) with: {'max_depth': 3, 'max_features': 'log2', 'min_samples_split': 10, 'n_estimators': 100}\n",
      "0.785954 (0.071336) with: {'max_depth': 3, 'max_features': 'log2', 'min_samples_split': 10, 'n_estimators': 150}\n",
      "0.784719 (0.080801) with: {'max_depth': 6, 'max_features': 'sqrt', 'min_samples_split': 2, 'n_estimators': 50}\n",
      "0.779915 (0.078873) with: {'max_depth': 6, 'max_features': 'sqrt', 'min_samples_split': 2, 'n_estimators': 100}\n",
      "0.783515 (0.080739) with: {'max_depth': 6, 'max_features': 'sqrt', 'min_samples_split': 2, 'n_estimators': 150}\n",
      "0.784719 (0.079387) with: {'max_depth': 6, 'max_features': 'sqrt', 'min_samples_split': 5, 'n_estimators': 50}\n",
      "0.787114 (0.083980) with: {'max_depth': 6, 'max_features': 'sqrt', 'min_samples_split': 5, 'n_estimators': 100}\n",
      "0.779871 (0.086673) with: {'max_depth': 6, 'max_features': 'sqrt', 'min_samples_split': 5, 'n_estimators': 150}\n",
      "0.790817 (0.069480) with: {'max_depth': 6, 'max_features': 'sqrt', 'min_samples_split': 10, 'n_estimators': 50}\n",
      "0.791948 (0.078889) with: {'max_depth': 6, 'max_features': 'sqrt', 'min_samples_split': 10, 'n_estimators': 100}\n",
      "0.783515 (0.078367) with: {'max_depth': 6, 'max_features': 'sqrt', 'min_samples_split': 10, 'n_estimators': 150}\n",
      "0.776256 (0.084538) with: {'max_depth': 6, 'max_features': 'log2', 'min_samples_split': 2, 'n_estimators': 50}\n",
      "0.783485 (0.087131) with: {'max_depth': 6, 'max_features': 'log2', 'min_samples_split': 2, 'n_estimators': 100}\n",
      "0.782251 (0.089044) with: {'max_depth': 6, 'max_features': 'log2', 'min_samples_split': 2, 'n_estimators': 150}\n",
      "0.779856 (0.080288) with: {'max_depth': 6, 'max_features': 'log2', 'min_samples_split': 5, 'n_estimators': 50}\n",
      "0.781076 (0.084248) with: {'max_depth': 6, 'max_features': 'log2', 'min_samples_split': 5, 'n_estimators': 100}\n",
      "0.784705 (0.083383) with: {'max_depth': 6, 'max_features': 'log2', 'min_samples_split': 5, 'n_estimators': 150}\n",
      "0.791992 (0.073671) with: {'max_depth': 6, 'max_features': 'log2', 'min_samples_split': 10, 'n_estimators': 50}\n",
      "0.783485 (0.083580) with: {'max_depth': 6, 'max_features': 'log2', 'min_samples_split': 10, 'n_estimators': 100}\n",
      "0.787114 (0.085198) with: {'max_depth': 6, 'max_features': 'log2', 'min_samples_split': 10, 'n_estimators': 150}\n",
      "0.788290 (0.093035) with: {'max_depth': 9, 'max_features': 'sqrt', 'min_samples_split': 2, 'n_estimators': 50}\n",
      "0.787129 (0.087843) with: {'max_depth': 9, 'max_features': 'sqrt', 'min_samples_split': 2, 'n_estimators': 100}\n",
      "0.781046 (0.099594) with: {'max_depth': 9, 'max_features': 'sqrt', 'min_samples_split': 2, 'n_estimators': 150}\n",
      "0.778636 (0.089016) with: {'max_depth': 9, 'max_features': 'sqrt', 'min_samples_split': 5, 'n_estimators': 50}\n",
      "0.795592 (0.084579) with: {'max_depth': 9, 'max_features': 'sqrt', 'min_samples_split': 5, 'n_estimators': 100}\n",
      "0.784675 (0.092485) with: {'max_depth': 9, 'max_features': 'sqrt', 'min_samples_split': 5, 'n_estimators': 150}\n",
      "0.783500 (0.081904) with: {'max_depth': 9, 'max_features': 'sqrt', 'min_samples_split': 10, 'n_estimators': 50}\n",
      "0.788319 (0.091009) with: {'max_depth': 9, 'max_features': 'sqrt', 'min_samples_split': 10, 'n_estimators': 100}\n",
      "0.785924 (0.082492) with: {'max_depth': 9, 'max_features': 'sqrt', 'min_samples_split': 10, 'n_estimators': 150}\n",
      "0.789509 (0.088982) with: {'max_depth': 9, 'max_features': 'log2', 'min_samples_split': 2, 'n_estimators': 50}\n",
      "0.784705 (0.090133) with: {'max_depth': 9, 'max_features': 'log2', 'min_samples_split': 2, 'n_estimators': 100}\n",
      "0.784675 (0.089915) with: {'max_depth': 9, 'max_features': 'log2', 'min_samples_split': 2, 'n_estimators': 150}\n",
      "0.791963 (0.084673) with: {'max_depth': 9, 'max_features': 'log2', 'min_samples_split': 5, 'n_estimators': 50}\n",
      "0.791919 (0.087983) with: {'max_depth': 9, 'max_features': 'log2', 'min_samples_split': 5, 'n_estimators': 100}\n",
      "0.790758 (0.079943) with: {'max_depth': 9, 'max_features': 'log2', 'min_samples_split': 5, 'n_estimators': 150}\n",
      "0.783470 (0.090706) with: {'max_depth': 9, 'max_features': 'log2', 'min_samples_split': 10, 'n_estimators': 50}\n",
      "0.791963 (0.078812) with: {'max_depth': 9, 'max_features': 'log2', 'min_samples_split': 10, 'n_estimators': 100}\n",
      "0.789539 (0.085152) with: {'max_depth': 9, 'max_features': 'log2', 'min_samples_split': 10, 'n_estimators': 150}\n"
     ]
    }
   ],
   "source": [
    "### Hyperparameter Tuning RF model (base model) to create best blending EL ###\n",
    "\n",
    "model = RandomForestClassifier()\n",
    "\n",
    "# define the grid of values to search\n",
    "grid = dict()\n",
    "grid['max_depth'] = [3, 6, 9]\n",
    "grid['n_estimators'] = [50, 100, 150]\n",
    "grid['max_features'] = ['sqrt', 'log2']\n",
    "grid['min_samples_split'] = [2, 5, 10]\n",
    "\n",
    "### defining ten stratified K-folds cross-validation ###\n",
    "kfold = StratifiedKFold(n_splits=10)\n",
    "\n",
    "# define the grid search procedure\n",
    "grid_search = GridSearchCV(estimator=model, param_grid=grid, cv=kfold, scoring='accuracy', n_jobs = -1)\n",
    "\n",
    "# execute the grid search\n",
    "grid_result = grid_search.fit(X, y)\n",
    "\n",
    "# summarize the best score and configuration\n",
    "print(\"Best: %f using %s\" % (grid_result.best_score_, grid_result.best_params_))\n",
    "params_bl9 = grid_result.best_params_\n",
    "\n",
    "# summarize all scores that were evaluated\n",
    "means = grid_result.cv_results_['mean_test_score']\n",
    "stds = grid_result.cv_results_['std_test_score']\n",
    "params = grid_result.cv_results_['params']\n",
    "\n",
    "### Displaying scores' means, stds and parameters ###\n",
    "for mean, stdev, param in zip(means, stds, params):\n",
    "    print(\"%f (%f) with: %r\" % (mean, stdev, param))"
   ]
  },
  {
   "cell_type": "code",
   "execution_count": 49,
   "id": "49ff806e",
   "metadata": {
    "colab": {
     "base_uri": "https://localhost:8080/"
    },
    "id": "49ff806e",
    "outputId": "fa4c28be-7fa2-4d8d-9424-0fc1fcba7cb7"
   },
   "outputs": [
    {
     "name": "stdout",
     "output_type": "stream",
     "text": [
      "Best: 0.794358 using {'max_depth': 5, 'min_samples_split': 500}\n",
      "0.790743 (0.082502) with: {'max_depth': 5, 'min_samples_split': 400}\n",
      "0.794358 (0.079300) with: {'max_depth': 5, 'min_samples_split': 500}\n",
      "0.793138 (0.086122) with: {'max_depth': 6, 'min_samples_split': 400}\n",
      "0.790729 (0.085353) with: {'max_depth': 6, 'min_samples_split': 500}\n",
      "0.790743 (0.083897) with: {'max_depth': 7, 'min_samples_split': 400}\n",
      "0.790729 (0.084327) with: {'max_depth': 7, 'min_samples_split': 500}\n",
      "0.790714 (0.088113) with: {'max_depth': 8, 'min_samples_split': 400}\n",
      "0.793138 (0.085784) with: {'max_depth': 8, 'min_samples_split': 500}\n"
     ]
    }
   ],
   "source": [
    "### Hyperparameter Tuning Gradient Boosting model (base model) to create the best blending EL ###\n",
    "\n",
    "model = GradientBoostingClassifier()\n",
    "\n",
    "# define the grid of values to search\n",
    "parameters = {\n",
    "    'max_depth': range(5,9,1),\n",
    "    'min_samples_split': range(400,600,100)\n",
    "    }\n",
    "\n",
    "### defining ten stratified K-folds cross-validation ###\n",
    "kfold = StratifiedKFold(n_splits=10)\n",
    "\n",
    "# define the grid search procedure\n",
    "grid_search = GridSearchCV(estimator=model, param_grid=parameters, cv=kfold,  n_jobs=-1, scoring='accuracy')\n",
    "\n",
    "# execute the grid search\n",
    "grid_result = grid_search.fit(X, y)\n",
    "\n",
    "# summarize the best score and configuration\n",
    "print(\"Best: %f using %s\" % (grid_result.best_score_, grid_result.best_params_))\n",
    "params_bl10 = grid_result.best_params_\n",
    "\n",
    "# summarize all scores that were evaluated\n",
    "means = grid_result.cv_results_['mean_test_score']\n",
    "stds = grid_result.cv_results_['std_test_score']\n",
    "params = grid_result.cv_results_['params']\n",
    "\n",
    "### Displaying scores' means, stds and parameters ###\n",
    "for mean, stdev, param in zip(means, stds, params):\n",
    "    print(\"%f (%f) with: %r\" % (mean, stdev, param))"
   ]
  },
  {
   "cell_type": "markdown",
   "id": "f4ba915a",
   "metadata": {
    "id": "f4ba915a"
   },
   "source": [
    "#### ii) Building Blending Ensemble"
   ]
  },
  {
   "cell_type": "markdown",
   "id": "96ee5060",
   "metadata": {
    "id": "96ee5060"
   },
   "source": [
    "##### Before GA"
   ]
  },
  {
   "cell_type": "code",
   "execution_count": 50,
   "id": "0d2ce17b",
   "metadata": {
    "colab": {
     "base_uri": "https://localhost:8080/"
    },
    "id": "0d2ce17b",
    "outputId": "449cab41-1033-41bc-8687-2138820c87ee"
   },
   "outputs": [
    {
     "name": "stdout",
     "output_type": "stream",
     "text": [
      "************ Blending Performance Metrics Without Applying GA ************\n",
      "Blending Accuracy: 82.400\n",
      "Blending Precision: 83.333\n",
      "Blending Recall: 85.714\n",
      "Blending F1-score: 84.507\n",
      "Blending Confusion matrix : \n",
      "\n"
     ]
    },
    {
     "data": {
      "image/png": "[encoded data removed]",
      "text/plain": [
       "<Figure size 640x480 with 2 Axes>"
      ]
     },
     "metadata": {},
     "output_type": "display_data"
    }
   ],
   "source": [
    "### A class to run blending EL model before applying genetic algorithm ###\n",
    "\n",
    "class BlendingEnsembleBeforeGA:\n",
    "\n",
    "    ### Initialising class variables ###\n",
    "    def __init__(self):\n",
    "        self.x_train = None\n",
    "        self.x_test = None\n",
    "        self.y_train = None\n",
    "        self.y_test = None\n",
    "        self.weak_learners = None\n",
    "\n",
    "    ### Getting training, validation and testing datasets ready for blending ###\n",
    "    def train_data(self):\n",
    "\n",
    "        # split dataset into train and test sets\n",
    "        self.x_train, self.x_test, self.y_train, self.y_test = train_test_split(independent_features, target_variable, test_size=0.15)\n",
    "        # split training set into train and validation sets\n",
    "        self.x_train, self.x_val, self.y_train, self.y_val = train_test_split(self.x_train, self.y_train, test_size=0.15)\n",
    "\n",
    "\n",
    "        ### Normalizing data ###\n",
    "        scaler = MinMaxScaler()    # create an object of class\n",
    "\n",
    "        scaler.fit(self.x_train)       #  fit on training data\n",
    "\n",
    "        # transform model on both traing and testing data\n",
    "        x_train_scaled = scaler.transform(self.x_train)\n",
    "        x_test_scaled = scaler.transform(self.x_test)\n",
    "        x_val_scaled = scaler.transform(self.x_val)\n",
    "\n",
    "        # convert the numpy array after transform into a dataframe\n",
    "        self.x_train = pd.DataFrame(x_train_scaled, columns = self.x_train.columns)\n",
    "        self.x_test = pd.DataFrame(x_test_scaled, columns = self.x_test.columns)\n",
    "        self.x_val = pd.DataFrame(x_val_scaled, columns = self.x_val.columns)\n",
    "\n",
    "    ### Main blending function ###\n",
    "    def MainBlending(self):\n",
    "\n",
    "        ### Define weak learners or base models ###\n",
    "        self.weak_learners = [('svm', SVC(**params_bl1)),\n",
    "                         ('knn', KNeighborsClassifier(**params_bl2)),\n",
    "                         ('dt', DecisionTreeClassifier(**params_bl3)),\n",
    "                         ('rf', RandomForestClassifier(**params_bl4)),\n",
    "                         ('gb', GradientBoostingClassifier(**params_bl5))]\n",
    "\n",
    "        # Final learner or meta model\n",
    "        final_learner = LogisticRegression()\n",
    "\n",
    "        train_meta_model = None\n",
    "        test_meta_model = None\n",
    "\n",
    "        ### Start blending ###\n",
    "        for clf_id, clf in self.weak_learners:\n",
    "\n",
    "            # Predictions for each classifier\n",
    "            val_predictions, test_predictions = self.train_level_1(clf)\n",
    "\n",
    "            # Stack predictions which will form the input data for the meta model\n",
    "            if isinstance(train_meta_model, np.ndarray):\n",
    "                train_meta_model = np.vstack((train_meta_model, val_predictions))\n",
    "            else:\n",
    "                train_meta_model = val_predictions\n",
    "\n",
    "            # Stack predictions from test set which will form test data for meta model\n",
    "            if isinstance(test_meta_model, np.ndarray):\n",
    "                test_meta_model = np.vstack((test_meta_model, test_predictions))\n",
    "            else:\n",
    "                test_meta_model = test_predictions\n",
    "\n",
    "        # Transpose train_meta_model\n",
    "        train_meta_model = train_meta_model.T\n",
    "\n",
    "        # Transpose test_meta_model\n",
    "        test_meta_model = test_meta_model.T\n",
    "\n",
    "        # Training level 2\n",
    "        self.train_level_2(final_learner, train_meta_model, test_meta_model)\n",
    "\n",
    "\n",
    "    ### Training level 1 ###\n",
    "    def train_level_1(self, clf):\n",
    "        # Train with base x_train\n",
    "        clf.fit(self.x_train, self.y_train)\n",
    "\n",
    "        # Generate predictions for the holdout set (validation).\n",
    "        # These predictions will build the input for the meta model.\n",
    "        val_predictions = clf.predict(self.x_val)\n",
    "\n",
    "        # Generate predictions for original test set.\n",
    "        # These predictions will be used to test the meta model.\n",
    "        test_predictions = clf.predict(self.x_test)\n",
    "\n",
    "        return val_predictions, test_predictions\n",
    "\n",
    "    ### Training level 2 ###\n",
    "    def train_level_2(self, final_learner, train_meta_model, test_meta_model):\n",
    "        # Training is carried out with final learner or meta model\n",
    "        final_learner.fit(train_meta_model, self.y_val)\n",
    "\n",
    "        ### Getting performance results from meta_model ###\n",
    "        print('************ Blending Performance Metrics Without Applying GA ************')\n",
    "        global bl_acc1, bl_pre1, bl_re1, bl_fs1\n",
    "        ### Checking accuracy score ###\n",
    "        bl_acc1 = final_learner.score(test_meta_model, self.y_test) * 100\n",
    "        # For rest of the metrics, predicting test meta data\n",
    "        test_predictions = final_learner.predict(test_meta_model)\n",
    "        ### Checking precision score ###\n",
    "        bl_pre1 = precision_score(self.y_test, test_predictions) * 100\n",
    "        ### Checking recall score ###\n",
    "        bl_re1 = recall_score(self.y_test, test_predictions) * 100\n",
    "        ### Checking f1-score ###\n",
    "        bl_fs1 = f1_score(self.y_test, test_predictions) * 100\n",
    "        ### Checking confusion matrix ###\n",
    "        matrix3 = confusion_matrix(self.y_test, test_predictions, labels=[1,0])\n",
    "\n",
    "        ### Printing scores ###\n",
    "        print('Blending Accuracy: %.3f' % (bl_acc1))\n",
    "        print('Blending Precision: %.3f' % (bl_pre1))\n",
    "        print('Blending Recall: %.3f' % (bl_re1))\n",
    "        print('Blending F1-score: %.3f' % (bl_fs1))\n",
    "        \n",
    "        ### Building a Confusion Matrix ###\n",
    "        cm3 = metrics.ConfusionMatrixDisplay(confusion_matrix = matrix3, display_labels=[1, 0])\n",
    "        print('Blending Confusion matrix : \\n')\n",
    "        cm3.plot()\n",
    "        plt.show()\n",
    "\n",
    "if __name__ == \"__main__\":\n",
    "    blendingEnsemble1 = BlendingEnsembleBeforeGA()\n",
    "    blendingEnsemble1.train_data()\n",
    "    blendingEnsemble1.MainBlending()"
   ]
  },
  {
   "cell_type": "markdown",
   "id": "9bf38d7f",
   "metadata": {
    "id": "9bf38d7f"
   },
   "source": [
    "##### After GA"
   ]
  },
  {
   "cell_type": "code",
   "execution_count": 51,
   "id": "c10b192e",
   "metadata": {
    "colab": {
     "base_uri": "https://localhost:8080/"
    },
    "id": "c10b192e",
    "outputId": "091465cf-e52f-40ad-8696-6a7fca65460a"
   },
   "outputs": [
    {
     "name": "stdout",
     "output_type": "stream",
     "text": [
      "************ Blending Performance Metrics After Applying GA ************\n",
      "Blending Accuracy: 85.600\n",
      "Blending Precision: 85.714\n",
      "Blending Recall: 88.235\n",
      "Blending F1-score: 86.957\n",
      "Blending Confusion matrix : \n",
      "\n"
     ]
    },
    {
     "data": {
      "image/png": "[encoded data removed]",
      "text/plain": [
       "<Figure size 640x480 with 2 Axes>"
      ]
     },
     "metadata": {},
     "output_type": "display_data"
    }
   ],
   "source": [
    "### A class to run blending EL model after applying genetic algorithm ###\n",
    "\n",
    "class BlendingEnsembleAfterGA:\n",
    "\n",
    "    ### Initialising class variables ###\n",
    "    def __init__(self):\n",
    "        self.x_train = None\n",
    "        self.x_test = None\n",
    "        self.y_train = None\n",
    "        self.y_test = None\n",
    "        self.weak_learners = None\n",
    "\n",
    "    ### Getting training, validation and testing datasets ready for blending ###\n",
    "    def train_data(self):\n",
    "\n",
    "        # split dataset into train and test sets\n",
    "        self.x_train, self.x_test, self.y_train, self.y_test = train_test_split(independent_features, target_variable, test_size=0.15)\n",
    "        # split training set into train and validation sets\n",
    "        self.x_train, self.x_val, self.y_train, self.y_val = train_test_split(self.x_train, self.y_train, test_size=0.15)\n",
    "\n",
    "\n",
    "        ### Normalizing data###\n",
    "        scaler = MinMaxScaler()    # create an object of class\n",
    "\n",
    "        scaler.fit(self.x_train)       #  fit on training data\n",
    "\n",
    "        # transform model on both traing and testing data\n",
    "        x_train_scaled = scaler.transform(self.x_train)\n",
    "        x_test_scaled = scaler.transform(self.x_test)\n",
    "        x_val_scaled = scaler.transform(self.x_val)\n",
    "\n",
    "        # convert the numpy array after transform into a dataframe\n",
    "        self.x_train = pd.DataFrame(x_train_scaled, columns = self.x_train.columns)\n",
    "        self.x_test = pd.DataFrame(x_test_scaled, columns = self.x_test.columns)\n",
    "        self.x_val = pd.DataFrame(x_val_scaled, columns = self.x_val.columns)\n",
    "\n",
    "    ### Main blending function ###\n",
    "    def MainBlending(self):\n",
    "\n",
    "        ### Defining weak learners or base models ###\n",
    "        self.weak_learners = [('svm', SVC(**params_bl6)),\n",
    "                         ('knn', KNeighborsClassifier(**params_bl7)),\n",
    "                         ('dt', DecisionTreeClassifier(**params_bl8)),\n",
    "                         ('rf', RandomForestClassifier(**params_bl9)),\n",
    "                         ('gb', GradientBoostingClassifier(**params_bl10))]\n",
    "\n",
    "        # Final learner or meta model\n",
    "        final_learner = LogisticRegression()\n",
    "\n",
    "        train_meta_model = None\n",
    "        test_meta_model = None\n",
    "\n",
    "        ### Start blending ###\n",
    "        for clf_id, clf in self.weak_learners:\n",
    "\n",
    "            # Predictions for each classifier\n",
    "            val_predictions, test_predictions = self.train_level_1(clf)\n",
    "\n",
    "            # Stack predictions which will form the input data for the meta model\n",
    "            if isinstance(train_meta_model, np.ndarray):\n",
    "                train_meta_model = np.vstack((train_meta_model, val_predictions))\n",
    "            else:\n",
    "                train_meta_model = val_predictions\n",
    "\n",
    "            # Stack predictions from test set which will form test data for meta model\n",
    "            if isinstance(test_meta_model, np.ndarray):\n",
    "                test_meta_model = np.vstack((test_meta_model, test_predictions))\n",
    "            else:\n",
    "                test_meta_model = test_predictions\n",
    "\n",
    "        # Transpose train_meta_model\n",
    "        train_meta_model = train_meta_model.T\n",
    "\n",
    "        # Transpose test_meta_model\n",
    "        test_meta_model = test_meta_model.T\n",
    "\n",
    "        # Training level 2\n",
    "        self.train_level_2(final_learner, train_meta_model, test_meta_model)\n",
    "\n",
    "\n",
    "    ### Training level 1 ###\n",
    "    def train_level_1(self, clf):\n",
    "\n",
    "        # Train with base x_train\n",
    "        clf.fit(self.x_train, self.y_train)\n",
    "\n",
    "        # Generate predictions for the holdout set (validation).\n",
    "        # These predictions will build the input for the meta model.\n",
    "        val_predictions = clf.predict(self.x_val)\n",
    "\n",
    "        # Generate predictions for original test set.\n",
    "        # These predictions will be used to test the meta model.\n",
    "        test_predictions = clf.predict(self.x_test)\n",
    "\n",
    "        return val_predictions, test_predictions\n",
    "\n",
    "    ### Training level 2 ###\n",
    "    def train_level_2(self, final_learner, train_meta_model, test_meta_model):\n",
    "\n",
    "        # Training is carried out with final learner or meta model\n",
    "        final_learner.fit(train_meta_model, self.y_val)\n",
    "\n",
    "        # Getting performance results from meta_model\n",
    "        print('************ Blending Performance Metrics After Applying GA ************')\n",
    "        global bl_acc2, bl_pre2, bl_re2, bl_fs2\n",
    "\n",
    "        ### Checking accuracy score ###\n",
    "        bl_acc2 = final_learner.score(test_meta_model, self.y_test) * 100\n",
    "        # For rest of the metrics, predicting test meta data\n",
    "        test_predictions = final_learner.predict(test_meta_model)\n",
    "        ### Checking precision score ###\n",
    "        bl_pre2 = precision_score(self.y_test, test_predictions) * 100\n",
    "        ### Checking recall score ###\n",
    "        bl_re2 = recall_score(self.y_test, test_predictions) * 100\n",
    "        ### Checking f1 score ###\n",
    "        bl_fs2 = f1_score(self.y_test, test_predictions) * 100\n",
    "        ### Checking confusion matrix ###\n",
    "        matrix4 = confusion_matrix(self.y_test, test_predictions, labels=[1,0])\n",
    "\n",
    "        ### Printing scores ###\n",
    "        print('Blending Accuracy: %.3f' % (bl_acc2))\n",
    "        print('Blending Precision: %.3f' % (bl_pre2))\n",
    "        print('Blending Recall: %.3f' % (bl_re2))\n",
    "        print('Blending F1-score: %.3f' % (bl_fs2))\n",
    "        \n",
    "        ### Building a Confusion Matrix ###\n",
    "        cm4 = metrics.ConfusionMatrixDisplay(confusion_matrix = matrix4, display_labels=[1, 0])\n",
    "        print('Blending Confusion matrix : \\n')\n",
    "        cm4.plot()\n",
    "        plt.show()\n",
    "\n",
    "if __name__ == \"__main__\":\n",
    "    blendingEnsemble2 = BlendingEnsembleAfterGA()\n",
    "    blendingEnsemble2.train_data()\n",
    "    blendingEnsemble2.MainBlending()"
   ]
  },
  {
   "cell_type": "markdown",
   "id": "6c8ef266",
   "metadata": {
    "id": "6c8ef266"
   },
   "source": [
    "###### Performance Comparison RQ3:"
   ]
  },
  {
   "cell_type": "code",
   "execution_count": 52,
   "id": "efb1a6f7",
   "metadata": {
    "colab": {
     "base_uri": "https://localhost:8080/",
     "height": 416
    },
    "id": "efb1a6f7",
    "outputId": "406113e1-3788-422c-cd08-d17d932a0f5e",
    "scrolled": false
   },
   "outputs": [
    {
     "data": {
      "text/plain": [
       "Text(0, 0.5, 'Score')"
      ]
     },
     "execution_count": 52,
     "metadata": {},
     "output_type": "execute_result"
    },
    {
     "data": {
      "image/png": "[encoded data removed]",
      "text/plain": [
       "<Figure size 1500x800 with 1 Axes>"
      ]
     },
     "metadata": {},
     "output_type": "display_data"
    }
   ],
   "source": [
    "### Plotting bar chart: Compare Blending EL performance without and with GA ###\n",
    "\n",
    "plotdata = pd.DataFrame({\n",
    "\n",
    "    \"Accuracy\":[bl_acc1, bl_acc2],\n",
    "\n",
    "    \"Precision\":[bl_pre1, bl_pre2],\n",
    "\n",
    "    \"Recall\":[bl_re1, bl_re2],\n",
    "\n",
    "    \"F1-score\":[bl_fs1, bl_fs2]\n",
    "\n",
    "    },\n",
    "\n",
    "    index=[\"Without GA\", \"With GA\"])\n",
    "\n",
    "ax = plotdata.plot(kind=\"bar\",figsize=(15, 8), grid = False)\n",
    "# Customize the grid\n",
    "ax.grid(axis = \"y\")\n",
    "# Set the gridlines behind the plot\n",
    "ax.set_axisbelow(True)\n",
    "\n",
    "#Annotate text in bar plot\n",
    "for bar in ax.patches:\n",
    "    ax.text(bar.get_x() + bar.get_width() / 2, bar.get_height() + 2,\n",
    "            '{:,.1f}'.format(bar.get_height())+ \"%\",\n",
    "            ha='center', va='center',\n",
    "            size=12 )\n",
    "\n",
    "plt.title(\"Blending Ensemble Learning Model Performance Comparison With and Without GA\")\n",
    "\n",
    "plt.ylabel(\"Score\")"
   ]
  },
  {
   "cell_type": "markdown",
   "id": "1f947212",
   "metadata": {
    "id": "1f947212"
   },
   "source": [
    "###### Summary:\n",
    "Genetic algorithm increased the performance of the blending ensemble learning model.\n"
   ]
  },
  {
   "cell_type": "markdown",
   "id": "bf575848",
   "metadata": {
    "id": "bf575848"
   },
   "source": [
    "###### Performance Comparison RQ1:"
   ]
  },
  {
   "cell_type": "code",
   "execution_count": 53,
   "id": "03dc62c3",
   "metadata": {
    "colab": {
     "base_uri": "https://localhost:8080/",
     "height": 366
    },
    "id": "03dc62c3",
    "outputId": "4dcdc6ee-853c-4d10-8987-78dbe8c4941f"
   },
   "outputs": [
    {
     "data": {
      "image/png": "[encoded data removed]",
      "text/plain": [
       "<Figure size 1500x800 with 1 Axes>"
      ]
     },
     "metadata": {},
     "output_type": "display_data"
    }
   ],
   "source": [
    "### Plot bar chart: Compare Boosting and Blending EL performance without GA ###\n",
    "\n",
    "plotdata = pd.DataFrame({\n",
    "\n",
    "    \"Accuracy\":[bo_acc1, bl_acc1],\n",
    "\n",
    "    \"Precision\":[bo_pre1, bl_pre1],\n",
    "\n",
    "    \"Recall\":[bo_re1, bl_re1],\n",
    "\n",
    "    \"F1-score\":[bo_fs1, bl_fs1]\n",
    "\n",
    "    },\n",
    "\n",
    "\n",
    "    index=[\"Boosting EL Model\", \"Blending EL Model\"])\n",
    "\n",
    "ax = plotdata.plot(kind=\"bar\",figsize=(15, 8), rot=0, grid = False)\n",
    "# Customize the grid\n",
    "ax.grid(axis = \"y\")\n",
    "# Set the gridlines behind the plot\n",
    "ax.set_axisbelow(True)\n",
    "\n",
    "#Annotate text in bar plot\n",
    "for bar in ax.patches:\n",
    "    ax.text(bar.get_x() + bar.get_width() / 2, bar.get_height() + 2,\n",
    "            '{:,.1f}'.format(bar.get_height())+ \"%\",\n",
    "            ha='center', va='center',\n",
    "            size=12 )\n",
    "\n",
    "# Setting title for plot\n",
    "plt.title(\"Ensemble Learning Models Performance Comparison Without GA\")\n",
    "# adjust location of the legend in second subplot\n",
    "plt.legend(loc='upper right')\n",
    "plt.ylabel(\"Score\")\n",
    "\n",
    "plt.show()"
   ]
  },
  {
   "cell_type": "markdown",
   "id": "e86a22e4",
   "metadata": {
    "id": "e86a22e4"
   },
   "source": [
    "###### Summary:\n",
    "Without genetic algorithm, the performance of blending ensemble learning model was significantly increased than the performance of AdaBoost ensemble learning model.\n"
   ]
  },
  {
   "cell_type": "markdown",
   "id": "1fd38024",
   "metadata": {
    "id": "1fd38024"
   },
   "source": [
    "###### Performance Comparison RQ4:"
   ]
  },
  {
   "cell_type": "code",
   "execution_count": 54,
   "id": "67a2c8f0",
   "metadata": {
    "colab": {
     "base_uri": "https://localhost:8080/",
     "height": 366
    },
    "id": "67a2c8f0",
    "outputId": "41a0cd06-b6ee-4a3d-c292-4847c1841710"
   },
   "outputs": [
    {
     "data": {
      "image/png": "[encoded data removed]",
      "text/plain": [
       "<Figure size 1500x800 with 1 Axes>"
      ]
     },
     "metadata": {},
     "output_type": "display_data"
    }
   ],
   "source": [
    "### Plot bar chart: Compare Boosting and Blending EL performance with GA ###\n",
    "\n",
    "plotdata = pd.DataFrame({\n",
    "\n",
    "    \"Accuracy\":[bo_acc2, bl_acc2],\n",
    "\n",
    "    \"Precision\":[bo_pre2, bl_pre2],\n",
    "\n",
    "    \"Recall\":[bo_re2, bl_re2],\n",
    "\n",
    "    \"F1-score\":[bo_fs2, bl_fs2]\n",
    "\n",
    "    },\n",
    "\n",
    "\n",
    "    index=[\"Boosting EL Model\", \"Blending EL Model\"])\n",
    "\n",
    "ax = plotdata.plot(kind=\"bar\",figsize=(15, 8), rot=0, grid = False)\n",
    "# Customize the grid\n",
    "ax.grid(axis = \"y\")\n",
    "# Set the gridlines behind the plot\n",
    "ax.set_axisbelow(True)\n",
    "\n",
    "#Annotate text in bar plot\n",
    "for bar in ax.patches:\n",
    "    ax.text(bar.get_x() + bar.get_width() / 2, bar.get_height() + 2,\n",
    "            '{:,.1f}'.format(bar.get_height())+ \"%\",\n",
    "            ha='center', va='center',\n",
    "            size=12 )\n",
    "\n",
    "# Setting title for plot\n",
    "plt.title(\"Ensemble Learning Models Performance Comparison After Applying GA\")\n",
    "# adjust location of the legend in second subplot\n",
    "plt.legend(loc='upper right')\n",
    "plt.ylabel(\"Score\")\n",
    "\n",
    "plt.show()"
   ]
  },
  {
   "cell_type": "markdown",
   "id": "71d23d1f",
   "metadata": {
    "id": "71d23d1f"
   },
   "source": [
    "###### Summary:\n",
    "After applying genetic algorithm, the performance of blending ensemble learning model massively increased as compared to the performance of AdaBoost ensemble learning model.\n"
   ]
  },
  {
   "cell_type": "markdown",
   "id": "bf5fcc96",
   "metadata": {
    "id": "bf5fcc96"
   },
   "source": [
    "###### Main Performance Comparison (RQ1, RQ2, RQ3 and RQ4):"
   ]
  },
  {
   "cell_type": "code",
   "execution_count": 55,
   "id": "53e7e8e6",
   "metadata": {
    "colab": {
     "base_uri": "https://localhost:8080/",
     "height": 438
    },
    "id": "53e7e8e6",
    "outputId": "c547d4ba-cef4-4344-d319-a8ffaa34eb40"
   },
   "outputs": [
    {
     "data": {
      "image/png": "[encoded data removed]",
      "text/plain": [
       "<Figure size 1500x800 with 2 Axes>"
      ]
     },
     "metadata": {},
     "output_type": "display_data"
    }
   ],
   "source": [
    "### Plot Bar chart to compare Boosting and Blending EL with and without GA ###\n",
    "\n",
    "# Initialise the subplot function using number of rows and columns\n",
    "fig = plt.figure()\n",
    "gs = fig.add_gridspec(1, 2, hspace=0, wspace=0)\n",
    "(ax1, ax2) = gs.subplots(sharex='col', sharey='row')\n",
    "\n",
    "# Setting title for plot\n",
    "fig.suptitle('Ensemble Learning Models Performance Comparison With and Without GA', size=15, y=0.98)\n",
    "\n",
    "plotdata1 = pd.DataFrame({\n",
    "\n",
    "    \"Accuracy\":[bo_acc1, bo_acc2],\n",
    "\n",
    "    \"Precision\":[bo_pre1, bo_pre2],\n",
    "\n",
    "    \"Recall\":[bo_re1, bo_re2],\n",
    "\n",
    "    \"F1-score\":[bo_fs1, bo_fs2]\n",
    "\n",
    "    },\n",
    "\n",
    "    index=[\"Without GA\", \"With GA\"])\n",
    "\n",
    "bar1 = plotdata1.plot(kind=\"bar\",figsize=(15, 8), ax=ax1, grid = False)\n",
    "# Customize the grid\n",
    "bar1.grid(axis = \"y\")\n",
    "# Set the gridlines behind the plot\n",
    "bar1.set_axisbelow(True)\n",
    "\n",
    "\n",
    "plotdata2 = pd.DataFrame({\n",
    "\n",
    "    \"Accuracy\":[bl_acc1, bl_acc2],\n",
    "\n",
    "    \"Precision\":[bl_pre1, bl_pre2],\n",
    "\n",
    "    \"Recall\":[bl_re1, bl_re2],\n",
    "\n",
    "    \"F1-score\":[bl_fs1, bl_fs2]\n",
    "\n",
    "    },\n",
    "\n",
    "    index=[\"Without GA\", \"With GA\"])\n",
    "\n",
    "bar2 = plotdata2.plot(kind=\"bar\",figsize=(15, 8), ax=ax2, grid = False)\n",
    "# Customize the grid\n",
    "bar2.grid(axis = \"y\")\n",
    "# Set the gridlines behind the plot\n",
    "bar2.set_axisbelow(True)\n",
    "\n",
    "#Annotate text in bar plot\n",
    "for bar in bar1.patches:\n",
    "    bar1.text(bar.get_x() + bar.get_width() / 2, bar.get_height() + 5,\n",
    "            '{:,.1f}'.format(bar.get_height())+ \"%\",\n",
    "              rotation = 90,\n",
    "              ha='center', va='center',\n",
    "              size=12 )\n",
    "\n",
    "\n",
    "for bar in bar2.patches:\n",
    "    bar2.text(bar.get_x() + bar.get_width() / 2, bar.get_height() + 5,\n",
    "            '{:,.1f}'.format(bar.get_height())+ \"%\",\n",
    "              ha='center', va='center',\n",
    "              rotation = 90,\n",
    "              size=12 )\n",
    "\n",
    "\n",
    "# remove legend from first subplot\n",
    "ax1.get_legend().remove()\n",
    "\n",
    "# remove frame (border) from a figure\n",
    "ax1.spines['top'].set_visible(False)\n",
    "ax2.spines['top'].set_visible(False)\n",
    "ax2.spines['right'].set_visible(False)\n",
    "\n",
    "# making the center frame light color\n",
    "ax2.spines['left'].set_color('lightgrey')\n",
    "\n",
    "# adjust location of the legend in second subplot\n",
    "ax2.legend(loc='center right')\n",
    "ax1.set_ylabel(\"Score\")\n",
    "ax1.set_xlabel(\"Boosting Ensemble Learning Models\")\n",
    "ax2.set_xlabel(\"Blending Ensemble Learning Models\")\n",
    "\n",
    "plt.show()"
   ]
  },
  {
   "cell_type": "markdown",
   "id": "5f34092e",
   "metadata": {
    "id": "5f34092e"
   },
   "source": [
    "###### Final Summary:\n",
    "Without genetic algorithm, the performance of blending ensemble learning model was significantly better than the boosting (AdaBoost) ensemble learning model (RQ1). After applying genetic algorithm, the performance of blending ensemble learning model was even more considerably better than the boosting ensemble learning model (RQ4). Therefore, it has been proved that the blending ensemble learning model is best for predicting heart disease as compared to boosting, especially with genetic algorithm.\n",
    "\n",
    "The use of genetic algorithm affected the performance of both EL models. The performance of boosting ensemble learning model have been slightly increased due to genetic algorithm (RQ2). However, genetic algorithm massively increased the performance of the blending ensemble learning model (RQ3). Therefore, it has been proved that the genetic algorithm have a massive impact on blending ensemble learning model and a slightly positive affect on the boosting ensemble learning model."
   ]
  }
 ],
 "metadata": {
  "accelerator": "GPU",
  "colab": {
   "gpuType": "T4",
   "provenance": []
  },
  "kernelspec": {
   "display_name": "Python 3 (ipykernel)",
   "language": "python",
   "name": "python3"
  },
  "language_info": {
   "codemirror_mode": {
    "name": "ipython",
    "version": 3
   },
   "file_extension": ".py",
   "mimetype": "text/x-python",
   "name": "python",
   "nbconvert_exporter": "python",
   "pygments_lexer": "ipython3",
   "version": "3.8.16"
  }
 },
 "nbformat": 4,
 "nbformat_minor": 5
}
